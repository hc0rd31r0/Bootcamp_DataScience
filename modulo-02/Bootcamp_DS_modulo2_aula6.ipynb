{
  "nbformat": 4,
  "nbformat_minor": 0,
  "metadata": {
    "colab": {
      "name": "Bootcamp_DS_modulo2-aula6.ipynb",
      "provenance": [],
      "collapsed_sections": [
        "Ria-2OQz5m-N",
        "puwjP5n80CkG",
        "h2T4ALccb08k",
        "E2vdzUbu3545"
      ],
      "mount_file_id": "1Cs38vcPHrO5gvCoFX3bp1MEi-I1Qxjwh",
      "authorship_tag": "ABX9TyMmbFrg4fTT+ZBRWVsm6asw",
      "include_colab_link": true
    },
    "kernelspec": {
      "name": "python3",
      "display_name": "Python 3"
    },
    "language_info": {
      "name": "python"
    }
  },
  "cells": [
    {
      "cell_type": "markdown",
      "metadata": {
        "id": "view-in-github",
        "colab_type": "text"
      },
      "source": [
        "<a href=\"https://colab.research.google.com/github/hc0rd31r0/Bootcamp_Data_Science/blob/main/Bootcamp_DS_modulo2_aula6.ipynb\" target=\"_parent\"><img src=\"https://colab.research.google.com/assets/colab-badge.svg\" alt=\"Open In Colab\"/></a>"
      ]
    },
    {
      "cell_type": "markdown",
      "metadata": {
        "id": "ZXZSjO8-3xp5"
      },
      "source": [
        "# Módulo 2 - Aula 01\n",
        "\n",
        "## Fontes externas, limpeza e manipulação\n",
        "\n",
        "### **Carga de dados e importação das bibliotecas**\n",
        "*a importação foi direcionada para o github*\n",
        "\n",
        "**Eliminando visualizações de tabelas e gráficos para diminuir a carga do notebook.**"
      ]
    },
    {
      "cell_type": "code",
      "metadata": {
        "id": "oiebNDgd3sKl"
      },
      "source": [
        "# importando as bibliotecas necessárias\n",
        "import pandas as pd\n",
        "import numpy as np\n",
        "import seaborn as sns\n",
        "import matplotlib as mpl\n",
        "import matplotlib.pyplot as plt\n",
        "import matplotlib.ticker as ticker\n",
        "\n",
        "# configurações default\n",
        "pd.options.display.float_format = \"{:.2f}\".format"
      ],
      "execution_count": 1,
      "outputs": []
    },
    {
      "cell_type": "code",
      "metadata": {
        "id": "v2UZ7Lbj36bV"
      },
      "source": [
        "# dados da alura: https://raw.githubusercontent.com/alura-cursos/agendamento-hospitalar/main/dados/A160324189_28_143_208.csv\n",
        "dados = pd.read_csv(\"https://raw.githubusercontent.com/hc0rd31r0/Bootcamp_Data_Science/main/dados/A102533189_28_143_208-A.csv\",\n",
        "                    engine='python',\n",
        "                    encoding=\"ISO-8859-1\", \n",
        "                    skiprows = 3, sep=\";\", skipfooter=12,\n",
        "                    thousands=\".\", decimal=\",\")\n",
        "colunas_usaveis = dados.mean().index.tolist()\n",
        "colunas_usaveis.insert(0,\"Unidade da Federação\")\n",
        "usaveis = dados[colunas_usaveis]\n",
        "usaveis = usaveis.set_index(\"Unidade da Federação\")\n",
        "ordenado_por_total = usaveis.sort_values(\"Total\", ascending=False)\n",
        "ordenado_por_total = ordenado_por_total.drop(\"Total\",axis=1)\n",
        "colunas_interessantes = ordenado_por_total.columns[6:]\n",
        "ordenado_por_total = ordenado_por_total[colunas_interessantes]\n",
        "ordenado_por_total_milhoes = ordenado_por_total / 1000000\n",
        "mes_mais_recente = ordenado_por_total_milhoes.columns[-4]\n",
        "gastos_do_mais_recente = ordenado_por_total_milhoes[mes_mais_recente]\n",
        "# gastos_do_mais_recente.head()"
      ],
      "execution_count": 2,
      "outputs": []
    },
    {
      "cell_type": "code",
      "metadata": {
        "id": "KmaE4hyF5UbT"
      },
      "source": [
        "gastos_do_mais_recente = gastos_do_mais_recente.sort_values(ascending=False)"
      ],
      "execution_count": 3,
      "outputs": []
    },
    {
      "cell_type": "code",
      "metadata": {
        "id": "YoXCFAxF5tLA"
      },
      "source": [
        " ibge_estimativa = pd.read_excel(\"https://github.com/alura-cursos/agendamento-hospitalar/raw/main/dados/estimativa_dou_2020.xls\")\n",
        "# ibge_estimativa.head()"
      ],
      "execution_count": 4,
      "outputs": []
    },
    {
      "cell_type": "code",
      "metadata": {
        "id": "6fX9Lij75xS9"
      },
      "source": [
        "dados_da_populacao = \"\"\"Posição\tUnidade federativa\tPopulação\t% da pop. total\tPaís comparável\n",
        "(habitantes)\n",
        "\n",
        "1\t São Paulo\t46 289 333\t21,9%\tFlag of Spain.svg Espanha (46 439 864)\n",
        "2\t Minas Gerais\t21 292 666\t10,1%\t Sri Lanka (20 675 000)\n",
        "3\t Rio de Janeiro\t17 366 189\t8,2%\t Países Baixos (16 922 900)\n",
        "4\tBahia Bahia\t14 930 634\t7,1%\t Chade (14 037 000)\n",
        "5\t Paraná\t11 516 840\t5,4%\t Bolívia (11 410 651)\n",
        "6\t Rio Grande do Sul\t11 422 973\t5,4%\t Bélgica (11 250 659)\n",
        "7\t Pernambuco\t9 616 621\t4,5%\t Bielorrússia (9 485 300)\n",
        "8\t Ceará\t9 187 103\t4,3%\t Emirados Árabes Unidos (9 157 000)\n",
        "9\tPará Pará\t8 690 745\t4,1%\t Áustria (8 602 112)\n",
        "10\t Santa Catarina\t7 252 502\t3,4%\t Sérvia (7 114 393)\n",
        "11\t Maranhão\t7 114 598\t3,4%\t Paraguai (7 003 406)\n",
        "12\t Goiás\t7 113 540\t3,4%\t Paraguai (7 003 406)\n",
        "13\t Amazonas\t4 207 714\t2,0%\t Líbano (4 168 000)\n",
        "14\t Espírito Santo\t4 064 052\t1,9%\t Líbano (4 168 000)\n",
        "15\t Paraíba\t4 039 277\t1,9%\t Líbano (4 168 000)\n",
        "16\t Rio Grande do Norte\t3 534 165\t1,7%\t Uruguai (3 415 866)\n",
        "17\t Mato Grosso\t3 526 220\t1,7%\t Uruguai (3 415 866)\n",
        "18\t Alagoas\t3 351 543\t1,6%\t Uruguai (3 415 866)\n",
        "19\t Piauí\t3 281 480\t1,6%\t Kuwait (3 268 431)\n",
        "20\t Distrito Federal\t3 055 149\t1,4%\t Lituânia (2 900 787)\n",
        "21\t Mato Grosso do Sul\t2 809 394\t1,3%\t Jamaica (2 717 991)\n",
        "22\t Sergipe\t2 318 822\t1,1%\t Namíbia (2 280 700)\n",
        "23\t Rondônia\t1 796 460\t0,8%\t Gabão (1 725 000)\n",
        "24\t Tocantins\t1 590 248\t0,7%\t Bahrein (1 359 800)\n",
        "25\t Acre\t894 470\t0,4%\t Fiji (859 178)\n",
        "26\t Amapá\t861 773\t0,4%\t Fiji (859 178)\n",
        "27\t Roraima\t631 181\t0,3%\t Luxemburgo (562 958)\"\"\"\n",
        "\n",
        "# fonte: https://pt.wikipedia.org/wiki/Lista_de_unidades_federativas_do_Brasil_por_popula%C3%A7%C3%A3o"
      ],
      "execution_count": 5,
      "outputs": []
    },
    {
      "cell_type": "code",
      "metadata": {
        "id": "DYi1mg9D6EDG"
      },
      "source": [
        "from io import StringIO\n",
        "\n",
        "dados_da_populacao_io = StringIO(dados_da_populacao)\n",
        "\n",
        "populacao = pd.read_csv(dados_da_populacao_io, sep=\"\\t\")"
      ],
      "execution_count": 6,
      "outputs": []
    },
    {
      "cell_type": "markdown",
      "metadata": {
        "id": "TFQmb6xJsP6Q"
      },
      "source": [
        "Vamos remover o \"Bahia Bahia\" na Unidade federativa da tabela acima"
      ]
    },
    {
      "cell_type": "code",
      "metadata": {
        "id": "xosp9gc9sdzH"
      },
      "source": [
        "gastos_do_mais_recente.index = gastos_do_mais_recente.index.str[3:]\n",
        "# gastos_do_mais_recente.index"
      ],
      "execution_count": 7,
      "outputs": []
    },
    {
      "cell_type": "code",
      "metadata": {
        "id": "_uLUCe93tLpA"
      },
      "source": [
        "populacao = populacao.dropna()\n",
        "populacao[\"populacao\"] = populacao[\"População\"].str.replace(\" \", \"\").astype(int)\n",
        "populacao[\"uf\"] = populacao[\"Unidade federativa\"]\n",
        "populacao = populacao[[\"populacao\", \"uf\"]].set_index('uf')\n",
        "#display(populacao.head())\n",
        "#display(populacao.info())"
      ],
      "execution_count": 8,
      "outputs": []
    },
    {
      "cell_type": "code",
      "metadata": {
        "id": "UwvHK3-Srdyf"
      },
      "source": [
        "for estado in gastos_do_mais_recente.index:\n",
        "  # print(f\"{estado} {estado} => {estado}\")\n",
        "  populacao.index = populacao.index.str.replace(f\"{estado} {estado}\", estado)\n",
        "# populacao.index"
      ],
      "execution_count": 9,
      "outputs": []
    },
    {
      "cell_type": "code",
      "metadata": {
        "id": "tQVRNfuZAyaJ"
      },
      "source": [
        "dados_da_populacao_html_raw = pd.read_html(\"https://pt.wikipedia.org/wiki/Lista_de_unidades_federativas_do_Brasil_por_popula%C3%A7%C3%A3o\", match=\"População\")\n",
        "# Retorna 3 tabelas\n",
        "# dados_da_populacao_html_raw"
      ],
      "execution_count": 10,
      "outputs": []
    },
    {
      "cell_type": "code",
      "metadata": {
        "id": "sgy0tff7hIOp"
      },
      "source": [
        "dados_da_populacao_html = dados_da_populacao_html_raw[0]\n",
        "# usando apenas as colunas que interessam\n",
        "dados_da_populacao_html[\"uf\"] = dados_da_populacao_html[\"Unidade federativa\"].str.strip()\n",
        "dados_da_populacao_html = dados_da_populacao_html.dropna()\n",
        "dados_da_populacao_html[\"populacao\"] = dados_da_populacao_html[\"População\"].str.replace(\" \", \"\")\n",
        "dados_da_populacao_html[\"populacao\"] = dados_da_populacao_html[\"populacao\"].str.replace(\".\", \"\").astype(int)\n",
        "dados_da_populacao_html[\"uf\"] = dados_da_populacao_html[\"Unidade federativa\"]\n",
        "dados_da_populacao_html = dados_da_populacao_html[[\"populacao\", \"uf\"]].set_index(\"uf\")\n",
        "# dados_da_populacao_html.head()"
      ],
      "execution_count": 11,
      "outputs": []
    },
    {
      "cell_type": "markdown",
      "metadata": {
        "id": "Ria-2OQz5m-N"
      },
      "source": [
        "\n",
        "# Módulo 2 - Aula 02\n",
        "\n",
        "## Proporcionalidades e Seaborn\n"
      ]
    },
    {
      "cell_type": "markdown",
      "metadata": {
        "id": "EXiwFZk2_X4c"
      },
      "source": [
        "#### **Desafio 02 e 03**\n",
        "\n",
        "Analisar os outros meses. No gráfico acima temos os valores de Dez/2020, mas para analisar outros meses tenho que buscar os dados novamente, assim vou ajustar as funções de limpeza para receber um parâmetro do mês desejado e não será apresentado a solução de modo simplificado."
      ]
    },
    {
      "cell_type": "markdown",
      "metadata": {
        "id": "puwjP5n80CkG"
      },
      "source": [
        "# Módulo 2 - Aula 03\n",
        "\n",
        "## Ticks, escalas e formatação de imagens\n"
      ]
    },
    {
      "cell_type": "code",
      "metadata": {
        "id": "gTdslq-j0V2Z"
      },
      "source": [
        "ordenado_por_total_uf = ordenado_por_total\n",
        "ordenado_por_total_uf.index = ordenado_por_total.index.str[3:]\n",
        "ordenado_por_total_uf.index.name = 'uf'\n",
        "mensal = ordenado_por_total_uf.T"
      ],
      "execution_count": 12,
      "outputs": []
    },
    {
      "cell_type": "markdown",
      "metadata": {
        "id": "h2T4ALccb08k"
      },
      "source": [
        "# Módulo 2 - Aula 04\n",
        "\n",
        "## Trabalhando com DateTime e Melt"
      ]
    },
    {
      "cell_type": "code",
      "metadata": {
        "id": "sqaaUI5ntR3g"
      },
      "source": [
        "from datetime import date\n",
        "\n",
        "meses = { \n",
        "    'Jan' : 1,\n",
        "    'Fev' : 2,\n",
        "    'Mar' : 3,\n",
        "    'Abr' : 4,\n",
        "    'Mai' : 5,\n",
        "    'Jun' : 6,\n",
        "    'Jul' : 7,\n",
        "    'Ago' : 8,\n",
        "    'Set' : 9,\n",
        "    'Out' : 10,\n",
        "    'Nov' : 11,\n",
        "    'Dez' : 12\n",
        "}\n",
        "\n",
        "def para_dia(ano_mes):\n",
        "  periodo = ano_mes.split(\"/\")\n",
        "  ano: int = int(periodo[0])\n",
        "  mes: int = meses[periodo[1]]\n",
        "  return date( ano, mes, 1)"
      ],
      "execution_count": 13,
      "outputs": []
    },
    {
      "cell_type": "code",
      "metadata": {
        "id": "mf4TnbHCxWAa"
      },
      "source": [
        "# fazendo assim só para não matar nosso df mensal\n",
        "mensal_data_index = mensal.copy()\n",
        "mensal_data_index.index = mensal_data_index.index.map(para_dia)"
      ],
      "execution_count": 14,
      "outputs": []
    },
    {
      "cell_type": "markdown",
      "metadata": {
        "id": "xeZH48XKkGvD"
      },
      "source": [
        "##### Apresentação do MELT"
      ]
    },
    {
      "cell_type": "code",
      "metadata": {
        "colab": {
          "base_uri": "https://localhost:8080/",
          "height": 649
        },
        "id": "5sn9VkaABq6P",
        "outputId": "b878ac4e-8a96-4384-e7bc-e5aeb79dae1a"
      },
      "source": [
        "mensal_data_index"
      ],
      "execution_count": 15,
      "outputs": [
        {
          "output_type": "execute_result",
          "data": {
            "text/html": [
              "<div>\n",
              "<style scoped>\n",
              "    .dataframe tbody tr th:only-of-type {\n",
              "        vertical-align: middle;\n",
              "    }\n",
              "\n",
              "    .dataframe tbody tr th {\n",
              "        vertical-align: top;\n",
              "    }\n",
              "\n",
              "    .dataframe thead th {\n",
              "        text-align: right;\n",
              "    }\n",
              "</style>\n",
              "<table border=\"1\" class=\"dataframe\">\n",
              "  <thead>\n",
              "    <tr style=\"text-align: right;\">\n",
              "      <th>uf</th>\n",
              "      <th>São Paulo</th>\n",
              "      <th>Minas Gerais</th>\n",
              "      <th>Paraná</th>\n",
              "      <th>Rio Grande do Sul</th>\n",
              "      <th>Rio de Janeiro</th>\n",
              "      <th>Bahia</th>\n",
              "      <th>Pernambuco</th>\n",
              "      <th>Santa Catarina</th>\n",
              "      <th>Ceará</th>\n",
              "      <th>Goiás</th>\n",
              "      <th>Pará</th>\n",
              "      <th>Maranhão</th>\n",
              "      <th>Espírito Santo</th>\n",
              "      <th>Rio Grande do Norte</th>\n",
              "      <th>Paraíba</th>\n",
              "      <th>Distrito Federal</th>\n",
              "      <th>Mato Grosso do Sul</th>\n",
              "      <th>Piauí</th>\n",
              "      <th>Alagoas</th>\n",
              "      <th>Mato Grosso</th>\n",
              "      <th>Amazonas</th>\n",
              "      <th>Sergipe</th>\n",
              "      <th>Tocantins</th>\n",
              "      <th>Rondônia</th>\n",
              "      <th>Acre</th>\n",
              "      <th>Roraima</th>\n",
              "      <th>Amapá</th>\n",
              "    </tr>\n",
              "  </thead>\n",
              "  <tbody>\n",
              "    <tr>\n",
              "      <th>2008-02-01</th>\n",
              "      <td>172961999.58</td>\n",
              "      <td>70301089.50</td>\n",
              "      <td>48855046.46</td>\n",
              "      <td>45897704.82</td>\n",
              "      <td>44128159.73</td>\n",
              "      <td>33410124.06</td>\n",
              "      <td>26222079.10</td>\n",
              "      <td>24409572.92</td>\n",
              "      <td>27643304.86</td>\n",
              "      <td>18149374.27</td>\n",
              "      <td>20126081.01</td>\n",
              "      <td>13452263.93</td>\n",
              "      <td>10032886.43</td>\n",
              "      <td>9110108.87</td>\n",
              "      <td>10871589.62</td>\n",
              "      <td>10215956.80</td>\n",
              "      <td>8279288.79</td>\n",
              "      <td>9711680.20</td>\n",
              "      <td>8112220.30</td>\n",
              "      <td>7929894.93</td>\n",
              "      <td>7934652.10</td>\n",
              "      <td>4636850.76</td>\n",
              "      <td>5051932.07</td>\n",
              "      <td>1940792.63</td>\n",
              "      <td>1743978.66</td>\n",
              "      <td>771687.83</td>\n",
              "      <td>1275063.72</td>\n",
              "    </tr>\n",
              "    <tr>\n",
              "      <th>2008-03-01</th>\n",
              "      <td>170556696.16</td>\n",
              "      <td>79119005.51</td>\n",
              "      <td>55611791.07</td>\n",
              "      <td>52928695.92</td>\n",
              "      <td>42900847.02</td>\n",
              "      <td>41316672.72</td>\n",
              "      <td>30716361.81</td>\n",
              "      <td>27483480.50</td>\n",
              "      <td>30085370.22</td>\n",
              "      <td>20992213.03</td>\n",
              "      <td>22149375.82</td>\n",
              "      <td>14750895.33</td>\n",
              "      <td>12262049.08</td>\n",
              "      <td>10126626.54</td>\n",
              "      <td>12348758.14</td>\n",
              "      <td>11627918.26</td>\n",
              "      <td>9793888.78</td>\n",
              "      <td>10428191.09</td>\n",
              "      <td>9210505.56</td>\n",
              "      <td>9416367.68</td>\n",
              "      <td>8641517.13</td>\n",
              "      <td>5017838.07</td>\n",
              "      <td>5200151.87</td>\n",
              "      <td>1955721.68</td>\n",
              "      <td>2057439.02</td>\n",
              "      <td>876091.18</td>\n",
              "      <td>1177745.93</td>\n",
              "    </tr>\n",
              "    <tr>\n",
              "      <th>2008-04-01</th>\n",
              "      <td>170338163.23</td>\n",
              "      <td>79046322.41</td>\n",
              "      <td>56115135.82</td>\n",
              "      <td>51972416.77</td>\n",
              "      <td>45306499.53</td>\n",
              "      <td>42826993.62</td>\n",
              "      <td>30589332.79</td>\n",
              "      <td>27806641.44</td>\n",
              "      <td>31376221.00</td>\n",
              "      <td>21049477.30</td>\n",
              "      <td>23436682.75</td>\n",
              "      <td>15148647.11</td>\n",
              "      <td>12453466.98</td>\n",
              "      <td>10964234.85</td>\n",
              "      <td>12680965.13</td>\n",
              "      <td>11922015.36</td>\n",
              "      <td>8997542.75</td>\n",
              "      <td>10227943.00</td>\n",
              "      <td>10466691.94</td>\n",
              "      <td>9390588.03</td>\n",
              "      <td>8531576.49</td>\n",
              "      <td>5265951.03</td>\n",
              "      <td>5343714.73</td>\n",
              "      <td>2143353.81</td>\n",
              "      <td>2057829.69</td>\n",
              "      <td>896952.53</td>\n",
              "      <td>1396371.51</td>\n",
              "    </tr>\n",
              "    <tr>\n",
              "      <th>2008-05-01</th>\n",
              "      <td>172462057.87</td>\n",
              "      <td>79268070.12</td>\n",
              "      <td>55574831.93</td>\n",
              "      <td>51679350.79</td>\n",
              "      <td>43951349.46</td>\n",
              "      <td>42086263.49</td>\n",
              "      <td>31420089.90</td>\n",
              "      <td>28354279.52</td>\n",
              "      <td>31189904.62</td>\n",
              "      <td>19162546.79</td>\n",
              "      <td>23861080.80</td>\n",
              "      <td>14543679.92</td>\n",
              "      <td>11789786.09</td>\n",
              "      <td>11032871.23</td>\n",
              "      <td>13258411.71</td>\n",
              "      <td>11900817.00</td>\n",
              "      <td>9842108.59</td>\n",
              "      <td>10562148.66</td>\n",
              "      <td>9844096.03</td>\n",
              "      <td>9378197.25</td>\n",
              "      <td>9079902.15</td>\n",
              "      <td>5367094.94</td>\n",
              "      <td>5344487.99</td>\n",
              "      <td>2280382.58</td>\n",
              "      <td>2226577.93</td>\n",
              "      <td>1027288.73</td>\n",
              "      <td>1411520.77</td>\n",
              "    </tr>\n",
              "    <tr>\n",
              "      <th>2008-06-01</th>\n",
              "      <td>175492995.85</td>\n",
              "      <td>79619189.20</td>\n",
              "      <td>56094754.74</td>\n",
              "      <td>53759674.01</td>\n",
              "      <td>44111107.27</td>\n",
              "      <td>39910042.40</td>\n",
              "      <td>28947510.92</td>\n",
              "      <td>28993292.76</td>\n",
              "      <td>29463965.11</td>\n",
              "      <td>20362996.88</td>\n",
              "      <td>23502915.90</td>\n",
              "      <td>14553978.06</td>\n",
              "      <td>11889687.35</td>\n",
              "      <td>10450599.08</td>\n",
              "      <td>12246686.33</td>\n",
              "      <td>11969271.76</td>\n",
              "      <td>10257782.00</td>\n",
              "      <td>10465088.93</td>\n",
              "      <td>10299459.18</td>\n",
              "      <td>9450300.60</td>\n",
              "      <td>8646295.77</td>\n",
              "      <td>4981036.36</td>\n",
              "      <td>5398413.09</td>\n",
              "      <td>2624542.97</td>\n",
              "      <td>2112576.82</td>\n",
              "      <td>938293.54</td>\n",
              "      <td>1420892.01</td>\n",
              "    </tr>\n",
              "    <tr>\n",
              "      <th>...</th>\n",
              "      <td>...</td>\n",
              "      <td>...</td>\n",
              "      <td>...</td>\n",
              "      <td>...</td>\n",
              "      <td>...</td>\n",
              "      <td>...</td>\n",
              "      <td>...</td>\n",
              "      <td>...</td>\n",
              "      <td>...</td>\n",
              "      <td>...</td>\n",
              "      <td>...</td>\n",
              "      <td>...</td>\n",
              "      <td>...</td>\n",
              "      <td>...</td>\n",
              "      <td>...</td>\n",
              "      <td>...</td>\n",
              "      <td>...</td>\n",
              "      <td>...</td>\n",
              "      <td>...</td>\n",
              "      <td>...</td>\n",
              "      <td>...</td>\n",
              "      <td>...</td>\n",
              "      <td>...</td>\n",
              "      <td>...</td>\n",
              "      <td>...</td>\n",
              "      <td>...</td>\n",
              "      <td>...</td>\n",
              "    </tr>\n",
              "    <tr>\n",
              "      <th>2020-11-01</th>\n",
              "      <td>324599773.40</td>\n",
              "      <td>168564708.16</td>\n",
              "      <td>133443307.36</td>\n",
              "      <td>116738266.69</td>\n",
              "      <td>82807309.85</td>\n",
              "      <td>81866088.87</td>\n",
              "      <td>71810830.78</td>\n",
              "      <td>79448753.69</td>\n",
              "      <td>54026288.42</td>\n",
              "      <td>39785408.90</td>\n",
              "      <td>37043032.10</td>\n",
              "      <td>32446802.41</td>\n",
              "      <td>35708727.33</td>\n",
              "      <td>24312931.74</td>\n",
              "      <td>17799651.06</td>\n",
              "      <td>20668526.36</td>\n",
              "      <td>21418665.16</td>\n",
              "      <td>20021998.76</td>\n",
              "      <td>18857578.34</td>\n",
              "      <td>18316623.02</td>\n",
              "      <td>20451573.77</td>\n",
              "      <td>11816872.93</td>\n",
              "      <td>509009.74</td>\n",
              "      <td>8759013.71</td>\n",
              "      <td>3393958.27</td>\n",
              "      <td>3527263.23</td>\n",
              "      <td>2714710.93</td>\n",
              "    </tr>\n",
              "    <tr>\n",
              "      <th>2020-12-01</th>\n",
              "      <td>326846228.95</td>\n",
              "      <td>166376967.67</td>\n",
              "      <td>122146256.92</td>\n",
              "      <td>116833971.73</td>\n",
              "      <td>90567351.87</td>\n",
              "      <td>83131785.74</td>\n",
              "      <td>77877186.72</td>\n",
              "      <td>72720675.11</td>\n",
              "      <td>50271552.33</td>\n",
              "      <td>37614253.55</td>\n",
              "      <td>36914437.92</td>\n",
              "      <td>30927070.93</td>\n",
              "      <td>40500910.57</td>\n",
              "      <td>27277816.41</td>\n",
              "      <td>20355212.85</td>\n",
              "      <td>22552034.04</td>\n",
              "      <td>21387005.58</td>\n",
              "      <td>19352220.14</td>\n",
              "      <td>17462663.52</td>\n",
              "      <td>18852854.81</td>\n",
              "      <td>21546059.48</td>\n",
              "      <td>10997949.03</td>\n",
              "      <td>689383.43</td>\n",
              "      <td>9003402.23</td>\n",
              "      <td>3711660.71</td>\n",
              "      <td>3125021.90</td>\n",
              "      <td>2826612.42</td>\n",
              "    </tr>\n",
              "    <tr>\n",
              "      <th>2021-01-01</th>\n",
              "      <td>324115425.70</td>\n",
              "      <td>155064483.25</td>\n",
              "      <td>106948897.53</td>\n",
              "      <td>102317646.36</td>\n",
              "      <td>87201907.99</td>\n",
              "      <td>70325599.07</td>\n",
              "      <td>76810042.34</td>\n",
              "      <td>57281832.19</td>\n",
              "      <td>43743425.74</td>\n",
              "      <td>35655886.73</td>\n",
              "      <td>33887773.65</td>\n",
              "      <td>26797697.76</td>\n",
              "      <td>33767261.13</td>\n",
              "      <td>23228004.80</td>\n",
              "      <td>20149018.68</td>\n",
              "      <td>22573869.50</td>\n",
              "      <td>16027788.65</td>\n",
              "      <td>18437275.64</td>\n",
              "      <td>16496784.27</td>\n",
              "      <td>15890528.31</td>\n",
              "      <td>24439059.57</td>\n",
              "      <td>7149727.62</td>\n",
              "      <td>347626.85</td>\n",
              "      <td>8414690.60</td>\n",
              "      <td>3005561.16</td>\n",
              "      <td>3209323.68</td>\n",
              "      <td>2513766.36</td>\n",
              "    </tr>\n",
              "    <tr>\n",
              "      <th>2021-02-01</th>\n",
              "      <td>268193064.06</td>\n",
              "      <td>119877417.15</td>\n",
              "      <td>83130175.37</td>\n",
              "      <td>84404640.00</td>\n",
              "      <td>60873103.08</td>\n",
              "      <td>55544579.04</td>\n",
              "      <td>62259409.32</td>\n",
              "      <td>47429335.91</td>\n",
              "      <td>30186951.00</td>\n",
              "      <td>32253788.65</td>\n",
              "      <td>23343222.94</td>\n",
              "      <td>23260245.95</td>\n",
              "      <td>25669612.63</td>\n",
              "      <td>18186942.80</td>\n",
              "      <td>16996494.03</td>\n",
              "      <td>19004029.87</td>\n",
              "      <td>11428462.42</td>\n",
              "      <td>13636005.36</td>\n",
              "      <td>12792571.64</td>\n",
              "      <td>13207979.82</td>\n",
              "      <td>13679358.06</td>\n",
              "      <td>4129845.36</td>\n",
              "      <td>416534.32</td>\n",
              "      <td>6039419.59</td>\n",
              "      <td>2272733.90</td>\n",
              "      <td>3044798.77</td>\n",
              "      <td>1534733.18</td>\n",
              "    </tr>\n",
              "    <tr>\n",
              "      <th>2021-03-01</th>\n",
              "      <td>177408317.71</td>\n",
              "      <td>79780838.00</td>\n",
              "      <td>43480729.07</td>\n",
              "      <td>37798832.80</td>\n",
              "      <td>49149884.48</td>\n",
              "      <td>31314602.44</td>\n",
              "      <td>39472738.81</td>\n",
              "      <td>19375822.56</td>\n",
              "      <td>17173151.55</td>\n",
              "      <td>24867001.02</td>\n",
              "      <td>13069564.31</td>\n",
              "      <td>17294509.11</td>\n",
              "      <td>15606368.11</td>\n",
              "      <td>8733455.36</td>\n",
              "      <td>12517894.05</td>\n",
              "      <td>14731938.43</td>\n",
              "      <td>4035989.77</td>\n",
              "      <td>9542151.53</td>\n",
              "      <td>8180887.21</td>\n",
              "      <td>8835890.09</td>\n",
              "      <td>6799060.80</td>\n",
              "      <td>3081081.42</td>\n",
              "      <td>928756.84</td>\n",
              "      <td>4732441.04</td>\n",
              "      <td>1137341.65</td>\n",
              "      <td>2381844.31</td>\n",
              "      <td>989155.40</td>\n",
              "    </tr>\n",
              "  </tbody>\n",
              "</table>\n",
              "<p>158 rows × 27 columns</p>\n",
              "</div>"
            ],
            "text/plain": [
              "uf            São Paulo  Minas Gerais  ...    Roraima      Amapá\n",
              "2008-02-01 172961999.58   70301089.50  ...  771687.83 1275063.72\n",
              "2008-03-01 170556696.16   79119005.51  ...  876091.18 1177745.93\n",
              "2008-04-01 170338163.23   79046322.41  ...  896952.53 1396371.51\n",
              "2008-05-01 172462057.87   79268070.12  ... 1027288.73 1411520.77\n",
              "2008-06-01 175492995.85   79619189.20  ...  938293.54 1420892.01\n",
              "...                 ...           ...  ...        ...        ...\n",
              "2020-11-01 324599773.40  168564708.16  ... 3527263.23 2714710.93\n",
              "2020-12-01 326846228.95  166376967.67  ... 3125021.90 2826612.42\n",
              "2021-01-01 324115425.70  155064483.25  ... 3209323.68 2513766.36\n",
              "2021-02-01 268193064.06  119877417.15  ... 3044798.77 1534733.18\n",
              "2021-03-01 177408317.71   79780838.00  ... 2381844.31  989155.40\n",
              "\n",
              "[158 rows x 27 columns]"
            ]
          },
          "metadata": {
            "tags": []
          },
          "execution_count": 15
        }
      ]
    },
    {
      "cell_type": "markdown",
      "metadata": {
        "id": "yEn4iSNhlD1I"
      },
      "source": [
        "Como ter mais de um x?\n",
        "```\n",
        "MES        VALOR     ESTADO\n",
        "2008-03    170.48    Sao Paulo\n",
        "2008-03     79.12    Minas Gerais\n",
        "...\n",
        "```\n",
        "\n",
        "Tem que indicar para o Melt, qual coluna não quer \"derreter\", no nosso caso é o index."
      ]
    },
    {
      "cell_type": "code",
      "metadata": {
        "id": "aI5YEP7c0wqw"
      },
      "source": [
        "mensal_aberto = mensal_data_index.reset_index().melt(id_vars=[\"index\"], value_vars=mensal_data_index.columns)\n",
        "mensal_aberto.columns = [\"mes\",\"uf\",\"gasto\"]\n",
        "mensal_aberto[\"gasto_milhoes\"] = mensal_aberto[\"gasto\"] / 1000000\n",
        "# mensal_aberto"
      ],
      "execution_count": 16,
      "outputs": []
    },
    {
      "cell_type": "code",
      "metadata": {
        "id": "AyIOFd4WB5Wv"
      },
      "source": [
        "#from datetime import datetime\n",
        "#datainicial = datetime.strptime('31/12/2007 00:00:00', '%d/%m/%Y %H:%M:%S').date()\n",
        "#datafinal   = datetime.strptime('31/12/2008 23:59:59', '%d/%m/%Y %H:%M:%S').date()\n",
        "#gasto_minas = mensal_aberto.query(\"uf == 'Minas Gerais' and mes > @datainicial and mes <= @datafinal\")\n",
        "#gasto_minas"
      ],
      "execution_count": 17,
      "outputs": []
    },
    {
      "cell_type": "markdown",
      "metadata": {
        "id": "Mo4S6h-wnKmJ"
      },
      "source": [
        "[Seaborn.lineplot  Documentation](https://seaborn.pydata.org/generated/seaborn.lineplot.html)\n",
        "\n",
        "\"*By default, the plot aggregates over multiple y values at each value of x and shows an estimate of the central tendency and a confidence interval for that estimate.*\"\n",
        "\n",
        "Isso é nossa linha azul no gráfico (Intervalo de confiança).\n",
        "\n",
        "hue = Agrupar os dados por um \"valor/coluna\""
      ]
    },
    {
      "cell_type": "markdown",
      "metadata": {
        "id": "E2vdzUbu3545"
      },
      "source": [
        "# Módulo 2 - Aula 05\n",
        "\n",
        "## Manipulando datas e gerando novas análises\n",
        "\n",
        "[Observatório COVID-19](https://covid19br.github.io/)\n",
        "\n",
        "Para continuar temos que alterar o tipo da nossa coluna 'mes', pois ela é do tipo object, e para extrair o Ano e mês do valor que é datetime (date), nossa coluna deve ser do tipo datetime. Vamos ajustar também o nome da coluna."
      ]
    },
    {
      "cell_type": "code",
      "metadata": {
        "id": "mBBjzfTYBzD0"
      },
      "source": [
        "novo_mensal_aberto = mensal_data_index.reset_index().melt(id_vars=[\"index\"], value_vars=mensal_data_index.columns)\n",
        "novo_mensal_aberto.columns = [\"dia_mes_ano\",\"uf\",\"gasto\"]\n",
        "novo_mensal_aberto[\"dia_mes_ano\"] = novo_mensal_aberto[\"dia_mes_ano\"].astype('datetime64')\n",
        "novo_mensal_aberto[\"gasto_milhoes\"] = novo_mensal_aberto[\"gasto\"] / 1000000\n",
        "# novo_mensal_aberto[\"dia_mes_ano\"].head()"
      ],
      "execution_count": 18,
      "outputs": []
    },
    {
      "cell_type": "code",
      "metadata": {
        "id": "MdmRMWNyA30L"
      },
      "source": [
        "novo_mensal_aberto[\"mes\"] = novo_mensal_aberto[\"dia_mes_ano\"].dt.month\n",
        "novo_mensal_aberto[\"ano\"] = novo_mensal_aberto[\"dia_mes_ano\"].dt.year\n",
        "# novo_mensal_aberto.head()"
      ],
      "execution_count": 19,
      "outputs": []
    },
    {
      "cell_type": "code",
      "metadata": {
        "id": "c_Mt5VqeD2fy"
      },
      "source": [
        "dias_por_mes = {\n",
        "    1 : 31,\n",
        "    2 : 28,\n",
        "    3 : 31,\n",
        "    4 : 30,\n",
        "    5 : 31,\n",
        "    6 : 30,\n",
        "    7 : 31,\n",
        "    8 : 31,\n",
        "    9 : 30,\n",
        "    10 : 31,\n",
        "    11 : 30,\n",
        "    12 : 31\n",
        "}"
      ],
      "execution_count": 20,
      "outputs": []
    },
    {
      "cell_type": "code",
      "metadata": {
        "colab": {
          "base_uri": "https://localhost:8080/",
          "height": 0
        },
        "id": "TCnfQGVtLdSx",
        "outputId": "abe1b11f-7f48-47b0-d780-a75b44c74ddb"
      },
      "source": [
        "novo_mensal_aberto['gasto_diario'] = novo_mensal_aberto['gasto'] / novo_mensal_aberto['mes'].map(dias_por_mes)\n",
        "novo_mensal_aberto['gasto_milhoes_diario'] = novo_mensal_aberto['gasto_milhoes'] / novo_mensal_aberto['mes'].map(dias_por_mes)\n",
        "novo_mensal_aberto.head()"
      ],
      "execution_count": 21,
      "outputs": [
        {
          "output_type": "execute_result",
          "data": {
            "text/html": [
              "<div>\n",
              "<style scoped>\n",
              "    .dataframe tbody tr th:only-of-type {\n",
              "        vertical-align: middle;\n",
              "    }\n",
              "\n",
              "    .dataframe tbody tr th {\n",
              "        vertical-align: top;\n",
              "    }\n",
              "\n",
              "    .dataframe thead th {\n",
              "        text-align: right;\n",
              "    }\n",
              "</style>\n",
              "<table border=\"1\" class=\"dataframe\">\n",
              "  <thead>\n",
              "    <tr style=\"text-align: right;\">\n",
              "      <th></th>\n",
              "      <th>dia_mes_ano</th>\n",
              "      <th>uf</th>\n",
              "      <th>gasto</th>\n",
              "      <th>gasto_milhoes</th>\n",
              "      <th>mes</th>\n",
              "      <th>ano</th>\n",
              "      <th>gasto_diario</th>\n",
              "      <th>gasto_milhoes_diario</th>\n",
              "    </tr>\n",
              "  </thead>\n",
              "  <tbody>\n",
              "    <tr>\n",
              "      <th>0</th>\n",
              "      <td>2008-02-01</td>\n",
              "      <td>São Paulo</td>\n",
              "      <td>172961999.58</td>\n",
              "      <td>172.96</td>\n",
              "      <td>2</td>\n",
              "      <td>2008</td>\n",
              "      <td>6177214.27</td>\n",
              "      <td>6.18</td>\n",
              "    </tr>\n",
              "    <tr>\n",
              "      <th>1</th>\n",
              "      <td>2008-03-01</td>\n",
              "      <td>São Paulo</td>\n",
              "      <td>170556696.16</td>\n",
              "      <td>170.56</td>\n",
              "      <td>3</td>\n",
              "      <td>2008</td>\n",
              "      <td>5501828.91</td>\n",
              "      <td>5.50</td>\n",
              "    </tr>\n",
              "    <tr>\n",
              "      <th>2</th>\n",
              "      <td>2008-04-01</td>\n",
              "      <td>São Paulo</td>\n",
              "      <td>170338163.23</td>\n",
              "      <td>170.34</td>\n",
              "      <td>4</td>\n",
              "      <td>2008</td>\n",
              "      <td>5677938.77</td>\n",
              "      <td>5.68</td>\n",
              "    </tr>\n",
              "    <tr>\n",
              "      <th>3</th>\n",
              "      <td>2008-05-01</td>\n",
              "      <td>São Paulo</td>\n",
              "      <td>172462057.87</td>\n",
              "      <td>172.46</td>\n",
              "      <td>5</td>\n",
              "      <td>2008</td>\n",
              "      <td>5563292.19</td>\n",
              "      <td>5.56</td>\n",
              "    </tr>\n",
              "    <tr>\n",
              "      <th>4</th>\n",
              "      <td>2008-06-01</td>\n",
              "      <td>São Paulo</td>\n",
              "      <td>175492995.85</td>\n",
              "      <td>175.49</td>\n",
              "      <td>6</td>\n",
              "      <td>2008</td>\n",
              "      <td>5849766.53</td>\n",
              "      <td>5.85</td>\n",
              "    </tr>\n",
              "  </tbody>\n",
              "</table>\n",
              "</div>"
            ],
            "text/plain": [
              "  dia_mes_ano         uf        gasto  ...   ano  gasto_diario  gasto_milhoes_diario\n",
              "0  2008-02-01  São Paulo 172961999.58  ...  2008    6177214.27                  6.18\n",
              "1  2008-03-01  São Paulo 170556696.16  ...  2008    5501828.91                  5.50\n",
              "2  2008-04-01  São Paulo 170338163.23  ...  2008    5677938.77                  5.68\n",
              "3  2008-05-01  São Paulo 172462057.87  ...  2008    5563292.19                  5.56\n",
              "4  2008-06-01  São Paulo 175492995.85  ...  2008    5849766.53                  5.85\n",
              "\n",
              "[5 rows x 8 columns]"
            ]
          },
          "metadata": {
            "tags": []
          },
          "execution_count": 21
        }
      ]
    },
    {
      "cell_type": "code",
      "metadata": {
        "id": "abA3yYJBMWNr"
      },
      "source": [
        "# plt.figure(figsize=(15,6))\n",
        "# ax = sns.lineplot(data=novo_mensal_aberto.query(\"uf == 'São Paulo'\"), x=\"mes\", y=\"gasto_milhoes_diario\", hue=\"ano\", palette=\"dark\")\n",
        "# plt.ylim(0,12)\n",
        "# plt.grid(color='black', linestyle='--', linewidth=0.5)\n",
        "# plt.legend(fontsize='large', frameon=True, facecolor='white', shadow=True, bbox_to_anchor=(1.1, 1))\n",
        "# plt.show()"
      ],
      "execution_count": 22,
      "outputs": []
    },
    {
      "cell_type": "markdown",
      "metadata": {
        "id": "EDZoW2oOFe5E"
      },
      "source": [
        "##**Desafios**\n",
        "\n",
        "Desafio 01: Melhorar o gráfico ano a ano:\n",
        "\n",
        "* Mudar a palete de cor, colocar um título descritivo, adicionar ticks com o nome de cada mês no eixo x.\n",
        "\n",
        "Desafio 02: Pegar estados de climas diferentes (por exemplo, norte e sul) e plotar o gráfico de linhas, comparar ambos e compartilhar suas análises.\n"
      ]
    },
    {
      "cell_type": "markdown",
      "metadata": {
        "id": "TZye_67gHTS7"
      },
      "source": [
        "O que aprendemos nessa aula:\n",
        "\n",
        "---\n",
        "\n",
        "* Como fazer uma comparação ano a ano dos custos do SUS usando o DateTime;\n",
        "* Como analisar e manipular os dados para criar análises mais avançadas."
      ]
    },
    {
      "cell_type": "markdown",
      "metadata": {
        "id": "2ID8de3RTxk2"
      },
      "source": [
        "# Módulo 2 - Aula 06\n",
        "\n",
        "## Agrupando dados e analisando por categoria\n"
      ]
    },
    {
      "cell_type": "code",
      "metadata": {
        "colab": {
          "base_uri": "https://localhost:8080/",
          "height": 205
        },
        "id": "_VGwdXUdUApk",
        "outputId": "39d5ce3c-2e7b-40a4-ef64-b6bf5a1b9502"
      },
      "source": [
        "novo_mensal_aberto.head()"
      ],
      "execution_count": 23,
      "outputs": [
        {
          "output_type": "execute_result",
          "data": {
            "text/html": [
              "<div>\n",
              "<style scoped>\n",
              "    .dataframe tbody tr th:only-of-type {\n",
              "        vertical-align: middle;\n",
              "    }\n",
              "\n",
              "    .dataframe tbody tr th {\n",
              "        vertical-align: top;\n",
              "    }\n",
              "\n",
              "    .dataframe thead th {\n",
              "        text-align: right;\n",
              "    }\n",
              "</style>\n",
              "<table border=\"1\" class=\"dataframe\">\n",
              "  <thead>\n",
              "    <tr style=\"text-align: right;\">\n",
              "      <th></th>\n",
              "      <th>dia_mes_ano</th>\n",
              "      <th>uf</th>\n",
              "      <th>gasto</th>\n",
              "      <th>gasto_milhoes</th>\n",
              "      <th>mes</th>\n",
              "      <th>ano</th>\n",
              "      <th>gasto_diario</th>\n",
              "      <th>gasto_milhoes_diario</th>\n",
              "    </tr>\n",
              "  </thead>\n",
              "  <tbody>\n",
              "    <tr>\n",
              "      <th>0</th>\n",
              "      <td>2008-02-01</td>\n",
              "      <td>São Paulo</td>\n",
              "      <td>172961999.58</td>\n",
              "      <td>172.96</td>\n",
              "      <td>2</td>\n",
              "      <td>2008</td>\n",
              "      <td>6177214.27</td>\n",
              "      <td>6.18</td>\n",
              "    </tr>\n",
              "    <tr>\n",
              "      <th>1</th>\n",
              "      <td>2008-03-01</td>\n",
              "      <td>São Paulo</td>\n",
              "      <td>170556696.16</td>\n",
              "      <td>170.56</td>\n",
              "      <td>3</td>\n",
              "      <td>2008</td>\n",
              "      <td>5501828.91</td>\n",
              "      <td>5.50</td>\n",
              "    </tr>\n",
              "    <tr>\n",
              "      <th>2</th>\n",
              "      <td>2008-04-01</td>\n",
              "      <td>São Paulo</td>\n",
              "      <td>170338163.23</td>\n",
              "      <td>170.34</td>\n",
              "      <td>4</td>\n",
              "      <td>2008</td>\n",
              "      <td>5677938.77</td>\n",
              "      <td>5.68</td>\n",
              "    </tr>\n",
              "    <tr>\n",
              "      <th>3</th>\n",
              "      <td>2008-05-01</td>\n",
              "      <td>São Paulo</td>\n",
              "      <td>172462057.87</td>\n",
              "      <td>172.46</td>\n",
              "      <td>5</td>\n",
              "      <td>2008</td>\n",
              "      <td>5563292.19</td>\n",
              "      <td>5.56</td>\n",
              "    </tr>\n",
              "    <tr>\n",
              "      <th>4</th>\n",
              "      <td>2008-06-01</td>\n",
              "      <td>São Paulo</td>\n",
              "      <td>175492995.85</td>\n",
              "      <td>175.49</td>\n",
              "      <td>6</td>\n",
              "      <td>2008</td>\n",
              "      <td>5849766.53</td>\n",
              "      <td>5.85</td>\n",
              "    </tr>\n",
              "  </tbody>\n",
              "</table>\n",
              "</div>"
            ],
            "text/plain": [
              "  dia_mes_ano         uf        gasto  ...   ano  gasto_diario  gasto_milhoes_diario\n",
              "0  2008-02-01  São Paulo 172961999.58  ...  2008    6177214.27                  6.18\n",
              "1  2008-03-01  São Paulo 170556696.16  ...  2008    5501828.91                  5.50\n",
              "2  2008-04-01  São Paulo 170338163.23  ...  2008    5677938.77                  5.68\n",
              "3  2008-05-01  São Paulo 172462057.87  ...  2008    5563292.19                  5.56\n",
              "4  2008-06-01  São Paulo 175492995.85  ...  2008    5849766.53                  5.85\n",
              "\n",
              "[5 rows x 8 columns]"
            ]
          },
          "metadata": {
            "tags": []
          },
          "execution_count": 23
        }
      ]
    },
    {
      "cell_type": "code",
      "metadata": {
        "colab": {
          "base_uri": "https://localhost:8080/",
          "height": 205
        },
        "id": "Zk2dProVV6q7",
        "outputId": "9ea9ad6c-6856-4370-8d92-07a9413d31b6"
      },
      "source": [
        "estado_a_analisar = novo_mensal_aberto.query(\"uf == 'Paraná'\")\n",
        "estado_a_analisar.head()"
      ],
      "execution_count": 24,
      "outputs": [
        {
          "output_type": "execute_result",
          "data": {
            "text/html": [
              "<div>\n",
              "<style scoped>\n",
              "    .dataframe tbody tr th:only-of-type {\n",
              "        vertical-align: middle;\n",
              "    }\n",
              "\n",
              "    .dataframe tbody tr th {\n",
              "        vertical-align: top;\n",
              "    }\n",
              "\n",
              "    .dataframe thead th {\n",
              "        text-align: right;\n",
              "    }\n",
              "</style>\n",
              "<table border=\"1\" class=\"dataframe\">\n",
              "  <thead>\n",
              "    <tr style=\"text-align: right;\">\n",
              "      <th></th>\n",
              "      <th>dia_mes_ano</th>\n",
              "      <th>uf</th>\n",
              "      <th>gasto</th>\n",
              "      <th>gasto_milhoes</th>\n",
              "      <th>mes</th>\n",
              "      <th>ano</th>\n",
              "      <th>gasto_diario</th>\n",
              "      <th>gasto_milhoes_diario</th>\n",
              "    </tr>\n",
              "  </thead>\n",
              "  <tbody>\n",
              "    <tr>\n",
              "      <th>316</th>\n",
              "      <td>2008-02-01</td>\n",
              "      <td>Paraná</td>\n",
              "      <td>48855046.46</td>\n",
              "      <td>48.86</td>\n",
              "      <td>2</td>\n",
              "      <td>2008</td>\n",
              "      <td>1744823.09</td>\n",
              "      <td>1.74</td>\n",
              "    </tr>\n",
              "    <tr>\n",
              "      <th>317</th>\n",
              "      <td>2008-03-01</td>\n",
              "      <td>Paraná</td>\n",
              "      <td>55611791.07</td>\n",
              "      <td>55.61</td>\n",
              "      <td>3</td>\n",
              "      <td>2008</td>\n",
              "      <td>1793928.74</td>\n",
              "      <td>1.79</td>\n",
              "    </tr>\n",
              "    <tr>\n",
              "      <th>318</th>\n",
              "      <td>2008-04-01</td>\n",
              "      <td>Paraná</td>\n",
              "      <td>56115135.82</td>\n",
              "      <td>56.12</td>\n",
              "      <td>4</td>\n",
              "      <td>2008</td>\n",
              "      <td>1870504.53</td>\n",
              "      <td>1.87</td>\n",
              "    </tr>\n",
              "    <tr>\n",
              "      <th>319</th>\n",
              "      <td>2008-05-01</td>\n",
              "      <td>Paraná</td>\n",
              "      <td>55574831.93</td>\n",
              "      <td>55.57</td>\n",
              "      <td>5</td>\n",
              "      <td>2008</td>\n",
              "      <td>1792736.51</td>\n",
              "      <td>1.79</td>\n",
              "    </tr>\n",
              "    <tr>\n",
              "      <th>320</th>\n",
              "      <td>2008-06-01</td>\n",
              "      <td>Paraná</td>\n",
              "      <td>56094754.74</td>\n",
              "      <td>56.09</td>\n",
              "      <td>6</td>\n",
              "      <td>2008</td>\n",
              "      <td>1869825.16</td>\n",
              "      <td>1.87</td>\n",
              "    </tr>\n",
              "  </tbody>\n",
              "</table>\n",
              "</div>"
            ],
            "text/plain": [
              "    dia_mes_ano      uf       gasto  ...   ano  gasto_diario  gasto_milhoes_diario\n",
              "316  2008-02-01  Paraná 48855046.46  ...  2008    1744823.09                  1.74\n",
              "317  2008-03-01  Paraná 55611791.07  ...  2008    1793928.74                  1.79\n",
              "318  2008-04-01  Paraná 56115135.82  ...  2008    1870504.53                  1.87\n",
              "319  2008-05-01  Paraná 55574831.93  ...  2008    1792736.51                  1.79\n",
              "320  2008-06-01  Paraná 56094754.74  ...  2008    1869825.16                  1.87\n",
              "\n",
              "[5 rows x 8 columns]"
            ]
          },
          "metadata": {
            "tags": []
          },
          "execution_count": 24
        }
      ]
    },
    {
      "cell_type": "code",
      "metadata": {
        "colab": {
          "base_uri": "https://localhost:8080/",
          "height": 236
        },
        "id": "B_bY80N6WLvR",
        "outputId": "9965fd9e-c5bf-44b6-b572-d6223367f3e3"
      },
      "source": [
        "gastos_por_ano = estado_a_analisar.groupby(\"ano\").sum()\n",
        "gastos_por_ano.head()"
      ],
      "execution_count": 25,
      "outputs": [
        {
          "output_type": "execute_result",
          "data": {
            "text/html": [
              "<div>\n",
              "<style scoped>\n",
              "    .dataframe tbody tr th:only-of-type {\n",
              "        vertical-align: middle;\n",
              "    }\n",
              "\n",
              "    .dataframe tbody tr th {\n",
              "        vertical-align: top;\n",
              "    }\n",
              "\n",
              "    .dataframe thead th {\n",
              "        text-align: right;\n",
              "    }\n",
              "</style>\n",
              "<table border=\"1\" class=\"dataframe\">\n",
              "  <thead>\n",
              "    <tr style=\"text-align: right;\">\n",
              "      <th></th>\n",
              "      <th>gasto</th>\n",
              "      <th>gasto_milhoes</th>\n",
              "      <th>mes</th>\n",
              "      <th>gasto_diario</th>\n",
              "      <th>gasto_milhoes_diario</th>\n",
              "    </tr>\n",
              "    <tr>\n",
              "      <th>ano</th>\n",
              "      <th></th>\n",
              "      <th></th>\n",
              "      <th></th>\n",
              "      <th></th>\n",
              "      <th></th>\n",
              "    </tr>\n",
              "  </thead>\n",
              "  <tbody>\n",
              "    <tr>\n",
              "      <th>2008</th>\n",
              "      <td>625694296.59</td>\n",
              "      <td>625.69</td>\n",
              "      <td>77</td>\n",
              "      <td>20599819.42</td>\n",
              "      <td>20.60</td>\n",
              "    </tr>\n",
              "    <tr>\n",
              "      <th>2009</th>\n",
              "      <td>794208127.74</td>\n",
              "      <td>794.21</td>\n",
              "      <td>78</td>\n",
              "      <td>26104538.74</td>\n",
              "      <td>26.10</td>\n",
              "    </tr>\n",
              "    <tr>\n",
              "      <th>2010</th>\n",
              "      <td>867924398.99</td>\n",
              "      <td>867.92</td>\n",
              "      <td>78</td>\n",
              "      <td>28535760.40</td>\n",
              "      <td>28.54</td>\n",
              "    </tr>\n",
              "    <tr>\n",
              "      <th>2011</th>\n",
              "      <td>909208171.14</td>\n",
              "      <td>909.21</td>\n",
              "      <td>78</td>\n",
              "      <td>29898311.14</td>\n",
              "      <td>29.90</td>\n",
              "    </tr>\n",
              "    <tr>\n",
              "      <th>2012</th>\n",
              "      <td>950792578.31</td>\n",
              "      <td>950.79</td>\n",
              "      <td>78</td>\n",
              "      <td>31260391.03</td>\n",
              "      <td>31.26</td>\n",
              "    </tr>\n",
              "  </tbody>\n",
              "</table>\n",
              "</div>"
            ],
            "text/plain": [
              "            gasto  gasto_milhoes  mes  gasto_diario  gasto_milhoes_diario\n",
              "ano                                                                      \n",
              "2008 625694296.59         625.69   77   20599819.42                 20.60\n",
              "2009 794208127.74         794.21   78   26104538.74                 26.10\n",
              "2010 867924398.99         867.92   78   28535760.40                 28.54\n",
              "2011 909208171.14         909.21   78   29898311.14                 29.90\n",
              "2012 950792578.31         950.79   78   31260391.03                 31.26"
            ]
          },
          "metadata": {
            "tags": []
          },
          "execution_count": 25
        }
      ]
    },
    {
      "cell_type": "code",
      "metadata": {
        "colab": {
          "base_uri": "https://localhost:8080/",
          "height": 267
        },
        "id": "avMBBEsOW3gf",
        "outputId": "31149ff5-35b1-4d47-9e4c-286e0f706b0d"
      },
      "source": [
        "gastos_por_ano.plot(kind=\"pie\", y=\"gasto_milhoes\")"
      ],
      "execution_count": 26,
      "outputs": [
        {
          "output_type": "execute_result",
          "data": {
            "text/plain": [
              "<matplotlib.axes._subplots.AxesSubplot at 0x7f32610b7d90>"
            ]
          },
          "metadata": {
            "tags": []
          },
          "execution_count": 26
        },
        {
          "output_type": "display_data",
          "data": {
            "image/png": "[encoded data removed]",
            "text/plain": [
              "<Figure size 432x288 with 1 Axes>"
            ]
          },
          "metadata": {
            "tags": []
          }
        }
      ]
    },
    {
      "cell_type": "code",
      "metadata": {
        "colab": {
          "base_uri": "https://localhost:8080/",
          "height": 297
        },
        "id": "3KOw9Th0XHNu",
        "outputId": "dfa49005-a9b6-436a-d572-631a574878e6"
      },
      "source": [
        "sns.scatterplot(data=gastos_por_ano, x=gastos_por_ano.index , y=\"gasto_milhoes\" )\n",
        "# plt.ylim(0)"
      ],
      "execution_count": 27,
      "outputs": [
        {
          "output_type": "execute_result",
          "data": {
            "text/plain": [
              "<matplotlib.axes._subplots.AxesSubplot at 0x7f3260b29350>"
            ]
          },
          "metadata": {
            "tags": []
          },
          "execution_count": 27
        },
        {
          "output_type": "display_data",
          "data": {
            "image/png": "[encoded data removed]",
            "text/plain": [
              "<Figure size 432x288 with 1 Axes>"
            ]
          },
          "metadata": {
            "tags": [],
            "needs_background": "light"
          }
        }
      ]
    },
    {
      "cell_type": "code",
      "metadata": {
        "colab": {
          "base_uri": "https://localhost:8080/",
          "height": 297
        },
        "id": "csyW0YXVXk2E",
        "outputId": "bd4eb449-dbc6-4870-fe34-b887de30953b"
      },
      "source": [
        "sns.lineplot(data=gastos_por_ano, x=gastos_por_ano.index , y=\"gasto_milhoes\" )"
      ],
      "execution_count": 28,
      "outputs": [
        {
          "output_type": "execute_result",
          "data": {
            "text/plain": [
              "<matplotlib.axes._subplots.AxesSubplot at 0x7f3261e652d0>"
            ]
          },
          "metadata": {
            "tags": []
          },
          "execution_count": 28
        },
        {
          "output_type": "display_data",
          "data": {
            "image/png": "[encoded data removed]",
            "text/plain": [
              "<Figure size 432x288 with 1 Axes>"
            ]
          },
          "metadata": {
            "tags": [],
            "needs_background": "light"
          }
        }
      ]
    },
    {
      "cell_type": "code",
      "metadata": {
        "colab": {
          "base_uri": "https://localhost:8080/",
          "height": 460
        },
        "id": "fJ1j8qaHXkrS",
        "outputId": "02a80a54-91ff-40d5-a870-981fd0cf7ba0"
      },
      "source": [
        "plt.figure(figsize=(10,7))\n",
        "sns.barplot(data=gastos_por_ano, x=gastos_por_ano.index , y=\"gasto_milhoes\", palette=sns.color_palette(\"rocket_r\", 13)) \n",
        "# tom de cor ordenado pelo valor, o tom está variando de acordo com o ano (um informação que já temos)"
      ],
      "execution_count": 29,
      "outputs": [
        {
          "output_type": "execute_result",
          "data": {
            "text/plain": [
              "<matplotlib.axes._subplots.AxesSubplot at 0x7f326111b690>"
            ]
          },
          "metadata": {
            "tags": []
          },
          "execution_count": 29
        },
        {
          "output_type": "display_data",
          "data": {
            "image/png": "[encoded data removed]",
            "text/plain": [
              "<Figure size 720x504 with 1 Axes>"
            ]
          },
          "metadata": {
            "tags": [],
            "needs_background": "light"
          }
        }
      ]
    },
    {
      "cell_type": "code",
      "metadata": {
        "colab": {
          "base_uri": "https://localhost:8080/",
          "height": 205
        },
        "id": "OYIAf6OZaWN4",
        "outputId": "d7c90887-0a0d-41e5-e1d8-8b25ee1333bf"
      },
      "source": [
        "estados = [\"Paraná\", \"São Paulo\", \"Minas Gerais\"]\n",
        "estados_a_analisar = novo_mensal_aberto.query(\"uf in @estados\").groupby([\"uf\",\"ano\"]).sum().reset_index()\n",
        "estados_a_analisar.head()"
      ],
      "execution_count": 30,
      "outputs": [
        {
          "output_type": "execute_result",
          "data": {
            "text/html": [
              "<div>\n",
              "<style scoped>\n",
              "    .dataframe tbody tr th:only-of-type {\n",
              "        vertical-align: middle;\n",
              "    }\n",
              "\n",
              "    .dataframe tbody tr th {\n",
              "        vertical-align: top;\n",
              "    }\n",
              "\n",
              "    .dataframe thead th {\n",
              "        text-align: right;\n",
              "    }\n",
              "</style>\n",
              "<table border=\"1\" class=\"dataframe\">\n",
              "  <thead>\n",
              "    <tr style=\"text-align: right;\">\n",
              "      <th></th>\n",
              "      <th>uf</th>\n",
              "      <th>ano</th>\n",
              "      <th>gasto</th>\n",
              "      <th>gasto_milhoes</th>\n",
              "      <th>mes</th>\n",
              "      <th>gasto_diario</th>\n",
              "      <th>gasto_milhoes_diario</th>\n",
              "    </tr>\n",
              "  </thead>\n",
              "  <tbody>\n",
              "    <tr>\n",
              "      <th>0</th>\n",
              "      <td>Minas Gerais</td>\n",
              "      <td>2008</td>\n",
              "      <td>894375233.11</td>\n",
              "      <td>894.38</td>\n",
              "      <td>77</td>\n",
              "      <td>29443856.36</td>\n",
              "      <td>29.44</td>\n",
              "    </tr>\n",
              "    <tr>\n",
              "      <th>1</th>\n",
              "      <td>Minas Gerais</td>\n",
              "      <td>2009</td>\n",
              "      <td>1149168433.67</td>\n",
              "      <td>1149.17</td>\n",
              "      <td>78</td>\n",
              "      <td>37768315.30</td>\n",
              "      <td>37.77</td>\n",
              "    </tr>\n",
              "    <tr>\n",
              "      <th>2</th>\n",
              "      <td>Minas Gerais</td>\n",
              "      <td>2010</td>\n",
              "      <td>1217516654.83</td>\n",
              "      <td>1217.52</td>\n",
              "      <td>78</td>\n",
              "      <td>40025839.54</td>\n",
              "      <td>40.03</td>\n",
              "    </tr>\n",
              "    <tr>\n",
              "      <th>3</th>\n",
              "      <td>Minas Gerais</td>\n",
              "      <td>2011</td>\n",
              "      <td>1315077772.94</td>\n",
              "      <td>1315.08</td>\n",
              "      <td>78</td>\n",
              "      <td>43244362.61</td>\n",
              "      <td>43.24</td>\n",
              "    </tr>\n",
              "    <tr>\n",
              "      <th>4</th>\n",
              "      <td>Minas Gerais</td>\n",
              "      <td>2012</td>\n",
              "      <td>1408435144.27</td>\n",
              "      <td>1408.44</td>\n",
              "      <td>78</td>\n",
              "      <td>46293376.07</td>\n",
              "      <td>46.29</td>\n",
              "    </tr>\n",
              "  </tbody>\n",
              "</table>\n",
              "</div>"
            ],
            "text/plain": [
              "             uf   ano         gasto  ...  mes  gasto_diario  gasto_milhoes_diario\n",
              "0  Minas Gerais  2008  894375233.11  ...   77   29443856.36                 29.44\n",
              "1  Minas Gerais  2009 1149168433.67  ...   78   37768315.30                 37.77\n",
              "2  Minas Gerais  2010 1217516654.83  ...   78   40025839.54                 40.03\n",
              "3  Minas Gerais  2011 1315077772.94  ...   78   43244362.61                 43.24\n",
              "4  Minas Gerais  2012 1408435144.27  ...   78   46293376.07                 46.29\n",
              "\n",
              "[5 rows x 7 columns]"
            ]
          },
          "metadata": {
            "tags": []
          },
          "execution_count": 30
        }
      ]
    },
    {
      "cell_type": "code",
      "metadata": {
        "colab": {
          "base_uri": "https://localhost:8080/",
          "height": 297
        },
        "id": "GgnPQivnbFgx",
        "outputId": "18bcc816-2273-43d0-98ad-ab04a5eb8d5f"
      },
      "source": [
        "sns.barplot(data=estados_a_analisar, x=\"ano\" , y=\"gasto_milhoes\", hue=\"uf\")"
      ],
      "execution_count": 31,
      "outputs": [
        {
          "output_type": "execute_result",
          "data": {
            "text/plain": [
              "<matplotlib.axes._subplots.AxesSubplot at 0x7f3261e65b10>"
            ]
          },
          "metadata": {
            "tags": []
          },
          "execution_count": 31
        },
        {
          "output_type": "display_data",
          "data": {
            "image/png": "[encoded data removed]",
            "text/plain": [
              "<Figure size 432x288 with 1 Axes>"
            ]
          },
          "metadata": {
            "tags": [],
            "needs_background": "light"
          }
        }
      ]
    },
    {
      "cell_type": "code",
      "metadata": {
        "colab": {
          "base_uri": "https://localhost:8080/",
          "height": 401
        },
        "id": "Xk0P0C3tbr9M",
        "outputId": "3967ae1a-adbf-436a-b68a-537cd024f221"
      },
      "source": [
        "sns.catplot(data=estados_a_analisar, x=\"ano\" , y=\"gasto_milhoes\", kind=\"bar\", col=\"uf\")"
      ],
      "execution_count": 32,
      "outputs": [
        {
          "output_type": "execute_result",
          "data": {
            "text/plain": [
              "<seaborn.axisgrid.FacetGrid at 0x7f3260a90050>"
            ]
          },
          "metadata": {
            "tags": []
          },
          "execution_count": 32
        },
        {
          "output_type": "display_data",
          "data": {
            "image/png": "[encoded data removed]",
            "text/plain": [
              "<Figure size 1080x360 with 3 Axes>"
            ]
          },
          "metadata": {
            "tags": [],
            "needs_background": "light"
          }
        }
      ]
    },
    {
      "cell_type": "markdown",
      "metadata": {
        "id": "Ka4fdSOrUByb"
      },
      "source": [
        "##**Desafios**\n",
        "\n",
        "Desafio 01: Reordenar as cores pelo valor do eixo y.\n",
        "\n",
        "Desafio 02: Explorar a documentação do Seaborn.\n",
        "\n",
        "Desafio 03: Pensar e elaborar novos gráficos depois de estudar o Seaborn, compartilhar com uma breve descrição no Discord, para que outros colegas aprendam sobre o gráfico usado.\n",
        "\n",
        "Desafio 04: Baixe uma outra base de dados do tabnet e execute sua análise de forma similar a aula."
      ]
    },
    {
      "cell_type": "markdown",
      "metadata": {
        "id": "bQGCLsMid7xa"
      },
      "source": [
        "#### **Desafio 01**"
      ]
    },
    {
      "cell_type": "code",
      "metadata": {
        "id": "HIEhonsjeF96",
        "colab": {
          "base_uri": "https://localhost:8080/",
          "height": 463
        },
        "outputId": "2965d234-0805-4564-de79-cdf18936510a"
      },
      "source": [
        "plt.figure(figsize=(12,7))\n",
        "ax = sns.barplot(data=gastos_por_ano, x=gastos_por_ano.index , y=\"gasto_milhoes\", palette=sns.color_palette(\"rocket_r\", 13))\n",
        "plt.title('Evolução de Gasto no Paraná', fontsize=18, fontweight='bold', color='black')\n",
        "ax.set_ylabel('Valores', fontsize=15, color='black')\n",
        "ax.yaxis.grid(True)\n",
        "ax.yaxis.set_major_formatter(ticker.StrMethodFormatter('R$ {x:,.0f} mi'))\n",
        "ax.legend('')\n",
        "plt.show()"
      ],
      "execution_count": 33,
      "outputs": [
        {
          "output_type": "display_data",
          "data": {
            "image/png": "[encoded data removed]",
            "text/plain": [
              "<Figure size 864x504 with 1 Axes>"
            ]
          },
          "metadata": {
            "tags": [],
            "needs_background": "light"
          }
        }
      ]
    },
    {
      "cell_type": "markdown",
      "metadata": {
        "id": "dzxCZ53id7pS"
      },
      "source": [
        "#### **Desafio 02**\n",
        "\n",
        "Tutorial [Overview of seaborn plotting functions](https://seaborn.pydata.org/tutorial/function_overview.html) \n",
        "\n",
        "Todas as funcionalidades do Seaborn são acessíveis diretamente pelo nomes dos métodos, mas é estruturado de forma hierárquica, com módulos de funções que possuem mesmo objetivos de visualização por meios diferentes.\n",
        "\n",
        "Relacionais (relplot)\n",
        "Distribuições (displot)\n",
        "Categóricos (catplot)\n",
        "\n",
        "<img src=\"https://seaborn.pydata.org/_images/function_overview_8_0.png\" />\n",
        "\n",
        "Além dos diferentes módulos, há uma classificação transversal nas funções do seaborn, que são:\n",
        "\n",
        "**Axes-level**: Que plota os dados num único objeto *matplotlib.pyplot.Axes*, que é o valor de retorno das funções.\n",
        "\n",
        "**Figure-level**: é uma interface com o matplotlib através dos objeto Seaborn, que gerencia uma figura, usualmente uma *FacetGrid*.\n",
        "\n",
        "\n",
        "**histplot()** retorna um gráfico Axes-level, que é utilizado pelo **displot()** que é um gráfico figure-level do módulo \"distributions\"."
      ]
    },
    {
      "cell_type": "markdown",
      "metadata": {
        "id": "aptEQlpOd7iG"
      },
      "source": [
        "#### **Desafio 03**\n",
        "\n",
        "Vamos calcular o gasto per capita em 3 estados"
      ]
    },
    {
      "cell_type": "code",
      "metadata": {
        "id": "JZpijJZ-eHFD",
        "colab": {
          "base_uri": "https://localhost:8080/",
          "height": 205
        },
        "outputId": "9a6a49e4-f5c8-481a-ab29-2cff2e195b88"
      },
      "source": [
        "# carregando os dados populacionais por ano\n",
        "populacao_TCU_raw = pd.read_excel(\"https://github.com/hc0rd31r0/Bootcamp_Data_Science/blob/main/dados/estimativa_populacao_TCU_2001_a_2020.xls?raw=true\")\n",
        "populacao_TCU = populacao_TCU_raw.copy()\n",
        "popMelt = populacao_TCU.melt(id_vars=[\"uf\", \"regiao\"])\n",
        "popMelt.rename(columns={'variable':'ano', 'value':'populacao'}, inplace=True)\n",
        "popMelt.head()"
      ],
      "execution_count": 34,
      "outputs": [
        {
          "output_type": "execute_result",
          "data": {
            "text/html": [
              "<div>\n",
              "<style scoped>\n",
              "    .dataframe tbody tr th:only-of-type {\n",
              "        vertical-align: middle;\n",
              "    }\n",
              "\n",
              "    .dataframe tbody tr th {\n",
              "        vertical-align: top;\n",
              "    }\n",
              "\n",
              "    .dataframe thead th {\n",
              "        text-align: right;\n",
              "    }\n",
              "</style>\n",
              "<table border=\"1\" class=\"dataframe\">\n",
              "  <thead>\n",
              "    <tr style=\"text-align: right;\">\n",
              "      <th></th>\n",
              "      <th>uf</th>\n",
              "      <th>regiao</th>\n",
              "      <th>ano</th>\n",
              "      <th>populacao</th>\n",
              "    </tr>\n",
              "  </thead>\n",
              "  <tbody>\n",
              "    <tr>\n",
              "      <th>0</th>\n",
              "      <td>Rondônia</td>\n",
              "      <td>Região Norte</td>\n",
              "      <td>2001</td>\n",
              "      <td>1407886</td>\n",
              "    </tr>\n",
              "    <tr>\n",
              "      <th>1</th>\n",
              "      <td>Acre</td>\n",
              "      <td>Região Norte</td>\n",
              "      <td>2001</td>\n",
              "      <td>574355</td>\n",
              "    </tr>\n",
              "    <tr>\n",
              "      <th>2</th>\n",
              "      <td>Amazonas</td>\n",
              "      <td>Região Norte</td>\n",
              "      <td>2001</td>\n",
              "      <td>2900240</td>\n",
              "    </tr>\n",
              "    <tr>\n",
              "      <th>3</th>\n",
              "      <td>Roraima</td>\n",
              "      <td>Região Norte</td>\n",
              "      <td>2001</td>\n",
              "      <td>337237</td>\n",
              "    </tr>\n",
              "    <tr>\n",
              "      <th>4</th>\n",
              "      <td>Pará</td>\n",
              "      <td>Região Norte</td>\n",
              "      <td>2001</td>\n",
              "      <td>6341736</td>\n",
              "    </tr>\n",
              "  </tbody>\n",
              "</table>\n",
              "</div>"
            ],
            "text/plain": [
              "         uf        regiao   ano  populacao\n",
              "0  Rondônia  Região Norte  2001    1407886\n",
              "1      Acre  Região Norte  2001     574355\n",
              "2  Amazonas  Região Norte  2001    2900240\n",
              "3   Roraima  Região Norte  2001     337237\n",
              "4      Pará  Região Norte  2001    6341736"
            ]
          },
          "metadata": {
            "tags": []
          },
          "execution_count": 34
        }
      ]
    },
    {
      "cell_type": "code",
      "metadata": {
        "colab": {
          "base_uri": "https://localhost:8080/",
          "height": 205
        },
        "id": "XVziDHesh-Fy",
        "outputId": "b4132e84-f1bf-4b28-aada-de67bd1d3d09"
      },
      "source": [
        "pop_estados_por_ano = popMelt.sort_values(['uf', 'ano']).query(\"uf in @estados\").reset_index(drop=True)\n",
        "pop_estados_por_ano.head()"
      ],
      "execution_count": 35,
      "outputs": [
        {
          "output_type": "execute_result",
          "data": {
            "text/html": [
              "<div>\n",
              "<style scoped>\n",
              "    .dataframe tbody tr th:only-of-type {\n",
              "        vertical-align: middle;\n",
              "    }\n",
              "\n",
              "    .dataframe tbody tr th {\n",
              "        vertical-align: top;\n",
              "    }\n",
              "\n",
              "    .dataframe thead th {\n",
              "        text-align: right;\n",
              "    }\n",
              "</style>\n",
              "<table border=\"1\" class=\"dataframe\">\n",
              "  <thead>\n",
              "    <tr style=\"text-align: right;\">\n",
              "      <th></th>\n",
              "      <th>uf</th>\n",
              "      <th>regiao</th>\n",
              "      <th>ano</th>\n",
              "      <th>populacao</th>\n",
              "    </tr>\n",
              "  </thead>\n",
              "  <tbody>\n",
              "    <tr>\n",
              "      <th>0</th>\n",
              "      <td>Minas Gerais</td>\n",
              "      <td>Região Sudeste</td>\n",
              "      <td>2001</td>\n",
              "      <td>18127096</td>\n",
              "    </tr>\n",
              "    <tr>\n",
              "      <th>1</th>\n",
              "      <td>Minas Gerais</td>\n",
              "      <td>Região Sudeste</td>\n",
              "      <td>2002</td>\n",
              "      <td>18343517</td>\n",
              "    </tr>\n",
              "    <tr>\n",
              "      <th>2</th>\n",
              "      <td>Minas Gerais</td>\n",
              "      <td>Região Sudeste</td>\n",
              "      <td>2003</td>\n",
              "      <td>18553312</td>\n",
              "    </tr>\n",
              "    <tr>\n",
              "      <th>3</th>\n",
              "      <td>Minas Gerais</td>\n",
              "      <td>Região Sudeste</td>\n",
              "      <td>2004</td>\n",
              "      <td>18993720</td>\n",
              "    </tr>\n",
              "    <tr>\n",
              "      <th>4</th>\n",
              "      <td>Minas Gerais</td>\n",
              "      <td>Região Sudeste</td>\n",
              "      <td>2005</td>\n",
              "      <td>19237450</td>\n",
              "    </tr>\n",
              "  </tbody>\n",
              "</table>\n",
              "</div>"
            ],
            "text/plain": [
              "             uf          regiao   ano  populacao\n",
              "0  Minas Gerais  Região Sudeste  2001   18127096\n",
              "1  Minas Gerais  Região Sudeste  2002   18343517\n",
              "2  Minas Gerais  Região Sudeste  2003   18553312\n",
              "3  Minas Gerais  Região Sudeste  2004   18993720\n",
              "4  Minas Gerais  Região Sudeste  2005   19237450"
            ]
          },
          "metadata": {
            "tags": []
          },
          "execution_count": 35
        }
      ]
    },
    {
      "cell_type": "code",
      "metadata": {
        "colab": {
          "base_uri": "https://localhost:8080/",
          "height": 205
        },
        "id": "Af5rsYtpk_Hd",
        "outputId": "d161d4d7-8b1a-4f4c-c58a-1400bf5228d0"
      },
      "source": [
        "gasto_populacao_merge = pd.merge( pop_estados_por_ano, estados_a_analisar, on=[\"uf\", \"ano\"])\n",
        "gasto_populacao_merge.head()"
      ],
      "execution_count": 36,
      "outputs": [
        {
          "output_type": "execute_result",
          "data": {
            "text/html": [
              "<div>\n",
              "<style scoped>\n",
              "    .dataframe tbody tr th:only-of-type {\n",
              "        vertical-align: middle;\n",
              "    }\n",
              "\n",
              "    .dataframe tbody tr th {\n",
              "        vertical-align: top;\n",
              "    }\n",
              "\n",
              "    .dataframe thead th {\n",
              "        text-align: right;\n",
              "    }\n",
              "</style>\n",
              "<table border=\"1\" class=\"dataframe\">\n",
              "  <thead>\n",
              "    <tr style=\"text-align: right;\">\n",
              "      <th></th>\n",
              "      <th>uf</th>\n",
              "      <th>regiao</th>\n",
              "      <th>ano</th>\n",
              "      <th>populacao</th>\n",
              "      <th>gasto</th>\n",
              "      <th>gasto_milhoes</th>\n",
              "      <th>mes</th>\n",
              "      <th>gasto_diario</th>\n",
              "      <th>gasto_milhoes_diario</th>\n",
              "    </tr>\n",
              "  </thead>\n",
              "  <tbody>\n",
              "    <tr>\n",
              "      <th>0</th>\n",
              "      <td>Minas Gerais</td>\n",
              "      <td>Região Sudeste</td>\n",
              "      <td>2008</td>\n",
              "      <td>19850072</td>\n",
              "      <td>894375233.11</td>\n",
              "      <td>894.38</td>\n",
              "      <td>77</td>\n",
              "      <td>29443856.36</td>\n",
              "      <td>29.44</td>\n",
              "    </tr>\n",
              "    <tr>\n",
              "      <th>1</th>\n",
              "      <td>Minas Gerais</td>\n",
              "      <td>Região Sudeste</td>\n",
              "      <td>2009</td>\n",
              "      <td>20033665</td>\n",
              "      <td>1149168433.67</td>\n",
              "      <td>1149.17</td>\n",
              "      <td>78</td>\n",
              "      <td>37768315.30</td>\n",
              "      <td>37.77</td>\n",
              "    </tr>\n",
              "    <tr>\n",
              "      <th>2</th>\n",
              "      <td>Minas Gerais</td>\n",
              "      <td>Região Sudeste</td>\n",
              "      <td>2010</td>\n",
              "      <td>19595309</td>\n",
              "      <td>1217516654.83</td>\n",
              "      <td>1217.52</td>\n",
              "      <td>78</td>\n",
              "      <td>40025839.54</td>\n",
              "      <td>40.03</td>\n",
              "    </tr>\n",
              "    <tr>\n",
              "      <th>3</th>\n",
              "      <td>Minas Gerais</td>\n",
              "      <td>Região Sudeste</td>\n",
              "      <td>2011</td>\n",
              "      <td>19728701</td>\n",
              "      <td>1315077772.94</td>\n",
              "      <td>1315.08</td>\n",
              "      <td>78</td>\n",
              "      <td>43244362.61</td>\n",
              "      <td>43.24</td>\n",
              "    </tr>\n",
              "    <tr>\n",
              "      <th>4</th>\n",
              "      <td>Minas Gerais</td>\n",
              "      <td>Região Sudeste</td>\n",
              "      <td>2012</td>\n",
              "      <td>19855332</td>\n",
              "      <td>1408435144.27</td>\n",
              "      <td>1408.44</td>\n",
              "      <td>78</td>\n",
              "      <td>46293376.07</td>\n",
              "      <td>46.29</td>\n",
              "    </tr>\n",
              "  </tbody>\n",
              "</table>\n",
              "</div>"
            ],
            "text/plain": [
              "             uf          regiao   ano  ...  mes  gasto_diario  gasto_milhoes_diario\n",
              "0  Minas Gerais  Região Sudeste  2008  ...   77   29443856.36                 29.44\n",
              "1  Minas Gerais  Região Sudeste  2009  ...   78   37768315.30                 37.77\n",
              "2  Minas Gerais  Região Sudeste  2010  ...   78   40025839.54                 40.03\n",
              "3  Minas Gerais  Região Sudeste  2011  ...   78   43244362.61                 43.24\n",
              "4  Minas Gerais  Região Sudeste  2012  ...   78   46293376.07                 46.29\n",
              "\n",
              "[5 rows x 9 columns]"
            ]
          },
          "metadata": {
            "tags": []
          },
          "execution_count": 36
        }
      ]
    },
    {
      "cell_type": "code",
      "metadata": {
        "id": "1_Oe__hYfbZg",
        "colab": {
          "base_uri": "https://localhost:8080/",
          "height": 315
        },
        "outputId": "3cd7ae45-26e4-4a3d-8b03-4be147cb5bd3"
      },
      "source": [
        "gastos_por_ano_populacao = gasto_populacao_merge[[\"uf\",\"regiao\", \"ano\", \"populacao\", \"gasto\", \"gasto_milhoes\"]]\n",
        "gastos_por_ano_populacao[\"gasto_per_capita\"] = gastos_por_ano_populacao['gasto'] / gastos_por_ano_populacao['populacao']\n",
        "gastos_por_ano_populacao.head()"
      ],
      "execution_count": 37,
      "outputs": [
        {
          "output_type": "stream",
          "text": [
            "/usr/local/lib/python3.7/dist-packages/ipykernel_launcher.py:2: SettingWithCopyWarning: \n",
            "A value is trying to be set on a copy of a slice from a DataFrame.\n",
            "Try using .loc[row_indexer,col_indexer] = value instead\n",
            "\n",
            "See the caveats in the documentation: https://pandas.pydata.org/pandas-docs/stable/user_guide/indexing.html#returning-a-view-versus-a-copy\n",
            "  \n"
          ],
          "name": "stderr"
        },
        {
          "output_type": "execute_result",
          "data": {
            "text/html": [
              "<div>\n",
              "<style scoped>\n",
              "    .dataframe tbody tr th:only-of-type {\n",
              "        vertical-align: middle;\n",
              "    }\n",
              "\n",
              "    .dataframe tbody tr th {\n",
              "        vertical-align: top;\n",
              "    }\n",
              "\n",
              "    .dataframe thead th {\n",
              "        text-align: right;\n",
              "    }\n",
              "</style>\n",
              "<table border=\"1\" class=\"dataframe\">\n",
              "  <thead>\n",
              "    <tr style=\"text-align: right;\">\n",
              "      <th></th>\n",
              "      <th>uf</th>\n",
              "      <th>regiao</th>\n",
              "      <th>ano</th>\n",
              "      <th>populacao</th>\n",
              "      <th>gasto</th>\n",
              "      <th>gasto_milhoes</th>\n",
              "      <th>gasto_per_capita</th>\n",
              "    </tr>\n",
              "  </thead>\n",
              "  <tbody>\n",
              "    <tr>\n",
              "      <th>0</th>\n",
              "      <td>Minas Gerais</td>\n",
              "      <td>Região Sudeste</td>\n",
              "      <td>2008</td>\n",
              "      <td>19850072</td>\n",
              "      <td>894375233.11</td>\n",
              "      <td>894.38</td>\n",
              "      <td>45.06</td>\n",
              "    </tr>\n",
              "    <tr>\n",
              "      <th>1</th>\n",
              "      <td>Minas Gerais</td>\n",
              "      <td>Região Sudeste</td>\n",
              "      <td>2009</td>\n",
              "      <td>20033665</td>\n",
              "      <td>1149168433.67</td>\n",
              "      <td>1149.17</td>\n",
              "      <td>57.36</td>\n",
              "    </tr>\n",
              "    <tr>\n",
              "      <th>2</th>\n",
              "      <td>Minas Gerais</td>\n",
              "      <td>Região Sudeste</td>\n",
              "      <td>2010</td>\n",
              "      <td>19595309</td>\n",
              "      <td>1217516654.83</td>\n",
              "      <td>1217.52</td>\n",
              "      <td>62.13</td>\n",
              "    </tr>\n",
              "    <tr>\n",
              "      <th>3</th>\n",
              "      <td>Minas Gerais</td>\n",
              "      <td>Região Sudeste</td>\n",
              "      <td>2011</td>\n",
              "      <td>19728701</td>\n",
              "      <td>1315077772.94</td>\n",
              "      <td>1315.08</td>\n",
              "      <td>66.66</td>\n",
              "    </tr>\n",
              "    <tr>\n",
              "      <th>4</th>\n",
              "      <td>Minas Gerais</td>\n",
              "      <td>Região Sudeste</td>\n",
              "      <td>2012</td>\n",
              "      <td>19855332</td>\n",
              "      <td>1408435144.27</td>\n",
              "      <td>1408.44</td>\n",
              "      <td>70.93</td>\n",
              "    </tr>\n",
              "  </tbody>\n",
              "</table>\n",
              "</div>"
            ],
            "text/plain": [
              "             uf          regiao  ... gasto_milhoes  gasto_per_capita\n",
              "0  Minas Gerais  Região Sudeste  ...        894.38             45.06\n",
              "1  Minas Gerais  Região Sudeste  ...       1149.17             57.36\n",
              "2  Minas Gerais  Região Sudeste  ...       1217.52             62.13\n",
              "3  Minas Gerais  Região Sudeste  ...       1315.08             66.66\n",
              "4  Minas Gerais  Região Sudeste  ...       1408.44             70.93\n",
              "\n",
              "[5 rows x 7 columns]"
            ]
          },
          "metadata": {
            "tags": []
          },
          "execution_count": 37
        }
      ]
    },
    {
      "cell_type": "code",
      "metadata": {
        "colab": {
          "base_uri": "https://localhost:8080/",
          "height": 420
        },
        "id": "i4zl5M7Tmpcq",
        "outputId": "4fd82a28-b110-4acd-8150-596cb8e3b104"
      },
      "source": [
        "g = sns.catplot(data=gastos_por_ano_populacao, x='ano', y='gasto_per_capita', hue='gasto_per_capita',\n",
        "            dodge=False, kind='bar', col='uf', palette='rocket_r', col_wrap=3, legend=False)\n",
        "\n",
        "for c in g.axes:\n",
        "  c.yaxis.grid(True)\n",
        "  c.set_title(list(g.axes_dict.keys())[list(g.axes_dict.values()).index(c)]) # Utilizando o g.axes_dict para acessar cada nome de UF.\n",
        "\n",
        "g.set_axis_labels('Ano','Valores')\n",
        "g.set_xticklabels(rotation=45, ha='right')\n",
        "plt.suptitle('Gasto per capita', fontsize=16, fontweight='bold', y=1.03, color='black')\n",
        "\n",
        "plt.show()"
      ],
      "execution_count": 38,
      "outputs": [
        {
          "output_type": "display_data",
          "data": {
            "image/png": "[encoded data removed]",
            "text/plain": [
              "<Figure size 1080x360 with 3 Axes>"
            ]
          },
          "metadata": {
            "tags": [],
            "needs_background": "light"
          }
        }
      ]
    },
    {
      "cell_type": "markdown",
      "metadata": {
        "id": "Ubtohhgxd7Sk"
      },
      "source": [
        "#### **Desafio 04**"
      ]
    },
    {
      "cell_type": "code",
      "metadata": {
        "colab": {
          "base_uri": "https://localhost:8080/",
          "height": 277
        },
        "id": "iScvSIaCx3-U",
        "outputId": "8abb586c-d96b-4a22-81b2-e52a2c9b4535"
      },
      "source": [
        "# Obter nova base de dados, quantidade de internações por ano por UF\n",
        "mapa = {\n",
        "    'Ano atendimento' : 'ano',\n",
        "    'AC' : 'Acre',\n",
        "    'AL' : 'Alagoas',\n",
        "    'AP' : 'Amapá',\n",
        "    'AM' : 'Amazonas',\n",
        "    'BA' : 'Bahia',\n",
        "    'CE' : 'Ceará',\n",
        "    'DF' : 'Distrito Federal',\n",
        "    'ES' : 'Espírito Santo',\n",
        "    'GO' : 'Goiás',\n",
        "    'MA' : 'Maranhão',\n",
        "    'MT' : 'Mato Grosso',\n",
        "    'MS' : 'Mato Grosso do Sul',\n",
        "    'MG' : 'Minas Gerais',\n",
        "    'PA' : 'Pará',\n",
        "    'PB' : 'Paraíba',\n",
        "    'PR' : 'Paraná',\n",
        "    'PE' : 'Pernambuco',\n",
        "    'PI' : 'Piauí',\n",
        "    'RJ' : 'Rio de Janeiro',\n",
        "    'RN' : 'Rio Grande do Norte',\n",
        "    'RS' : 'Rio Grande do Sul',\n",
        "    'RO' : 'Rondônia',\n",
        "    'RR' : 'Roraima',\n",
        "    'SC' : 'Santa Catarina',\n",
        "    'SP' : 'São Paulo',\n",
        "    'SE' : 'Sergipe',\n",
        "    'TO' : 'Tocantins'\n",
        "};\n",
        "\n",
        "dados_internacoes_raw = pd.read_csv(\"https://raw.githubusercontent.com/hc0rd31r0/Bootcamp_Data_Science/main/dados/Internacoes_por_ano_porUF-A004344189_28_143_208.csv\",\n",
        "                    engine='python',\n",
        "                    encoding=\"ISO-8859-1\", \n",
        "                    skiprows = 3, sep=\";\", skipfooter=12,\n",
        "                    thousands=\".\", decimal=\",\").drop(\"Total\",axis=1)\n",
        "dados_internacoes = dados_internacoes_raw.copy()\n",
        "dados_internacoes.rename(columns=mapa, inplace=True)\n",
        "dados_internacoes.head()"
      ],
      "execution_count": 39,
      "outputs": [
        {
          "output_type": "execute_result",
          "data": {
            "text/html": [
              "<div>\n",
              "<style scoped>\n",
              "    .dataframe tbody tr th:only-of-type {\n",
              "        vertical-align: middle;\n",
              "    }\n",
              "\n",
              "    .dataframe tbody tr th {\n",
              "        vertical-align: top;\n",
              "    }\n",
              "\n",
              "    .dataframe thead th {\n",
              "        text-align: right;\n",
              "    }\n",
              "</style>\n",
              "<table border=\"1\" class=\"dataframe\">\n",
              "  <thead>\n",
              "    <tr style=\"text-align: right;\">\n",
              "      <th></th>\n",
              "      <th>ano</th>\n",
              "      <th>Rondônia</th>\n",
              "      <th>Acre</th>\n",
              "      <th>Amazonas</th>\n",
              "      <th>Roraima</th>\n",
              "      <th>Pará</th>\n",
              "      <th>Amapá</th>\n",
              "      <th>Tocantins</th>\n",
              "      <th>Maranhão</th>\n",
              "      <th>Piauí</th>\n",
              "      <th>Ceará</th>\n",
              "      <th>Rio Grande do Norte</th>\n",
              "      <th>Paraíba</th>\n",
              "      <th>Pernambuco</th>\n",
              "      <th>Alagoas</th>\n",
              "      <th>Sergipe</th>\n",
              "      <th>Bahia</th>\n",
              "      <th>Minas Gerais</th>\n",
              "      <th>Espírito Santo</th>\n",
              "      <th>Rio de Janeiro</th>\n",
              "      <th>São Paulo</th>\n",
              "      <th>Paraná</th>\n",
              "      <th>Santa Catarina</th>\n",
              "      <th>Rio Grande do Sul</th>\n",
              "      <th>Mato Grosso do Sul</th>\n",
              "      <th>Mato Grosso</th>\n",
              "      <th>Goiás</th>\n",
              "      <th>Distrito Federal</th>\n",
              "    </tr>\n",
              "  </thead>\n",
              "  <tbody>\n",
              "    <tr>\n",
              "      <th>0</th>\n",
              "      <td>2007</td>\n",
              "      <td>2376</td>\n",
              "      <td>2187</td>\n",
              "      <td>13459</td>\n",
              "      <td>2035</td>\n",
              "      <td>37857</td>\n",
              "      <td>2760</td>\n",
              "      <td>6421</td>\n",
              "      <td>24664</td>\n",
              "      <td>12007</td>\n",
              "      <td>18737</td>\n",
              "      <td>10294</td>\n",
              "      <td>10973</td>\n",
              "      <td>35172</td>\n",
              "      <td>7565</td>\n",
              "      <td>5084</td>\n",
              "      <td>22319</td>\n",
              "      <td>72046</td>\n",
              "      <td>11472</td>\n",
              "      <td>29525</td>\n",
              "      <td>100043</td>\n",
              "      <td>45779</td>\n",
              "      <td>24844</td>\n",
              "      <td>44375</td>\n",
              "      <td>9979</td>\n",
              "      <td>11471</td>\n",
              "      <td>23122</td>\n",
              "      <td>16396</td>\n",
              "    </tr>\n",
              "    <tr>\n",
              "      <th>1</th>\n",
              "      <td>2008</td>\n",
              "      <td>73088</td>\n",
              "      <td>49010</td>\n",
              "      <td>165614</td>\n",
              "      <td>25560</td>\n",
              "      <td>507219</td>\n",
              "      <td>33113</td>\n",
              "      <td>98558</td>\n",
              "      <td>325629</td>\n",
              "      <td>225907</td>\n",
              "      <td>492674</td>\n",
              "      <td>161497</td>\n",
              "      <td>223310</td>\n",
              "      <td>491204</td>\n",
              "      <td>179536</td>\n",
              "      <td>99867</td>\n",
              "      <td>847075</td>\n",
              "      <td>1122740</td>\n",
              "      <td>183888</td>\n",
              "      <td>642573</td>\n",
              "      <td>2202033</td>\n",
              "      <td>735004</td>\n",
              "      <td>373379</td>\n",
              "      <td>719203</td>\n",
              "      <td>153622</td>\n",
              "      <td>174477</td>\n",
              "      <td>357921</td>\n",
              "      <td>184851</td>\n",
              "    </tr>\n",
              "    <tr>\n",
              "      <th>2</th>\n",
              "      <td>2009</td>\n",
              "      <td>96612</td>\n",
              "      <td>46359</td>\n",
              "      <td>155100</td>\n",
              "      <td>28860</td>\n",
              "      <td>528358</td>\n",
              "      <td>37333</td>\n",
              "      <td>100278</td>\n",
              "      <td>362117</td>\n",
              "      <td>238843</td>\n",
              "      <td>492035</td>\n",
              "      <td>166786</td>\n",
              "      <td>234216</td>\n",
              "      <td>497038</td>\n",
              "      <td>177656</td>\n",
              "      <td>92960</td>\n",
              "      <td>875609</td>\n",
              "      <td>1110909</td>\n",
              "      <td>191030</td>\n",
              "      <td>642807</td>\n",
              "      <td>2269176</td>\n",
              "      <td>764001</td>\n",
              "      <td>389299</td>\n",
              "      <td>729375</td>\n",
              "      <td>158431</td>\n",
              "      <td>177585</td>\n",
              "      <td>361816</td>\n",
              "      <td>185144</td>\n",
              "    </tr>\n",
              "    <tr>\n",
              "      <th>3</th>\n",
              "      <td>2010</td>\n",
              "      <td>100443</td>\n",
              "      <td>49778</td>\n",
              "      <td>161830</td>\n",
              "      <td>32827</td>\n",
              "      <td>528658</td>\n",
              "      <td>36458</td>\n",
              "      <td>103059</td>\n",
              "      <td>395304</td>\n",
              "      <td>233769</td>\n",
              "      <td>487049</td>\n",
              "      <td>172370</td>\n",
              "      <td>231920</td>\n",
              "      <td>515899</td>\n",
              "      <td>180977</td>\n",
              "      <td>93524</td>\n",
              "      <td>886578</td>\n",
              "      <td>1136979</td>\n",
              "      <td>195450</td>\n",
              "      <td>666324</td>\n",
              "      <td>2339758</td>\n",
              "      <td>784951</td>\n",
              "      <td>389198</td>\n",
              "      <td>722331</td>\n",
              "      <td>163411</td>\n",
              "      <td>180163</td>\n",
              "      <td>371237</td>\n",
              "      <td>186895</td>\n",
              "    </tr>\n",
              "    <tr>\n",
              "      <th>4</th>\n",
              "      <td>2011</td>\n",
              "      <td>97936</td>\n",
              "      <td>52112</td>\n",
              "      <td>164114</td>\n",
              "      <td>30057</td>\n",
              "      <td>509347</td>\n",
              "      <td>37081</td>\n",
              "      <td>108143</td>\n",
              "      <td>403392</td>\n",
              "      <td>225808</td>\n",
              "      <td>484909</td>\n",
              "      <td>169939</td>\n",
              "      <td>211973</td>\n",
              "      <td>526924</td>\n",
              "      <td>177668</td>\n",
              "      <td>92631</td>\n",
              "      <td>877757</td>\n",
              "      <td>1147267</td>\n",
              "      <td>210945</td>\n",
              "      <td>654034</td>\n",
              "      <td>2350477</td>\n",
              "      <td>752266</td>\n",
              "      <td>399482</td>\n",
              "      <td>710201</td>\n",
              "      <td>157599</td>\n",
              "      <td>174354</td>\n",
              "      <td>352880</td>\n",
              "      <td>187789</td>\n",
              "    </tr>\n",
              "  </tbody>\n",
              "</table>\n",
              "</div>"
            ],
            "text/plain": [
              "    ano  Rondônia   Acre  ...  Mato Grosso   Goiás  Distrito Federal\n",
              "0  2007      2376   2187  ...        11471   23122             16396\n",
              "1  2008     73088  49010  ...       174477  357921            184851\n",
              "2  2009     96612  46359  ...       177585  361816            185144\n",
              "3  2010    100443  49778  ...       180163  371237            186895\n",
              "4  2011     97936  52112  ...       174354  352880            187789\n",
              "\n",
              "[5 rows x 28 columns]"
            ]
          },
          "metadata": {
            "tags": []
          },
          "execution_count": 39
        }
      ]
    },
    {
      "cell_type": "code",
      "metadata": {
        "colab": {
          "base_uri": "https://localhost:8080/",
          "height": 205
        },
        "id": "nUTI2skvdSb2",
        "outputId": "5869bf58-ce45-425d-e2e0-b42d170e344c"
      },
      "source": [
        "internacoesMelt = dados_internacoes.melt(id_vars=[\"ano\"])\n",
        "internacoesMelt.rename(columns={'variable':'uf', 'value':'internacoes'}, inplace=True)\n",
        "internacoesMelt.head()"
      ],
      "execution_count": 40,
      "outputs": [
        {
          "output_type": "execute_result",
          "data": {
            "text/html": [
              "<div>\n",
              "<style scoped>\n",
              "    .dataframe tbody tr th:only-of-type {\n",
              "        vertical-align: middle;\n",
              "    }\n",
              "\n",
              "    .dataframe tbody tr th {\n",
              "        vertical-align: top;\n",
              "    }\n",
              "\n",
              "    .dataframe thead th {\n",
              "        text-align: right;\n",
              "    }\n",
              "</style>\n",
              "<table border=\"1\" class=\"dataframe\">\n",
              "  <thead>\n",
              "    <tr style=\"text-align: right;\">\n",
              "      <th></th>\n",
              "      <th>ano</th>\n",
              "      <th>uf</th>\n",
              "      <th>internacoes</th>\n",
              "    </tr>\n",
              "  </thead>\n",
              "  <tbody>\n",
              "    <tr>\n",
              "      <th>0</th>\n",
              "      <td>2007</td>\n",
              "      <td>Rondônia</td>\n",
              "      <td>2376</td>\n",
              "    </tr>\n",
              "    <tr>\n",
              "      <th>1</th>\n",
              "      <td>2008</td>\n",
              "      <td>Rondônia</td>\n",
              "      <td>73088</td>\n",
              "    </tr>\n",
              "    <tr>\n",
              "      <th>2</th>\n",
              "      <td>2009</td>\n",
              "      <td>Rondônia</td>\n",
              "      <td>96612</td>\n",
              "    </tr>\n",
              "    <tr>\n",
              "      <th>3</th>\n",
              "      <td>2010</td>\n",
              "      <td>Rondônia</td>\n",
              "      <td>100443</td>\n",
              "    </tr>\n",
              "    <tr>\n",
              "      <th>4</th>\n",
              "      <td>2011</td>\n",
              "      <td>Rondônia</td>\n",
              "      <td>97936</td>\n",
              "    </tr>\n",
              "  </tbody>\n",
              "</table>\n",
              "</div>"
            ],
            "text/plain": [
              "    ano        uf  internacoes\n",
              "0  2007  Rondônia         2376\n",
              "1  2008  Rondônia        73088\n",
              "2  2009  Rondônia        96612\n",
              "3  2010  Rondônia       100443\n",
              "4  2011  Rondônia        97936"
            ]
          },
          "metadata": {
            "tags": []
          },
          "execution_count": 40
        }
      ]
    },
    {
      "cell_type": "code",
      "metadata": {
        "colab": {
          "base_uri": "https://localhost:8080/",
          "height": 205
        },
        "id": "UJd-iJGO1iBr",
        "outputId": "de4c32f7-44c6-4a5d-ea26-28e0afa9f745"
      },
      "source": [
        "gasto_internacao_merge = pd.merge( internacoesMelt, estados_a_analisar, on=[\"uf\", \"ano\"])\n",
        "gasto_internacao_merge.head()\n"
      ],
      "execution_count": 41,
      "outputs": [
        {
          "output_type": "execute_result",
          "data": {
            "text/html": [
              "<div>\n",
              "<style scoped>\n",
              "    .dataframe tbody tr th:only-of-type {\n",
              "        vertical-align: middle;\n",
              "    }\n",
              "\n",
              "    .dataframe tbody tr th {\n",
              "        vertical-align: top;\n",
              "    }\n",
              "\n",
              "    .dataframe thead th {\n",
              "        text-align: right;\n",
              "    }\n",
              "</style>\n",
              "<table border=\"1\" class=\"dataframe\">\n",
              "  <thead>\n",
              "    <tr style=\"text-align: right;\">\n",
              "      <th></th>\n",
              "      <th>ano</th>\n",
              "      <th>uf</th>\n",
              "      <th>internacoes</th>\n",
              "      <th>gasto</th>\n",
              "      <th>gasto_milhoes</th>\n",
              "      <th>mes</th>\n",
              "      <th>gasto_diario</th>\n",
              "      <th>gasto_milhoes_diario</th>\n",
              "    </tr>\n",
              "  </thead>\n",
              "  <tbody>\n",
              "    <tr>\n",
              "      <th>0</th>\n",
              "      <td>2008</td>\n",
              "      <td>Minas Gerais</td>\n",
              "      <td>1122740</td>\n",
              "      <td>894375233.11</td>\n",
              "      <td>894.38</td>\n",
              "      <td>77</td>\n",
              "      <td>29443856.36</td>\n",
              "      <td>29.44</td>\n",
              "    </tr>\n",
              "    <tr>\n",
              "      <th>1</th>\n",
              "      <td>2009</td>\n",
              "      <td>Minas Gerais</td>\n",
              "      <td>1110909</td>\n",
              "      <td>1149168433.67</td>\n",
              "      <td>1149.17</td>\n",
              "      <td>78</td>\n",
              "      <td>37768315.30</td>\n",
              "      <td>37.77</td>\n",
              "    </tr>\n",
              "    <tr>\n",
              "      <th>2</th>\n",
              "      <td>2010</td>\n",
              "      <td>Minas Gerais</td>\n",
              "      <td>1136979</td>\n",
              "      <td>1217516654.83</td>\n",
              "      <td>1217.52</td>\n",
              "      <td>78</td>\n",
              "      <td>40025839.54</td>\n",
              "      <td>40.03</td>\n",
              "    </tr>\n",
              "    <tr>\n",
              "      <th>3</th>\n",
              "      <td>2011</td>\n",
              "      <td>Minas Gerais</td>\n",
              "      <td>1147267</td>\n",
              "      <td>1315077772.94</td>\n",
              "      <td>1315.08</td>\n",
              "      <td>78</td>\n",
              "      <td>43244362.61</td>\n",
              "      <td>43.24</td>\n",
              "    </tr>\n",
              "    <tr>\n",
              "      <th>4</th>\n",
              "      <td>2012</td>\n",
              "      <td>Minas Gerais</td>\n",
              "      <td>1164605</td>\n",
              "      <td>1408435144.27</td>\n",
              "      <td>1408.44</td>\n",
              "      <td>78</td>\n",
              "      <td>46293376.07</td>\n",
              "      <td>46.29</td>\n",
              "    </tr>\n",
              "  </tbody>\n",
              "</table>\n",
              "</div>"
            ],
            "text/plain": [
              "    ano            uf  internacoes  ...  mes  gasto_diario  gasto_milhoes_diario\n",
              "0  2008  Minas Gerais      1122740  ...   77   29443856.36                 29.44\n",
              "1  2009  Minas Gerais      1110909  ...   78   37768315.30                 37.77\n",
              "2  2010  Minas Gerais      1136979  ...   78   40025839.54                 40.03\n",
              "3  2011  Minas Gerais      1147267  ...   78   43244362.61                 43.24\n",
              "4  2012  Minas Gerais      1164605  ...   78   46293376.07                 46.29\n",
              "\n",
              "[5 rows x 8 columns]"
            ]
          },
          "metadata": {
            "tags": []
          },
          "execution_count": 41
        }
      ]
    },
    {
      "cell_type": "code",
      "metadata": {
        "colab": {
          "base_uri": "https://localhost:8080/",
          "height": 315
        },
        "id": "0BAl7TwZ0xg6",
        "outputId": "f716410c-e7a2-4240-e3d6-ee7ec363a7ba"
      },
      "source": [
        "gastos_por_ano_internacao = gasto_internacao_merge[[\"uf\", \"ano\", \"internacoes\", \"gasto\", \"gasto_milhoes\"]]\n",
        "gastos_por_ano_internacao[\"gasto_por_internacao\"] = gastos_por_ano_internacao['gasto'] / gastos_por_ano_internacao['internacoes']\n",
        "gastos_por_ano_internacao.head()"
      ],
      "execution_count": 42,
      "outputs": [
        {
          "output_type": "stream",
          "text": [
            "/usr/local/lib/python3.7/dist-packages/ipykernel_launcher.py:2: SettingWithCopyWarning: \n",
            "A value is trying to be set on a copy of a slice from a DataFrame.\n",
            "Try using .loc[row_indexer,col_indexer] = value instead\n",
            "\n",
            "See the caveats in the documentation: https://pandas.pydata.org/pandas-docs/stable/user_guide/indexing.html#returning-a-view-versus-a-copy\n",
            "  \n"
          ],
          "name": "stderr"
        },
        {
          "output_type": "execute_result",
          "data": {
            "text/html": [
              "<div>\n",
              "<style scoped>\n",
              "    .dataframe tbody tr th:only-of-type {\n",
              "        vertical-align: middle;\n",
              "    }\n",
              "\n",
              "    .dataframe tbody tr th {\n",
              "        vertical-align: top;\n",
              "    }\n",
              "\n",
              "    .dataframe thead th {\n",
              "        text-align: right;\n",
              "    }\n",
              "</style>\n",
              "<table border=\"1\" class=\"dataframe\">\n",
              "  <thead>\n",
              "    <tr style=\"text-align: right;\">\n",
              "      <th></th>\n",
              "      <th>uf</th>\n",
              "      <th>ano</th>\n",
              "      <th>internacoes</th>\n",
              "      <th>gasto</th>\n",
              "      <th>gasto_milhoes</th>\n",
              "      <th>gasto_por_internacao</th>\n",
              "    </tr>\n",
              "  </thead>\n",
              "  <tbody>\n",
              "    <tr>\n",
              "      <th>0</th>\n",
              "      <td>Minas Gerais</td>\n",
              "      <td>2008</td>\n",
              "      <td>1122740</td>\n",
              "      <td>894375233.11</td>\n",
              "      <td>894.38</td>\n",
              "      <td>796.60</td>\n",
              "    </tr>\n",
              "    <tr>\n",
              "      <th>1</th>\n",
              "      <td>Minas Gerais</td>\n",
              "      <td>2009</td>\n",
              "      <td>1110909</td>\n",
              "      <td>1149168433.67</td>\n",
              "      <td>1149.17</td>\n",
              "      <td>1034.44</td>\n",
              "    </tr>\n",
              "    <tr>\n",
              "      <th>2</th>\n",
              "      <td>Minas Gerais</td>\n",
              "      <td>2010</td>\n",
              "      <td>1136979</td>\n",
              "      <td>1217516654.83</td>\n",
              "      <td>1217.52</td>\n",
              "      <td>1070.83</td>\n",
              "    </tr>\n",
              "    <tr>\n",
              "      <th>3</th>\n",
              "      <td>Minas Gerais</td>\n",
              "      <td>2011</td>\n",
              "      <td>1147267</td>\n",
              "      <td>1315077772.94</td>\n",
              "      <td>1315.08</td>\n",
              "      <td>1146.27</td>\n",
              "    </tr>\n",
              "    <tr>\n",
              "      <th>4</th>\n",
              "      <td>Minas Gerais</td>\n",
              "      <td>2012</td>\n",
              "      <td>1164605</td>\n",
              "      <td>1408435144.27</td>\n",
              "      <td>1408.44</td>\n",
              "      <td>1209.37</td>\n",
              "    </tr>\n",
              "  </tbody>\n",
              "</table>\n",
              "</div>"
            ],
            "text/plain": [
              "             uf   ano  ...  gasto_milhoes  gasto_por_internacao\n",
              "0  Minas Gerais  2008  ...         894.38                796.60\n",
              "1  Minas Gerais  2009  ...        1149.17               1034.44\n",
              "2  Minas Gerais  2010  ...        1217.52               1070.83\n",
              "3  Minas Gerais  2011  ...        1315.08               1146.27\n",
              "4  Minas Gerais  2012  ...        1408.44               1209.37\n",
              "\n",
              "[5 rows x 6 columns]"
            ]
          },
          "metadata": {
            "tags": []
          },
          "execution_count": 42
        }
      ]
    },
    {
      "cell_type": "code",
      "metadata": {
        "colab": {
          "base_uri": "https://localhost:8080/",
          "height": 427
        },
        "id": "DZ6-qrky2SYN",
        "outputId": "8a1caea7-7148-45f5-d8cd-d95b5f5598ec"
      },
      "source": [
        "g = sns.catplot(data=gastos_por_ano_internacao, x='ano', y='gasto_por_internacao', hue='gasto_por_internacao',\n",
        "            dodge=False, kind='bar', col='uf', palette='rocket_r', col_wrap=3, legend=False)\n",
        "for c in g.axes:\n",
        "  c.yaxis.grid(True)\n",
        "  c.set_title(list(g.axes_dict.keys())[list(g.axes_dict.values()).index(c)]) # Utilizando o g.axes_dict para acessar cada nome de UF.\n",
        "\n",
        "for ax in g.axes.flat:\n",
        "  ax.yaxis.set_major_formatter(ticker.StrMethodFormatter('R$ {x:,.2f}'))\n",
        "\n",
        "g.set_axis_labels('Ano','Valor p/ Internações')\n",
        "g.set_xticklabels(rotation=45, ha='right')\n",
        "plt.suptitle('Gasto médio de Internações por Ano', fontsize=16, fontweight='bold', y='1.05', color='black')\n",
        "\n",
        "plt.show()"
      ],
      "execution_count": 43,
      "outputs": [
        {
          "output_type": "display_data",
          "data": {
            "image/png": "[encoded data removed]",
            "text/plain": [
              "<Figure size 1080x360 with 3 Axes>"
            ]
          },
          "metadata": {
            "tags": [],
            "needs_background": "light"
          }
        }
      ]
    },
    {
      "cell_type": "markdown",
      "metadata": {
        "id": "sx3kBwVmekKQ"
      },
      "source": [
        "O que aprendemos nessa aula:\n",
        "\n",
        "---\n",
        "\n",
        "* Como usar o Groupby;\n",
        "* Como alterar a Palete de cores do seu gráfico com seaborn;\n",
        "* Como usar a Palete de cores para ajudar na interpretação dos gráficos;\n",
        "* O que é e como usar o catplot para comparar categorias."
      ]
    }
  ]
}