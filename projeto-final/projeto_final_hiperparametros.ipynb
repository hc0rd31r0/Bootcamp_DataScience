{
  "nbformat": 4,
  "nbformat_minor": 0,
  "metadata": {
    "colab": {
      "name": "projeto_final_hiperparametros.ipynb",
      "provenance": [],
      "collapsed_sections": [],
      "mount_file_id": "10nLqve7KrZpstIeUCNCQa_T6JK7cHh6L",
      "authorship_tag": "ABX9TyMmgmqixAxcI5H9AUXf2d6T",
      "include_colab_link": true
    },
    "kernelspec": {
      "name": "python3",
      "display_name": "Python 3"
    },
    "language_info": {
      "name": "python"
    }
  },
  "cells": [
    {
      "cell_type": "markdown",
      "metadata": {
        "id": "view-in-github",
        "colab_type": "text"
      },
      "source": [
        "<a href=\"https://colab.research.google.com/github/hc0rd31r0/Bootcamp_Data_Science/blob/main/projeto-final/projeto_final_hiperparametros.ipynb\" target=\"_parent\"><img src=\"https://colab.research.google.com/assets/colab-badge.svg\" alt=\"Open In Colab\"/></a>"
      ]
    },
    {
      "cell_type": "markdown",
      "metadata": {
        "id": "7_MRx0ZTNvi4"
      },
      "source": [
        "<img src=\"https://github.com/hc0rd31r0/Bootcamp_Data_Science/blob/main/projeto-final/img/Banner_Bootcamp.png?raw=true\">\n",
        "\n",
        "#**Projeto Final de Conclusão de Curso**\n",
        "###Bootcamp Data Science Aplicada 2 by [Alura](https://www.alura.com.br/) \n",
        "####Autor: Helton Cordeiro\n",
        "e-mail: heltoncordeiro@gmail.com\n",
        "\n",
        "Junho-Agosto/2021.\n"
      ]
    },
    {
      "cell_type": "markdown",
      "metadata": {
        "id": "OQT6AvZYcFpH"
      },
      "source": [
        "\n",
        "---\n",
        "\n",
        "# **Objetivo desse notebook**\n",
        "\n",
        "Após os dados disponibilizados pelo Hospital Sírio Libânes ter sido tratados em [notebook próprio](https://github.com/hc0rd31r0/Bootcamp_Data_Science/blob/main/projeto-final/projeto_final_tratamento_dados.ipynb) e termos trabalhando com alguns modelos de Machine Learning com seus valores default, vamos explorar os hiperparametros nesse notebook. \n",
        "\n",
        "Será utilizando um dicionário com o range de valores e parâmetros  que serão passados para o método **RandomizedSearchCV** utilizando a função *executa_modelos_RandomizedSearchCV* que está no arquivo funcoes.py.\n",
        "\n",
        "A proposta da separação do [notebook de análise](https://github.com/hc0rd31r0/Bootcamp_Data_Science/blob/main/projeto-final/Bootcamp_DataScience_projeto_final.ipynb) se deve ao tempo de processamento necessário para testar todos os modelos, além de facilitar futuros ajustes.\n",
        "\n",
        "---"
      ]
    },
    {
      "cell_type": "markdown",
      "metadata": {
        "id": "NlAytED28FKF"
      },
      "source": [
        "\n",
        "##O que é um hiperparâmetro?\n",
        "\n",
        "Os hiperparâmetros contêm os dados que controlam o próprio processo de treinamento.\n",
        "\n",
        "Seu aplicativo de treinamento lida com três categorias de dados durante o treinamento do modelo:\n",
        "\n",
        "* Os *dados de entrada*, também chamados de dados de treinamento, formam uma coleção de registros individuais (instâncias) com as características que são importantes para o problema de machine learning. Esses dados configuram o modelo durante o treinamento para fazer predições precisas sobre novas instâncias de dados semelhantes. No entanto, os valores nos dados de entrada nunca se tornam diretamente parte do modelo.\n",
        "\n",
        "* Os *parâmetros* do modelo são as variáveis que a técnica de machine learning escolhida usa para ajustar os dados. Por exemplo, uma rede neural profunda (DNN, na sigla em inglês) é composta por nós de processamento (neurônios), cada um com uma operação realizada nos dados enquanto eles trafegam pela rede. Quando a DNN é treinada, cada node tem um valor de peso que informa ao modelo o impacto que ele tem na predição final. Esses pesos são um exemplo dos parâmetros do modelo. De muitas formas, esses parâmetros são o modelo. Ou seja, são eles que diferenciam seu modelo específico de outros modelos do mesmo tipo que trabalham com dados semelhantes.\n",
        "\n",
        "* Os *hiperparâmetros* são variáveis que controlam o próprio processo de treinamento. Por exemplo, faz parte da configuração de uma rede neural profunda decidir quantas camadas ocultas de nós precisam ser usadas entre a camada de entrada e a camada de saída, bem como quantos nós cada camada precisa usar. Essas variáveis não estão diretamente relacionadas aos dados de treinamento. Elas são variáveis de configuração. Os parâmetros mudam durante um job de treinamento, enquanto os hiperparâmetros geralmente permanecem constantes durante um job.\n",
        "\n",
        "\n",
        "Os parâmetros do modelo são otimizados (ou seja, \"ajustados\") pelo processo de treinamento. Você executa os dados por meio das operações do modelo, compara a predição resultante com o valor real de cada instância de dados, avalia a precisão e ajusta até encontrar os melhores valores. Os hiperparâmetros são ajustados por meio da execução de todo o job de treinamento, a observação da precisão agregada e o ajuste. Nos dois casos, você está modificando a composição do modelo tentando encontrar a melhor combinação para lidar com o problema.\n",
        "\n",
        "Fonte: [Visão geral do ajuste de hiperparâmetros](https://cloud.google.com/ai-platform/training/docs/hyperparameter-tuning-overview?hl=pt-br)\n"
      ]
    },
    {
      "cell_type": "markdown",
      "metadata": {
        "id": "XuOxw9yElGZ9"
      },
      "source": [
        "##Importação de Bibliotecas"
      ]
    },
    {
      "cell_type": "code",
      "metadata": {
        "id": "a2BpIgxxb0i0"
      },
      "source": [
        "import pandas as pd\n",
        "import numpy as np\n",
        "import random\n",
        "from scipy.stats import randint\n",
        "\n",
        "import warnings\n",
        "warnings.simplefilter(action='ignore')"
      ],
      "execution_count": 1,
      "outputs": []
    },
    {
      "cell_type": "markdown",
      "metadata": {
        "id": "VZp-yPhK6gIy"
      },
      "source": [
        "## Importando as funções auxiliares\n",
        "\n",
        "* Arquivo funcoes.py contém as funções python que serão utilizados pelo projeto."
      ]
    },
    {
      "cell_type": "code",
      "metadata": {
        "id": "xRs7TieDrEp3"
      },
      "source": [
        "#!python funcoes.py\n",
        "from funcoes import executa_modelos_RandomizedSearchCV"
      ],
      "execution_count": 2,
      "outputs": []
    },
    {
      "cell_type": "markdown",
      "metadata": {
        "id": "r_ZqCvzS-neO"
      },
      "source": [
        "## Carregando os dados\n",
        "Vamos carregar o arquivo de dados tratados e sem as colunas com alta correção.\n",
        "\n",
        "O processo de tratamento dos dados estão nesse notebook [projeto_final_tratamento_dados.ipynb](https://github.com/hc0rd31r0/Bootcamp_Data_Science/blob/main/projeto-final/projeto_final_tratamento_dados.ipynb).\n"
      ]
    },
    {
      "cell_type": "markdown",
      "metadata": {
        "id": "92lMw8dolouY"
      },
      "source": [
        "### Realizando a carga de dados"
      ]
    },
    {
      "cell_type": "code",
      "metadata": {
        "id": "qhd3XQ_RfYQl"
      },
      "source": [
        "url='https://github.com/hc0rd31r0/Bootcamp_Data_Science/blob/main/projeto-final/dados/Kaggle_Sirio_Libanes_ICU_Prediction-tratado-sem-corr.xls?raw=true'\n",
        "dados_raw = pd.read_excel(url, index_col=0)\n",
        "dados = dados_raw.copy()"
      ],
      "execution_count": 3,
      "outputs": []
    },
    {
      "cell_type": "markdown",
      "metadata": {
        "id": "4DMLZeuAaMCn"
      },
      "source": [
        "\n",
        "\n",
        "---\n",
        "\n",
        "\n",
        "#Modelos de Machine Learning\n",
        "Relação dos Modelos que serão testados nesse projeto, foram selecionados por resolverem problemas de classificação binária e aprendizado supervisionado.\n",
        "\n",
        "\n",
        "1. [KNeighborsClassifier](\n",
        "https://scikit-learn.org/stable/modules/generated/sklearn.neighbors.KNeighborsClassifier.html)\n",
        "\n",
        "2. [SVC - Linear](https://scikit-learn.org/stable/modules/generated/sklearn.svm.SVC.html)\n",
        "\n",
        "3. [SVC - RBF](https://scikit-learn.org/stable/modules/generated/sklearn.svm.SVC.html)\n",
        "\n",
        "4. [GaussianProcessClassifier](https://scikit-learn.org/stable/modules/generated/sklearn.gaussian_process.GaussianProcessClassifier.html)\n",
        "\n",
        "5. [DecisionTreeClassifier](https://scikit-learn.org/stable/modules/generated/sklearn.tree.DecisionTreeClassifier.html#sklearn.tree.DecisionTreeClassifier)\n",
        "\n",
        "6. [RandomForestClassifier](https://scikit-learn.org/stable/modules/generated/sklearn.ensemble.RandomForestClassifier.html)\n",
        "\n",
        "7. [Neural Net (MLP)](https://scikit-learn.org/stable/modules/generated/sklearn.neural_network.MLPClassifier.html)\n",
        "\n",
        "8. [AdaBoostClassifier](https://scikit-learn.org/stable/modules/generated/sklearn.ensemble.AdaBoostClassifier.html)\n",
        "\n",
        "9. [GradientBoostingClassifier](https://scikit-learn.org/stable/modules/generated/sklearn.ensemble.GradientBoostingClassifier.html)\n",
        "\n",
        "10. [ExtraTreesClassifier](https://scikit-learn.org/stable/modules/generated/sklearn.ensemble.ExtraTreesClassifier.html)\n",
        "\n",
        "\n",
        "\n",
        "---\n",
        "\n"
      ]
    },
    {
      "cell_type": "markdown",
      "metadata": {
        "id": "W5MX2mz-pO_u"
      },
      "source": [
        "##Modelos"
      ]
    },
    {
      "cell_type": "code",
      "metadata": {
        "id": "80dSTGdjaLMJ"
      },
      "source": [
        "from sklearn.neighbors import KNeighborsClassifier\n",
        "from sklearn.svm import SVC\n",
        "from sklearn.gaussian_process import GaussianProcessClassifier\n",
        "from sklearn.tree import DecisionTreeClassifier\n",
        "from sklearn.neural_network import MLPClassifier\n",
        "from sklearn.ensemble import AdaBoostClassifier, GradientBoostingClassifier\n",
        "from sklearn.ensemble import RandomForestClassifier, ExtraTreesClassifier\n",
        "\n",
        "names = [\"KNeighbors\", \"LinearSVC\", \"RBFSVC\", \"Gaussian\",\n",
        "         \"DecisionTree\", \"RandomForest\", \"NeuralMLP\", \"AdaBoost\",\n",
        "         \"Gradient\", \"ExtraTrees\"]\n",
        "\n",
        "classes = [\n",
        "    KNeighborsClassifier(),\n",
        "    SVC(kernel=\"linear\", probability=True),\n",
        "    SVC(kernel=\"rbf\", probability=True),\n",
        "    GaussianProcessClassifier(),\n",
        "    DecisionTreeClassifier(),\n",
        "    RandomForestClassifier(),\n",
        "    MLPClassifier(),\n",
        "    AdaBoostClassifier(),\n",
        "    GradientBoostingClassifier(),\n",
        "    ExtraTreesClassifier() ]"
      ],
      "execution_count": 4,
      "outputs": []
    },
    {
      "cell_type": "markdown",
      "metadata": {
        "id": "V9q75N4Ws2-w"
      },
      "source": [
        "##Testando Hiperparâmetros\n",
        "\n",
        "Definindo o dicionário de parâmetros a serem testados."
      ]
    },
    {
      "cell_type": "code",
      "metadata": {
        "id": "FLO4oDfh1_CI"
      },
      "source": [
        "hiperparams = { \n",
        "    \"KNeighbors\"  : { \n",
        "        \"n_neighbors\" : randint(2, 20),\n",
        "        \"weights\" : [\"uniform\", \"distance\"],\n",
        "        \"leaf_size\" : randint(25, 100),\n",
        "        \"metric\" : [\"minkowski\",\"wminkowski\", \"euclidean\"] \n",
        "    },\n",
        "    \"LinearSVC\"   : { \n",
        "        \"gamma\" : [\"scale\",\"auto\"],\n",
        "        \"C\": randint(0,2)\n",
        "    },\n",
        "    \"RBFSVC\"      : { \n",
        "        \"gamma\" : [\"scale\",\"auto\"],\n",
        "        \"C\": randint(0,2)\n",
        "    },\n",
        "    \"Gaussian\"    : {\n",
        "        \"n_restarts_optimizer\" : randint(0, 5),\n",
        "        \"max_iter_predict\" : randint(50,500),\n",
        "        \"warm_start\" : [False, True] \n",
        "    },\n",
        "    \"DecisionTree\": {\n",
        "        \"criterion\" : [\"gini\", \"entropy\"],\n",
        "        \"max_depth\" : randint(2, 10),\n",
        "        \"min_samples_split\" : randint(2, 129),\n",
        "        \"min_samples_leaf\" : randint(1, 129)\n",
        "    },\n",
        "    \"RandomForest\": {\n",
        "        \"n_estimators\" :randint(50, 500),\n",
        "        \"criterion\" : [\"gini\", \"entropy\"],\n",
        "        \"max_depth\" : randint(3, 200),\n",
        "        \"min_samples_split\" : randint(2, 300),\n",
        "        \"min_samples_leaf\" : randint(1, 300),\n",
        "        \"bootstrap\" : [True, False],\n",
        "        \"warm_start\" : [False, True]\n",
        "    },\n",
        "    \"NeuralMLP\"   : {\n",
        "        \"activation\" : [\"identity\", \"logistic\", \"tanh\", \"relu\"],\n",
        "        \"solver\" : [\"lbfgs\", \"sgd\", \"adam\"],\n",
        "        \"shuffle\" : [True, False],\n",
        "        \"warm_start\" : [False, True]\n",
        "    },\n",
        "    \"AdaBoost\"    : {\n",
        "        \"n_estimators\" : randint(25, 200),\n",
        "        \"algorithm\" : [\"SAMME\",\"SAMME.R\"]\n",
        "    },\n",
        "    \"Gradient\"    : {\n",
        "        \"learning_rate\" : randint(0.1, 2),\n",
        "        \"n_estimators\" : randint(50,500), \n",
        "        \"min_samples_split\" : randint(2, 25),\n",
        "        \"min_samples_leaf\" : randint(1, 10), \n",
        "        \"max_depth\" : randint(1,15), \n",
        "        \"warm_start\" : [False, True],\n",
        "        \"subsample\" : randint(0.5, 5)\n",
        "    },\n",
        "    \"ExtraTrees\"  : {\n",
        "        \"n_estimators\" :randint(50, 500),\n",
        "        \"criterion\" : [\"gini\", \"entropy\"],\n",
        "        \"max_depth\" : randint(0, 10),\n",
        "        \"min_samples_split\" : randint(2, 129),\n",
        "        \"min_samples_leaf\" : randint(1, 129),\n",
        "        \"bootstrap\" : [True, False],\n",
        "        \"warm_start\" : [False, True] \n",
        "    }\n",
        "}"
      ],
      "execution_count": 5,
      "outputs": []
    },
    {
      "cell_type": "markdown",
      "metadata": {
        "id": "aPVyqHgU67QZ"
      },
      "source": [
        "##Vamos processar as modelos utilizando 5 splits de dados, com 10 repetições e 15 iterações."
      ]
    },
    {
      "cell_type": "code",
      "metadata": {
        "colab": {
          "base_uri": "https://localhost:8080/"
        },
        "id": "Ri11zEwqU3At",
        "outputId": "072710c1-9bb8-4673-c899-25a77102686f"
      },
      "source": [
        "dfmodelosRand = executa_modelos_RandomizedSearchCV(names, classes, dados, 5, 10, hiperparams, 15)"
      ],
      "execution_count": 6,
      "outputs": [
        {
          "output_type": "stream",
          "text": [
            "Modelo: KNeighbors \t tempo: 23 segundos\n",
            "Modelo: LinearSVC \t tempo: 27 segundos\n",
            "Modelo: RBFSVC \t tempo: 32 segundos\n",
            "Modelo: Gaussian \t tempo: 83 segundos\n",
            "Modelo: DecisionTree \t tempo: 12 segundos\n",
            "Modelo: RandomForest \t tempo: 238 segundos\n",
            "Modelo: NeuralMLP \t tempo: 420 segundos\n",
            "Modelo: AdaBoost \t tempo: 197 segundos\n",
            "Modelo: Gradient \t tempo: 12 segundos\n",
            "Modelo: ExtraTrees \t tempo: 334 segundos\n"
          ],
          "name": "stdout"
        }
      ]
    },
    {
      "cell_type": "code",
      "metadata": {
        "id": "KOImuDfnzccU",
        "colab": {
          "base_uri": "https://localhost:8080/",
          "height": 390
        },
        "outputId": "16868d65-6b73-4ef1-c62a-5276b00cda7f"
      },
      "source": [
        "dfmodelosRand"
      ],
      "execution_count": 7,
      "outputs": [
        {
          "output_type": "execute_result",
          "data": {
            "text/html": [
              "<div>\n",
              "<style scoped>\n",
              "    .dataframe tbody tr th:only-of-type {\n",
              "        vertical-align: middle;\n",
              "    }\n",
              "\n",
              "    .dataframe tbody tr th {\n",
              "        vertical-align: top;\n",
              "    }\n",
              "\n",
              "    .dataframe thead th {\n",
              "        text-align: right;\n",
              "    }\n",
              "</style>\n",
              "<table border=\"1\" class=\"dataframe\">\n",
              "  <thead>\n",
              "    <tr style=\"text-align: right;\">\n",
              "      <th></th>\n",
              "      <th>Modelo</th>\n",
              "      <th>Accuracy</th>\n",
              "      <th>ROC AUC</th>\n",
              "      <th>PR AUC</th>\n",
              "      <th>Train ROC AUC</th>\n",
              "      <th>Best Params</th>\n",
              "      <th>Tempo</th>\n",
              "    </tr>\n",
              "    <tr>\n",
              "      <th>Nome</th>\n",
              "      <th></th>\n",
              "      <th></th>\n",
              "      <th></th>\n",
              "      <th></th>\n",
              "      <th></th>\n",
              "      <th></th>\n",
              "      <th></th>\n",
              "    </tr>\n",
              "  </thead>\n",
              "  <tbody>\n",
              "    <tr>\n",
              "      <th>RandomForest</th>\n",
              "      <td>(DecisionTreeClassifier(ccp_alpha=0.0, class_w...</td>\n",
              "      <td>0.665985</td>\n",
              "      <td>0.778032</td>\n",
              "      <td>0.671619</td>\n",
              "      <td>0.869315</td>\n",
              "      <td>{'bootstrap': True, 'criterion': 'entropy', 'm...</td>\n",
              "      <td>238</td>\n",
              "    </tr>\n",
              "    <tr>\n",
              "      <th>ExtraTrees</th>\n",
              "      <td>(ExtraTreeClassifier(ccp_alpha=0.0, class_weig...</td>\n",
              "      <td>0.643857</td>\n",
              "      <td>0.753486</td>\n",
              "      <td>0.636728</td>\n",
              "      <td>0.817983</td>\n",
              "      <td>{'bootstrap': True, 'criterion': 'entropy', 'm...</td>\n",
              "      <td>334</td>\n",
              "    </tr>\n",
              "    <tr>\n",
              "      <th>NeuralMLP</th>\n",
              "      <td>MLPClassifier(activation='logistic', alpha=0.0...</td>\n",
              "      <td>0.685663</td>\n",
              "      <td>0.749587</td>\n",
              "      <td>0.611202</td>\n",
              "      <td>0.812089</td>\n",
              "      <td>{'warm_start': True, 'solver': 'adam', 'shuffl...</td>\n",
              "      <td>420</td>\n",
              "    </tr>\n",
              "    <tr>\n",
              "      <th>LinearSVC</th>\n",
              "      <td>SVC(C=1, break_ties=False, cache_size=200, cla...</td>\n",
              "      <td>0.711905</td>\n",
              "      <td>0.741760</td>\n",
              "      <td>0.637487</td>\n",
              "      <td>0.849426</td>\n",
              "      <td>{'C': 1, 'gamma': 'auto'}</td>\n",
              "      <td>27</td>\n",
              "    </tr>\n",
              "    <tr>\n",
              "      <th>RBFSVC</th>\n",
              "      <td>SVC(C=1, break_ties=False, cache_size=200, cla...</td>\n",
              "      <td>0.650351</td>\n",
              "      <td>0.723472</td>\n",
              "      <td>0.570662</td>\n",
              "      <td>0.777884</td>\n",
              "      <td>{'C': 1, 'gamma': 'scale'}</td>\n",
              "      <td>32</td>\n",
              "    </tr>\n",
              "    <tr>\n",
              "      <th>AdaBoost</th>\n",
              "      <td>(DecisionTreeClassifier(ccp_alpha=0.0, class_w...</td>\n",
              "      <td>0.695582</td>\n",
              "      <td>0.722144</td>\n",
              "      <td>0.617496</td>\n",
              "      <td>0.968695</td>\n",
              "      <td>{'algorithm': 'SAMME', 'n_estimators': 57}</td>\n",
              "      <td>197</td>\n",
              "    </tr>\n",
              "    <tr>\n",
              "      <th>DecisionTree</th>\n",
              "      <td>DecisionTreeClassifier(ccp_alpha=0.0, class_we...</td>\n",
              "      <td>0.703811</td>\n",
              "      <td>0.718168</td>\n",
              "      <td>0.551857</td>\n",
              "      <td>0.809147</td>\n",
              "      <td>{'criterion': 'gini', 'max_depth': 5, 'min_sam...</td>\n",
              "      <td>12</td>\n",
              "    </tr>\n",
              "    <tr>\n",
              "      <th>Gaussian</th>\n",
              "      <td>GaussianProcessClassifier(copy_X_train=True, k...</td>\n",
              "      <td>0.633326</td>\n",
              "      <td>0.712328</td>\n",
              "      <td>0.520752</td>\n",
              "      <td>0.950303</td>\n",
              "      <td>{'max_iter_predict': 483, 'n_restarts_optimize...</td>\n",
              "      <td>83</td>\n",
              "    </tr>\n",
              "    <tr>\n",
              "      <th>KNeighbors</th>\n",
              "      <td>KNeighborsClassifier(algorithm='auto', leaf_si...</td>\n",
              "      <td>0.645915</td>\n",
              "      <td>0.704664</td>\n",
              "      <td>0.528747</td>\n",
              "      <td>0.754837</td>\n",
              "      <td>{'leaf_size': 29, 'metric': 'minkowski', 'n_ne...</td>\n",
              "      <td>23</td>\n",
              "    </tr>\n",
              "    <tr>\n",
              "      <th>Gradient</th>\n",
              "      <td>([DecisionTreeRegressor(ccp_alpha=0.0, criteri...</td>\n",
              "      <td>0.675114</td>\n",
              "      <td>0.702705</td>\n",
              "      <td>0.583265</td>\n",
              "      <td>1.000000</td>\n",
              "      <td>{'learning_rate': 1, 'max_depth': 10, 'min_sam...</td>\n",
              "      <td>12</td>\n",
              "    </tr>\n",
              "  </tbody>\n",
              "</table>\n",
              "</div>"
            ],
            "text/plain": [
              "                                                         Modelo  ...  Tempo\n",
              "Nome                                                             ...       \n",
              "RandomForest  (DecisionTreeClassifier(ccp_alpha=0.0, class_w...  ...    238\n",
              "ExtraTrees    (ExtraTreeClassifier(ccp_alpha=0.0, class_weig...  ...    334\n",
              "NeuralMLP     MLPClassifier(activation='logistic', alpha=0.0...  ...    420\n",
              "LinearSVC     SVC(C=1, break_ties=False, cache_size=200, cla...  ...     27\n",
              "RBFSVC        SVC(C=1, break_ties=False, cache_size=200, cla...  ...     32\n",
              "AdaBoost      (DecisionTreeClassifier(ccp_alpha=0.0, class_w...  ...    197\n",
              "DecisionTree  DecisionTreeClassifier(ccp_alpha=0.0, class_we...  ...     12\n",
              "Gaussian      GaussianProcessClassifier(copy_X_train=True, k...  ...     83\n",
              "KNeighbors    KNeighborsClassifier(algorithm='auto', leaf_si...  ...     23\n",
              "Gradient      ([DecisionTreeRegressor(ccp_alpha=0.0, criteri...  ...     12\n",
              "\n",
              "[10 rows x 7 columns]"
            ]
          },
          "metadata": {
            "tags": []
          },
          "execution_count": 7
        }
      ]
    },
    {
      "cell_type": "markdown",
      "metadata": {
        "id": "exA_DZBN5DtA"
      },
      "source": [
        "# Lista dos melhores parâmetros\n",
        "\n",
        "Após aproximadamente 23 minutos de processamentos temos a lista dos melhores modelos e parâmetros de acordo com as configurações apresentadas no dicionário ```hiperparams```."
      ]
    },
    {
      "cell_type": "code",
      "metadata": {
        "colab": {
          "base_uri": "https://localhost:8080/",
          "height": 826
        },
        "id": "AY1r5atp7N9N",
        "outputId": "f1a13521-e6a6-4410-e610-d9e5dcb980a9"
      },
      "source": [
        "for indice in names:\n",
        "   display(indice, dfmodelosRand.at[indice,'Best Params'])"
      ],
      "execution_count": 8,
      "outputs": [
        {
          "output_type": "display_data",
          "data": {
            "application/vnd.google.colaboratory.intrinsic+json": {
              "type": "string"
            },
            "text/plain": [
              "'KNeighbors'"
            ]
          },
          "metadata": {
            "tags": []
          }
        },
        {
          "output_type": "display_data",
          "data": {
            "text/plain": [
              "{'leaf_size': 29,\n",
              " 'metric': 'minkowski',\n",
              " 'n_neighbors': 18,\n",
              " 'weights': 'uniform'}"
            ]
          },
          "metadata": {
            "tags": []
          }
        },
        {
          "output_type": "display_data",
          "data": {
            "application/vnd.google.colaboratory.intrinsic+json": {
              "type": "string"
            },
            "text/plain": [
              "'LinearSVC'"
            ]
          },
          "metadata": {
            "tags": []
          }
        },
        {
          "output_type": "display_data",
          "data": {
            "text/plain": [
              "{'C': 1, 'gamma': 'auto'}"
            ]
          },
          "metadata": {
            "tags": []
          }
        },
        {
          "output_type": "display_data",
          "data": {
            "application/vnd.google.colaboratory.intrinsic+json": {
              "type": "string"
            },
            "text/plain": [
              "'RBFSVC'"
            ]
          },
          "metadata": {
            "tags": []
          }
        },
        {
          "output_type": "display_data",
          "data": {
            "text/plain": [
              "{'C': 1, 'gamma': 'scale'}"
            ]
          },
          "metadata": {
            "tags": []
          }
        },
        {
          "output_type": "display_data",
          "data": {
            "application/vnd.google.colaboratory.intrinsic+json": {
              "type": "string"
            },
            "text/plain": [
              "'Gaussian'"
            ]
          },
          "metadata": {
            "tags": []
          }
        },
        {
          "output_type": "display_data",
          "data": {
            "text/plain": [
              "{'max_iter_predict': 483, 'n_restarts_optimizer': 3, 'warm_start': True}"
            ]
          },
          "metadata": {
            "tags": []
          }
        },
        {
          "output_type": "display_data",
          "data": {
            "application/vnd.google.colaboratory.intrinsic+json": {
              "type": "string"
            },
            "text/plain": [
              "'DecisionTree'"
            ]
          },
          "metadata": {
            "tags": []
          }
        },
        {
          "output_type": "display_data",
          "data": {
            "text/plain": [
              "{'criterion': 'gini',\n",
              " 'max_depth': 5,\n",
              " 'min_samples_leaf': 32,\n",
              " 'min_samples_split': 21}"
            ]
          },
          "metadata": {
            "tags": []
          }
        },
        {
          "output_type": "display_data",
          "data": {
            "application/vnd.google.colaboratory.intrinsic+json": {
              "type": "string"
            },
            "text/plain": [
              "'RandomForest'"
            ]
          },
          "metadata": {
            "tags": []
          }
        },
        {
          "output_type": "display_data",
          "data": {
            "text/plain": [
              "{'bootstrap': True,\n",
              " 'criterion': 'entropy',\n",
              " 'max_depth': 82,\n",
              " 'min_samples_leaf': 27,\n",
              " 'min_samples_split': 10,\n",
              " 'n_estimators': 256,\n",
              " 'warm_start': False}"
            ]
          },
          "metadata": {
            "tags": []
          }
        },
        {
          "output_type": "display_data",
          "data": {
            "application/vnd.google.colaboratory.intrinsic+json": {
              "type": "string"
            },
            "text/plain": [
              "'NeuralMLP'"
            ]
          },
          "metadata": {
            "tags": []
          }
        },
        {
          "output_type": "display_data",
          "data": {
            "text/plain": [
              "{'activation': 'logistic',\n",
              " 'shuffle': True,\n",
              " 'solver': 'adam',\n",
              " 'warm_start': True}"
            ]
          },
          "metadata": {
            "tags": []
          }
        },
        {
          "output_type": "display_data",
          "data": {
            "application/vnd.google.colaboratory.intrinsic+json": {
              "type": "string"
            },
            "text/plain": [
              "'AdaBoost'"
            ]
          },
          "metadata": {
            "tags": []
          }
        },
        {
          "output_type": "display_data",
          "data": {
            "text/plain": [
              "{'algorithm': 'SAMME', 'n_estimators': 57}"
            ]
          },
          "metadata": {
            "tags": []
          }
        },
        {
          "output_type": "display_data",
          "data": {
            "application/vnd.google.colaboratory.intrinsic+json": {
              "type": "string"
            },
            "text/plain": [
              "'Gradient'"
            ]
          },
          "metadata": {
            "tags": []
          }
        },
        {
          "output_type": "display_data",
          "data": {
            "text/plain": [
              "{'learning_rate': 1,\n",
              " 'max_depth': 10,\n",
              " 'min_samples_leaf': 3,\n",
              " 'min_samples_split': 19,\n",
              " 'n_estimators': 215,\n",
              " 'subsample': 1,\n",
              " 'warm_start': True}"
            ]
          },
          "metadata": {
            "tags": []
          }
        },
        {
          "output_type": "display_data",
          "data": {
            "application/vnd.google.colaboratory.intrinsic+json": {
              "type": "string"
            },
            "text/plain": [
              "'ExtraTrees'"
            ]
          },
          "metadata": {
            "tags": []
          }
        },
        {
          "output_type": "display_data",
          "data": {
            "text/plain": [
              "{'bootstrap': True,\n",
              " 'criterion': 'entropy',\n",
              " 'max_depth': 9,\n",
              " 'min_samples_leaf': 8,\n",
              " 'min_samples_split': 84,\n",
              " 'n_estimators': 248,\n",
              " 'warm_start': False}"
            ]
          },
          "metadata": {
            "tags": []
          }
        }
      ]
    },
    {
      "cell_type": "code",
      "metadata": {
        "colab": {
          "base_uri": "https://localhost:8080/",
          "height": 1000
        },
        "id": "JS-x896Z7X_O",
        "outputId": "3a64759d-c4bc-4638-811d-ca5376d432f9"
      },
      "source": [
        "for indice in names:\n",
        "   display(indice, dfmodelosRand.at[indice,'Modelo'])"
      ],
      "execution_count": 9,
      "outputs": [
        {
          "output_type": "display_data",
          "data": {
            "application/vnd.google.colaboratory.intrinsic+json": {
              "type": "string"
            },
            "text/plain": [
              "'KNeighbors'"
            ]
          },
          "metadata": {
            "tags": []
          }
        },
        {
          "output_type": "display_data",
          "data": {
            "text/plain": [
              "KNeighborsClassifier(algorithm='auto', leaf_size=29, metric='minkowski',\n",
              "                     metric_params=None, n_jobs=None, n_neighbors=18, p=2,\n",
              "                     weights='uniform')"
            ]
          },
          "metadata": {
            "tags": []
          }
        },
        {
          "output_type": "display_data",
          "data": {
            "application/vnd.google.colaboratory.intrinsic+json": {
              "type": "string"
            },
            "text/plain": [
              "'LinearSVC'"
            ]
          },
          "metadata": {
            "tags": []
          }
        },
        {
          "output_type": "display_data",
          "data": {
            "text/plain": [
              "SVC(C=1, break_ties=False, cache_size=200, class_weight=None, coef0=0.0,\n",
              "    decision_function_shape='ovr', degree=3, gamma='auto', kernel='linear',\n",
              "    max_iter=-1, probability=True, random_state=None, shrinking=True, tol=0.001,\n",
              "    verbose=False)"
            ]
          },
          "metadata": {
            "tags": []
          }
        },
        {
          "output_type": "display_data",
          "data": {
            "application/vnd.google.colaboratory.intrinsic+json": {
              "type": "string"
            },
            "text/plain": [
              "'RBFSVC'"
            ]
          },
          "metadata": {
            "tags": []
          }
        },
        {
          "output_type": "display_data",
          "data": {
            "text/plain": [
              "SVC(C=1, break_ties=False, cache_size=200, class_weight=None, coef0=0.0,\n",
              "    decision_function_shape='ovr', degree=3, gamma='scale', kernel='rbf',\n",
              "    max_iter=-1, probability=True, random_state=None, shrinking=True, tol=0.001,\n",
              "    verbose=False)"
            ]
          },
          "metadata": {
            "tags": []
          }
        },
        {
          "output_type": "display_data",
          "data": {
            "application/vnd.google.colaboratory.intrinsic+json": {
              "type": "string"
            },
            "text/plain": [
              "'Gaussian'"
            ]
          },
          "metadata": {
            "tags": []
          }
        },
        {
          "output_type": "display_data",
          "data": {
            "text/plain": [
              "GaussianProcessClassifier(copy_X_train=True, kernel=None, max_iter_predict=483,\n",
              "                          multi_class='one_vs_rest', n_jobs=None,\n",
              "                          n_restarts_optimizer=3, optimizer='fmin_l_bfgs_b',\n",
              "                          random_state=None, warm_start=True)"
            ]
          },
          "metadata": {
            "tags": []
          }
        },
        {
          "output_type": "display_data",
          "data": {
            "application/vnd.google.colaboratory.intrinsic+json": {
              "type": "string"
            },
            "text/plain": [
              "'DecisionTree'"
            ]
          },
          "metadata": {
            "tags": []
          }
        },
        {
          "output_type": "display_data",
          "data": {
            "text/plain": [
              "DecisionTreeClassifier(ccp_alpha=0.0, class_weight=None, criterion='gini',\n",
              "                       max_depth=5, max_features=None, max_leaf_nodes=None,\n",
              "                       min_impurity_decrease=0.0, min_impurity_split=None,\n",
              "                       min_samples_leaf=32, min_samples_split=21,\n",
              "                       min_weight_fraction_leaf=0.0, presort='deprecated',\n",
              "                       random_state=None, splitter='best')"
            ]
          },
          "metadata": {
            "tags": []
          }
        },
        {
          "output_type": "display_data",
          "data": {
            "application/vnd.google.colaboratory.intrinsic+json": {
              "type": "string"
            },
            "text/plain": [
              "'RandomForest'"
            ]
          },
          "metadata": {
            "tags": []
          }
        },
        {
          "output_type": "display_data",
          "data": {
            "text/plain": [
              "RandomForestClassifier(bootstrap=True, ccp_alpha=0.0, class_weight=None,\n",
              "                       criterion='entropy', max_depth=82, max_features='auto',\n",
              "                       max_leaf_nodes=None, max_samples=None,\n",
              "                       min_impurity_decrease=0.0, min_impurity_split=None,\n",
              "                       min_samples_leaf=27, min_samples_split=10,\n",
              "                       min_weight_fraction_leaf=0.0, n_estimators=256,\n",
              "                       n_jobs=None, oob_score=False, random_state=None,\n",
              "                       verbose=0, warm_start=False)"
            ]
          },
          "metadata": {
            "tags": []
          }
        },
        {
          "output_type": "display_data",
          "data": {
            "application/vnd.google.colaboratory.intrinsic+json": {
              "type": "string"
            },
            "text/plain": [
              "'NeuralMLP'"
            ]
          },
          "metadata": {
            "tags": []
          }
        },
        {
          "output_type": "display_data",
          "data": {
            "text/plain": [
              "MLPClassifier(activation='logistic', alpha=0.0001, batch_size='auto',\n",
              "              beta_1=0.9, beta_2=0.999, early_stopping=False, epsilon=1e-08,\n",
              "              hidden_layer_sizes=(100,), learning_rate='constant',\n",
              "              learning_rate_init=0.001, max_fun=15000, max_iter=200,\n",
              "              momentum=0.9, n_iter_no_change=10, nesterovs_momentum=True,\n",
              "              power_t=0.5, random_state=None, shuffle=True, solver='adam',\n",
              "              tol=0.0001, validation_fraction=0.1, verbose=False,\n",
              "              warm_start=True)"
            ]
          },
          "metadata": {
            "tags": []
          }
        },
        {
          "output_type": "display_data",
          "data": {
            "application/vnd.google.colaboratory.intrinsic+json": {
              "type": "string"
            },
            "text/plain": [
              "'AdaBoost'"
            ]
          },
          "metadata": {
            "tags": []
          }
        },
        {
          "output_type": "display_data",
          "data": {
            "text/plain": [
              "AdaBoostClassifier(algorithm='SAMME', base_estimator=None, learning_rate=1.0,\n",
              "                   n_estimators=57, random_state=None)"
            ]
          },
          "metadata": {
            "tags": []
          }
        },
        {
          "output_type": "display_data",
          "data": {
            "application/vnd.google.colaboratory.intrinsic+json": {
              "type": "string"
            },
            "text/plain": [
              "'Gradient'"
            ]
          },
          "metadata": {
            "tags": []
          }
        },
        {
          "output_type": "display_data",
          "data": {
            "text/plain": [
              "GradientBoostingClassifier(ccp_alpha=0.0, criterion='friedman_mse', init=None,\n",
              "                           learning_rate=1, loss='deviance', max_depth=10,\n",
              "                           max_features=None, max_leaf_nodes=None,\n",
              "                           min_impurity_decrease=0.0, min_impurity_split=None,\n",
              "                           min_samples_leaf=3, min_samples_split=19,\n",
              "                           min_weight_fraction_leaf=0.0, n_estimators=215,\n",
              "                           n_iter_no_change=None, presort='deprecated',\n",
              "                           random_state=None, subsample=1, tol=0.0001,\n",
              "                           validation_fraction=0.1, verbose=0, warm_start=True)"
            ]
          },
          "metadata": {
            "tags": []
          }
        },
        {
          "output_type": "display_data",
          "data": {
            "application/vnd.google.colaboratory.intrinsic+json": {
              "type": "string"
            },
            "text/plain": [
              "'ExtraTrees'"
            ]
          },
          "metadata": {
            "tags": []
          }
        },
        {
          "output_type": "display_data",
          "data": {
            "text/plain": [
              "ExtraTreesClassifier(bootstrap=True, ccp_alpha=0.0, class_weight=None,\n",
              "                     criterion='entropy', max_depth=9, max_features='auto',\n",
              "                     max_leaf_nodes=None, max_samples=None,\n",
              "                     min_impurity_decrease=0.0, min_impurity_split=None,\n",
              "                     min_samples_leaf=8, min_samples_split=84,\n",
              "                     min_weight_fraction_leaf=0.0, n_estimators=248,\n",
              "                     n_jobs=None, oob_score=False, random_state=None, verbose=0,\n",
              "                     warm_start=False)"
            ]
          },
          "metadata": {
            "tags": []
          }
        }
      ]
    },
    {
      "cell_type": "markdown",
      "metadata": {
        "id": "9jOSEuoS0hTY"
      },
      "source": [
        "\n",
        "\n",
        "---\n",
        "\n",
        "\n",
        "## Referências\n",
        "\n",
        "* [Kaggle - COVID-19 - Clinical Data to assess diagnosis - Sírio Libanês](https://www.kaggle.com/S%C3%ADrio-Libanes/covid19)\n",
        "* [Pandas](https://pandas.pydata.org/pandas-docs/stable/index.html)\n",
        "* [SciKit Learn](https://scikit-learn.org/stable/modules/classes.html#module-sklearn.linear_model)\n",
        "* [Configurar o treinamento do AutoML com Python](https://docs.microsoft.com/pt-br/azure/machine-learning/how-to-configure-auto-train)\n",
        "* [Visão geral do ajuste de hiperparâmetros](https://cloud.google.com/ai-platform/training/docs/hyperparameter-tuning-overview?hl=pt-br)\n"
      ]
    }
  ]
}