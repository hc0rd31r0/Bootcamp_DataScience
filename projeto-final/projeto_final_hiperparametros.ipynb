{
  "nbformat": 4,
  "nbformat_minor": 0,
  "metadata": {
    "colab": {
      "name": "projeto_final_hiperparametros.ipynb",
      "provenance": [],
      "collapsed_sections": [],
      "mount_file_id": "1peoV6SjAnhKq0n0OSGG3JfEHQrjUmD1V",
      "authorship_tag": "ABX9TyPHXLZvKUpwsby1Yfy8mL+R",
      "include_colab_link": true
    },
    "kernelspec": {
      "name": "python3",
      "display_name": "Python 3"
    },
    "language_info": {
      "name": "python"
    }
  },
  "cells": [
    {
      "cell_type": "markdown",
      "metadata": {
        "id": "view-in-github",
        "colab_type": "text"
      },
      "source": [
        "<a href=\"https://colab.research.google.com/github/hc0rd31r0/Bootcamp_Data_Science/blob/main/projeto-final/projeto_final_hiperparametros.ipynb\" target=\"_parent\"><img src=\"https://colab.research.google.com/assets/colab-badge.svg\" alt=\"Open In Colab\"/></a>"
      ]
    },
    {
      "cell_type": "markdown",
      "metadata": {
        "id": "7_MRx0ZTNvi4"
      },
      "source": [
        "<img src=\"https://github.com/hc0rd31r0/Bootcamp_Data_Science/blob/main/projeto-final/img/Banner_Bootcamp.png?raw=true\">\n",
        "\n",
        "#**Projeto Final de Conclusão de Curso**\n",
        "###Bootcamp Data Science Aplicada 2 by [Alura](https://www.alura.com.br/) \n",
        "####Autor: Helton Cordeiro\n",
        "e-mail: heltoncordeiro@gmail.com\n",
        "\n",
        "Junho-Agosto/2021.\n"
      ]
    },
    {
      "cell_type": "markdown",
      "metadata": {
        "id": "OQT6AvZYcFpH"
      },
      "source": [
        "\n",
        "---\n",
        "\n",
        "# **Objetivo desse notebook**\n",
        "\n",
        "Após os dados disponibilizados pelo Hospital Sírio Libânes terem sido tratados em [notebook próprio](https://github.com/hc0rd31r0/Bootcamp_Data_Science/blob/main/projeto-final/projeto_final_tratamento_dados.ipynb) e termos trabalhando com alguns modelos de Machine Learning com seus valores default, vamos explorar os hiperparametros nesse notebook. \n",
        "\n",
        "Será utilizando um dicionário com o range de valores e parâmetros  que serão passados para o método **RandomizedSearchCV** utilizando a função *executa_modelos_RandomizedSearchCV* que está no arquivo funcoes.py.\n",
        "\n",
        "A proposta da separação do [notebook de análise](https://github.com/hc0rd31r0/Bootcamp_Data_Science/blob/main/projeto-final/Bootcamp_DataScience_projeto_final.ipynb) se deve ao tempo de processamento necessário para testar todos os modelos, além de facilitar futuros ajustes.\n",
        "\n",
        "---"
      ]
    },
    {
      "cell_type": "markdown",
      "metadata": {
        "id": "NlAytED28FKF"
      },
      "source": [
        "\n",
        "##O que é um hiperparâmetro?\n",
        "\n",
        "Os hiperparâmetros contêm os dados que controlam o próprio processo de treinamento.\n",
        "\n",
        "Seu aplicativo de treinamento lida com três categorias de dados durante o treinamento do modelo:\n",
        "\n",
        "* Os *dados de entrada*, também chamados de dados de treinamento, formam uma coleção de registros individuais (instâncias) com as características que são importantes para o problema de machine learning. Esses dados configuram o modelo durante o treinamento para fazer predições precisas sobre novas instâncias de dados semelhantes. No entanto, os valores nos dados de entrada nunca se tornam diretamente parte do modelo.\n",
        "\n",
        "* Os *parâmetros* do modelo são as variáveis que a técnica de machine learning escolhida usa para ajustar os dados. Por exemplo, uma rede neural profunda (DNN, na sigla em inglês) é composta por nós de processamento (neurônios), cada um com uma operação realizada nos dados enquanto eles trafegam pela rede. Quando a DNN é treinada, cada node tem um valor de peso que informa ao modelo o impacto que ele tem na predição final. Esses pesos são um exemplo dos parâmetros do modelo. De muitas formas, esses parâmetros são o modelo. Ou seja, são eles que diferenciam seu modelo específico de outros modelos do mesmo tipo que trabalham com dados semelhantes.\n",
        "\n",
        "* Os *hiperparâmetros* são variáveis que controlam o próprio processo de treinamento. Por exemplo, faz parte da configuração de uma rede neural profunda decidir quantas camadas ocultas de nós precisam ser usadas entre a camada de entrada e a camada de saída, bem como quantos nós cada camada precisa usar. Essas variáveis não estão diretamente relacionadas aos dados de treinamento. Elas são variáveis de configuração. Os parâmetros mudam durante um job de treinamento, enquanto os hiperparâmetros geralmente permanecem constantes durante um job.\n",
        "\n",
        "\n",
        "Os parâmetros do modelo são otimizados (ou seja, \"ajustados\") pelo processo de treinamento. Você executa os dados por meio das operações do modelo, compara a predição resultante com o valor real de cada instância de dados, avalia a precisão e ajusta até encontrar os melhores valores. Os hiperparâmetros são ajustados por meio da execução de todo o job de treinamento, a observação da precisão agregada e o ajuste. Nos dois casos, você está modificando a composição do modelo tentando encontrar a melhor combinação para lidar com o problema.\n",
        "\n",
        "Fonte: [Visão geral do ajuste de hiperparâmetros](https://cloud.google.com/ai-platform/training/docs/hyperparameter-tuning-overview?hl=pt-br)\n"
      ]
    },
    {
      "cell_type": "markdown",
      "metadata": {
        "id": "XuOxw9yElGZ9"
      },
      "source": [
        "##Importação de Bibliotecas"
      ]
    },
    {
      "cell_type": "code",
      "metadata": {
        "id": "a2BpIgxxb0i0"
      },
      "source": [
        "import pandas as pd\n",
        "import numpy as np\n",
        "import random\n",
        "import pickle\n",
        "from scipy.stats import uniform\n",
        "from scipy.stats import randint\n",
        "\n",
        "import warnings\n",
        "warnings.simplefilter(action='ignore')"
      ],
      "execution_count": 1,
      "outputs": []
    },
    {
      "cell_type": "code",
      "metadata": {
        "id": "tqBBGIZCCdKB"
      },
      "source": [
        "rstate = 73246\n",
        "np.random.seed(rstate)"
      ],
      "execution_count": 2,
      "outputs": []
    },
    {
      "cell_type": "markdown",
      "metadata": {
        "id": "VZp-yPhK6gIy"
      },
      "source": [
        "## Importando as funções auxiliares\n",
        "\n",
        "* Arquivo funcoes.py contém as funções python que serão utilizados pelo projeto."
      ]
    },
    {
      "cell_type": "code",
      "metadata": {
        "id": "xRs7TieDrEp3"
      },
      "source": [
        "from funcoes import executa_modelos_RandomizedSearchCV"
      ],
      "execution_count": 3,
      "outputs": []
    },
    {
      "cell_type": "code",
      "metadata": {
        "colab": {
          "base_uri": "https://localhost:8080/"
        },
        "id": "3NincyzopQSL",
        "outputId": "ac74fdf8-4b80-4dde-d1ab-6ffbdcf8f544"
      },
      "source": [
        "help(executa_modelos_RandomizedSearchCV)"
      ],
      "execution_count": 4,
      "outputs": [
        {
          "output_type": "stream",
          "text": [
            "Help on function executa_modelos_RandomizedSearchCV in module funcoes:\n",
            "\n",
            "executa_modelos_RandomizedSearchCV(names, models, dados, n_splits, n_repeats, param_distributions, n_iter, showMsg=True)\n",
            "    Função que recebe parâmetros para a execução de teste de hiperparametros dos modelos.\n",
            "    Utiliza a função roda_modelo_RandomizedSearchCV()\n",
            "    \n",
            "    Parâmetros\n",
            "    ----------\n",
            "      names: array com os nomes dos modelos. É usado como o index do dataFrame de retorno.\n",
            "               ex.: names = [ \"KNeighbors\", \"Gaussian\" ]\n",
            "      models: array com a instância do modelo a ser testado.\n",
            "               ex.: classes = [ KNeighborsClassifier(), \n",
            "                                GaussianProcessClassifier() ]\n",
            "      dados: dataFrame com os dados\n",
            "      n_splits: parâmetro utilizado pelo roda_modelo_RandomizedSearchCV()\n",
            "      n_repeats: parâmetro utilizado pelo roda_modelo_RandomizedSearchCV()\n",
            "      param_distributions: dicionário com parâmetros a serem testados\n",
            "              ex: hiperparams = { \n",
            "                      \"KNeighbors\" : {\n",
            "                          \"n_neighbors\" : randint(2, 20),\n",
            "                          \"weights\" : [\"uniform\", \"distance\"],\n",
            "                          \"leaf_size\" : randint(25, 100),\n",
            "                          \"metric\" : [\"minkowski\",\"wminkowski\", \"euclidean\"] \n",
            "                      },\n",
            "                      \"Gaussian\" : {\n",
            "                          \"n_restarts_optimizer\" : randint(0, 5),\n",
            "                          \"max_iter_predict\" : randint(50,500),\n",
            "                          \"warm_start\" : [False, True] \n",
            "                      }\n",
            "                  }\n",
            "      n_iter: parâmetro utilizado pelo roda_modelo_RandomizedSearchCV()\n",
            "      showMsg: Imprime o tempo de processamento.\n",
            "               Essa informação está no dataFrame de retorno.\n",
            "    \n",
            "    Retorno\n",
            "    -------\n",
            "      df_retorno_rand: dataFrame com o resultado do processamento com os seguintes campos:\n",
            "          [Nome, Modelo, AUC, Train AUC, Std AUC, Best Params, Tempo]\n",
            "\n"
          ],
          "name": "stdout"
        }
      ]
    },
    {
      "cell_type": "markdown",
      "metadata": {
        "id": "r_ZqCvzS-neO"
      },
      "source": [
        "## Carregando os dados\n",
        "Vamos carregar o arquivo de dados tratados e sem as colunas com alta correção.\n",
        "\n",
        "O processo de tratamento dos dados estão nesse notebook [projeto_final_tratamento_dados.ipynb](https://github.com/hc0rd31r0/Bootcamp_Data_Science/blob/main/projeto-final/projeto_final_tratamento_dados.ipynb).\n"
      ]
    },
    {
      "cell_type": "markdown",
      "metadata": {
        "id": "92lMw8dolouY"
      },
      "source": [
        "### Realizando a carga de dados"
      ]
    },
    {
      "cell_type": "code",
      "metadata": {
        "id": "qhd3XQ_RfYQl"
      },
      "source": [
        "url='https://github.com/hc0rd31r0/Bootcamp_Data_Science/blob/main/projeto-final/dados/Kaggle_Sirio_Libanes_ICU_Prediction-tratado-sem-corr.xls?raw=true'\n",
        "dados_raw = pd.read_excel(url, index_col=0)\n",
        "dados = dados_raw.copy()"
      ],
      "execution_count": 5,
      "outputs": []
    },
    {
      "cell_type": "markdown",
      "metadata": {
        "id": "4DMLZeuAaMCn"
      },
      "source": [
        "\n",
        "\n",
        "---\n",
        "\n",
        "\n",
        "#Modelos de Machine Learning\n",
        "Relação dos Modelos que serão testados nesse projeto, foram selecionados por resolverem problemas de classificação binária e aprendizado supervisionado.\n",
        "\n",
        "\n",
        "1. [KNeighborsClassifier](\n",
        "https://scikit-learn.org/stable/modules/generated/sklearn.neighbors.KNeighborsClassifier.html)\n",
        "\n",
        "2. [SVC - Linear](https://scikit-learn.org/stable/modules/generated/sklearn.svm.SVC.html)\n",
        "\n",
        "3. [SVC - RBF](https://scikit-learn.org/stable/modules/generated/sklearn.svm.SVC.html)\n",
        "\n",
        "4. [GaussianProcessClassifier](https://scikit-learn.org/stable/modules/generated/sklearn.gaussian_process.GaussianProcessClassifier.html)\n",
        "\n",
        "5. [DecisionTreeClassifier](https://scikit-learn.org/stable/modules/generated/sklearn.tree.DecisionTreeClassifier.html#sklearn.tree.DecisionTreeClassifier)\n",
        "\n",
        "6. [RandomForestClassifier](https://scikit-learn.org/stable/modules/generated/sklearn.ensemble.RandomForestClassifier.html)\n",
        "\n",
        "7. [Neural Net (MLP)](https://scikit-learn.org/stable/modules/generated/sklearn.neural_network.MLPClassifier.html)\n",
        "\n",
        "8. [AdaBoostClassifier](https://scikit-learn.org/stable/modules/generated/sklearn.ensemble.AdaBoostClassifier.html)\n",
        "\n",
        "9. [GradientBoostingClassifier](https://scikit-learn.org/stable/modules/generated/sklearn.ensemble.GradientBoostingClassifier.html)\n",
        "\n",
        "10. [ExtraTreesClassifier](https://scikit-learn.org/stable/modules/generated/sklearn.ensemble.ExtraTreesClassifier.html)\n",
        "\n",
        "11. [LogisticRegression](https://scikit-learn.org/stable/modules/generated/sklearn.linear_model.LogisticRegression.html)\n",
        "\n",
        "\n",
        "---\n",
        "\n"
      ]
    },
    {
      "cell_type": "markdown",
      "metadata": {
        "id": "W5MX2mz-pO_u"
      },
      "source": [
        "##Modelos\n",
        "\n",
        "Criando as instâncias dos modelos para processamento."
      ]
    },
    {
      "cell_type": "code",
      "metadata": {
        "id": "80dSTGdjaLMJ"
      },
      "source": [
        "from sklearn.neighbors import KNeighborsClassifier\n",
        "from sklearn.svm import SVC\n",
        "from sklearn.gaussian_process import GaussianProcessClassifier\n",
        "from sklearn.tree import DecisionTreeClassifier\n",
        "from sklearn.neural_network import MLPClassifier\n",
        "from sklearn.ensemble import AdaBoostClassifier, GradientBoostingClassifier\n",
        "from sklearn.ensemble import RandomForestClassifier, ExtraTreesClassifier\n",
        "from sklearn.linear_model import LogisticRegression\n",
        "\n",
        "names = [\"KNeighbors\", \"LinearSVC\", \"RBFSVC\", \"Gaussian\",\n",
        "         \"DecisionTree\", \"RandomForest\", \"NeuralMLP\", \"AdaBoost\",\n",
        "         \"Gradient\", \"ExtraTrees\", \"LogisticRegression\"]\n",
        "\n",
        "classes = [\n",
        "    KNeighborsClassifier(),\n",
        "    SVC(kernel=\"linear\", probability=True, random_state=rstate),\n",
        "    SVC(kernel=\"rbf\", probability=True, random_state=rstate),\n",
        "    GaussianProcessClassifier(random_state=rstate, warm_start=True),\n",
        "    DecisionTreeClassifier(random_state=rstate),\n",
        "    RandomForestClassifier(random_state=rstate, bootstrap=False, warm_start=True),\n",
        "    MLPClassifier(random_state=rstate, warm_start=True),\n",
        "    AdaBoostClassifier(random_state=rstate),\n",
        "    GradientBoostingClassifier(random_state=rstate, warm_start=True),\n",
        "    ExtraTreesClassifier(random_state=rstate, bootstrap=False, warm_start=True),\n",
        "    LogisticRegression(random_state=rstate, warm_start=True) ]"
      ],
      "execution_count": 6,
      "outputs": []
    },
    {
      "cell_type": "markdown",
      "metadata": {
        "id": "V9q75N4Ws2-w"
      },
      "source": [
        "##Testando Hiperparâmetros\n",
        "\n",
        "Definindo o dicionário de parâmetros a serem testados."
      ]
    },
    {
      "cell_type": "code",
      "metadata": {
        "id": "FLO4oDfh1_CI"
      },
      "source": [
        "hiperparams = { \n",
        "    \"KNeighbors\" : { \n",
        "        \"n_neighbors\" : randint(3, 25),\n",
        "        \"weights\" : [\"uniform\", \"distance\"],\n",
        "        \"leaf_size\" : randint(30, 300)\n",
        "    },\n",
        "    \"LinearSVC\" : { \n",
        "        \"C\": uniform(1.0, 5.0),\n",
        "        \"gamma\" : ['scale', 'auto'],\n",
        "        \"tol\": uniform(0.001,1)\n",
        "    },\n",
        "    \"RBFSVC\" : { \n",
        "        \"C\": uniform(1.0, 5.0),\n",
        "        \"tol\": uniform(0.001,1)\n",
        "    },\n",
        "    \"Gaussian\" : {\n",
        "        \"n_restarts_optimizer\" : randint(0, 5),\n",
        "        \"max_iter_predict\" : randint(100,1000),\n",
        "    },\n",
        "    \"DecisionTree\" : {\n",
        "        \"criterion\" : [\"gini\", \"entropy\"],\n",
        "        \"max_depth\" : randint(1, 100),\n",
        "        \"min_samples_split\" : randint(2, 200),\n",
        "        \"min_samples_leaf\" : randint(1, 200),\n",
        "        \"ccp_alpha\" : uniform(0.0, 0.5)\n",
        "    },\n",
        "    \"RandomForest\" : {\n",
        "        \"n_estimators\" :randint(90, 500),\n",
        "        \"criterion\" : [\"gini\", \"entropy\"],\n",
        "        \"max_depth\" : randint(3, 100),\n",
        "        \"min_samples_split\" : randint(2, 200),\n",
        "        \"min_samples_leaf\" : randint(1, 200),\n",
        "        \"ccp_alpha\" : uniform(0.0, 0.5)\n",
        "    },\n",
        "    \"NeuralMLP\" : {\n",
        "        \"activation\" : [\"identity\", \"logistic\", \"tanh\", \"relu\"],\n",
        "        \"solver\" : [\"lbfgs\", \"sgd\", \"adam\"],\n",
        "        \"alpha\" : uniform(0.0001, 0.1),\n",
        "        \"learning_rate\" : [\"constant\", \"invscaling\", \"adaptive\"],\n",
        "        \"learning_rate_init\" : uniform(0.001, 0.1),\n",
        "        \"tol\": uniform(0.0001,0.01)\n",
        "    },\n",
        "    \"AdaBoost\" : {\n",
        "        \"n_estimators\" : randint(50, 1000),\n",
        "        \"learning_rate\": uniform(0.5,2),\n",
        "    },\n",
        "    \"Gradient\" : {\n",
        "        \"learning_rate\": uniform(0.5,2),\n",
        "        \"n_estimators\" : randint(100, 1000),\n",
        "        \"subsample\": uniform(0.5,2),\n",
        "        \"max_depth\" : randint(3,10),\n",
        "        \"min_samples_split\" : randint(2, 200),\n",
        "        \"min_samples_leaf\" : randint(1, 200),\n",
        "        \"criterion\" : [\"friedman_mse\", \"mse\", \"mae\"]\n",
        "    },\n",
        "    \"ExtraTrees\" : {\n",
        "        \"n_estimators\" :randint(100, 1000),\n",
        "        \"criterion\" : [\"gini\", \"entropy\"],\n",
        "        \"max_depth\" : randint(1, 20),\n",
        "        \"min_samples_split\" : randint(2, 200),\n",
        "        \"min_samples_leaf\" : randint(1, 200),\n",
        "    },\n",
        "    \"LogisticRegression\" : {\n",
        "        \"C\": uniform(0.1,2),\n",
        "        \"tol\": uniform(0.0001,0.1),\n",
        "        \"solver\"   : [\"newton-cg\", \"lbfgs\", \"liblinear\"], \n",
        "        \"max_iter\" : randint(100,1000)\n",
        "    }\n",
        "}"
      ],
      "execution_count": 7,
      "outputs": []
    },
    {
      "cell_type": "markdown",
      "metadata": {
        "id": "aPVyqHgU67QZ"
      },
      "source": [
        "##Vamos processar as modelos utilizando 5 splits de dados, com 10 repetições e 15 iterações."
      ]
    },
    {
      "cell_type": "code",
      "metadata": {
        "colab": {
          "base_uri": "https://localhost:8080/"
        },
        "id": "Ri11zEwqU3At",
        "outputId": "45dd0bd7-2916-457f-ec52-f0ecd45923cc"
      },
      "source": [
        "dfmodelosRand = executa_modelos_RandomizedSearchCV(names, classes, dados, 5, 10, hiperparams, 20)"
      ],
      "execution_count": 8,
      "outputs": [
        {
          "output_type": "stream",
          "text": [
            "Modelo: KNeighbors \t tempo: 14 segundos\n",
            "Modelo: LinearSVC \t tempo: 32 segundos\n",
            "Modelo: RBFSVC \t tempo: 32 segundos\n",
            "Modelo: Gaussian \t tempo: 28 segundos\n",
            "Modelo: DecisionTree \t tempo: 6 segundos\n",
            "Modelo: RandomForest \t tempo: 304 segundos\n",
            "Modelo: NeuralMLP \t tempo: 175 segundos\n",
            "Modelo: AdaBoost \t tempo: 1150 segundos\n",
            "Modelo: Gradient \t tempo: 174 segundos\n",
            "Modelo: ExtraTrees \t tempo: 587 segundos\n",
            "Modelo: LogisticRegression \t tempo: 15 segundos\n"
          ],
          "name": "stdout"
        }
      ]
    },
    {
      "cell_type": "code",
      "metadata": {
        "id": "KOImuDfnzccU",
        "colab": {
          "base_uri": "https://localhost:8080/",
          "height": 421
        },
        "outputId": "b70a8ec7-c0b9-48e3-bb2c-9c6c11d692ec"
      },
      "source": [
        "dfmodelosRand"
      ],
      "execution_count": 9,
      "outputs": [
        {
          "output_type": "execute_result",
          "data": {
            "text/html": [
              "<div>\n",
              "<style scoped>\n",
              "    .dataframe tbody tr th:only-of-type {\n",
              "        vertical-align: middle;\n",
              "    }\n",
              "\n",
              "    .dataframe tbody tr th {\n",
              "        vertical-align: top;\n",
              "    }\n",
              "\n",
              "    .dataframe thead th {\n",
              "        text-align: right;\n",
              "    }\n",
              "</style>\n",
              "<table border=\"1\" class=\"dataframe\">\n",
              "  <thead>\n",
              "    <tr style=\"text-align: right;\">\n",
              "      <th></th>\n",
              "      <th>Modelo</th>\n",
              "      <th>AUC</th>\n",
              "      <th>Train AUC</th>\n",
              "      <th>Std AUC</th>\n",
              "      <th>Best Params</th>\n",
              "      <th>Tempo</th>\n",
              "      <th>objRandomizedSearchCV</th>\n",
              "    </tr>\n",
              "    <tr>\n",
              "      <th>Nome</th>\n",
              "      <th></th>\n",
              "      <th></th>\n",
              "      <th></th>\n",
              "      <th></th>\n",
              "      <th></th>\n",
              "      <th></th>\n",
              "      <th></th>\n",
              "    </tr>\n",
              "  </thead>\n",
              "  <tbody>\n",
              "    <tr>\n",
              "      <th>RandomForest</th>\n",
              "      <td>(DecisionTreeClassifier(ccp_alpha=0.0373841499...</td>\n",
              "      <td>0.755744</td>\n",
              "      <td>0.877571</td>\n",
              "      <td>0.059931</td>\n",
              "      <td>{'ccp_alpha': 0.03738414992391281, 'criterion'...</td>\n",
              "      <td>304</td>\n",
              "      <td>RandomizedSearchCV(cv=RepeatedStratifiedKFold(...</td>\n",
              "    </tr>\n",
              "    <tr>\n",
              "      <th>LogisticRegression</th>\n",
              "      <td>LogisticRegression(C=0.39035988101187946, clas...</td>\n",
              "      <td>0.750424</td>\n",
              "      <td>0.827172</td>\n",
              "      <td>0.059262</td>\n",
              "      <td>{'C': 0.39035988101187946, 'max_iter': 132, 's...</td>\n",
              "      <td>15</td>\n",
              "      <td>RandomizedSearchCV(cv=RepeatedStratifiedKFold(...</td>\n",
              "    </tr>\n",
              "    <tr>\n",
              "      <th>ExtraTrees</th>\n",
              "      <td>(ExtraTreeClassifier(ccp_alpha=0.0, class_weig...</td>\n",
              "      <td>0.749170</td>\n",
              "      <td>0.864877</td>\n",
              "      <td>0.066402</td>\n",
              "      <td>{'criterion': 'gini', 'max_depth': 17, 'min_sa...</td>\n",
              "      <td>587</td>\n",
              "      <td>RandomizedSearchCV(cv=RepeatedStratifiedKFold(...</td>\n",
              "    </tr>\n",
              "    <tr>\n",
              "      <th>NeuralMLP</th>\n",
              "      <td>MLPClassifier(activation='identity', alpha=0.0...</td>\n",
              "      <td>0.743306</td>\n",
              "      <td>0.806938</td>\n",
              "      <td>0.063145</td>\n",
              "      <td>{'activation': 'identity', 'alpha': 0.06470422...</td>\n",
              "      <td>175</td>\n",
              "      <td>RandomizedSearchCV(cv=RepeatedStratifiedKFold(...</td>\n",
              "    </tr>\n",
              "    <tr>\n",
              "      <th>LinearSVC</th>\n",
              "      <td>SVC(C=2.79809658001685, break_ties=False, cach...</td>\n",
              "      <td>0.737923</td>\n",
              "      <td>0.855881</td>\n",
              "      <td>0.059068</td>\n",
              "      <td>{'C': 2.79809658001685, 'gamma': 'scale', 'tol...</td>\n",
              "      <td>32</td>\n",
              "      <td>RandomizedSearchCV(cv=RepeatedStratifiedKFold(...</td>\n",
              "    </tr>\n",
              "    <tr>\n",
              "      <th>RBFSVC</th>\n",
              "      <td>SVC(C=4.174218068363189, break_ties=False, cac...</td>\n",
              "      <td>0.735420</td>\n",
              "      <td>0.825203</td>\n",
              "      <td>0.059853</td>\n",
              "      <td>{'C': 4.174218068363189, 'tol': 0.062447049255...</td>\n",
              "      <td>32</td>\n",
              "      <td>RandomizedSearchCV(cv=RepeatedStratifiedKFold(...</td>\n",
              "    </tr>\n",
              "    <tr>\n",
              "      <th>AdaBoost</th>\n",
              "      <td>(DecisionTreeClassifier(ccp_alpha=0.0, class_w...</td>\n",
              "      <td>0.725238</td>\n",
              "      <td>1.000000</td>\n",
              "      <td>0.066237</td>\n",
              "      <td>{'learning_rate': 1.8575033018752827, 'n_estim...</td>\n",
              "      <td>1150</td>\n",
              "      <td>RandomizedSearchCV(cv=RepeatedStratifiedKFold(...</td>\n",
              "    </tr>\n",
              "    <tr>\n",
              "      <th>Gaussian</th>\n",
              "      <td>GaussianProcessClassifier(copy_X_train=True, k...</td>\n",
              "      <td>0.714948</td>\n",
              "      <td>0.950495</td>\n",
              "      <td>0.066657</td>\n",
              "      <td>{'max_iter_predict': 199, 'n_restarts_optimize...</td>\n",
              "      <td>28</td>\n",
              "      <td>RandomizedSearchCV(cv=RepeatedStratifiedKFold(...</td>\n",
              "    </tr>\n",
              "    <tr>\n",
              "      <th>KNeighbors</th>\n",
              "      <td>KNeighborsClassifier(algorithm='auto', leaf_si...</td>\n",
              "      <td>0.697157</td>\n",
              "      <td>0.745967</td>\n",
              "      <td>0.063374</td>\n",
              "      <td>{'leaf_size': 39, 'n_neighbors': 24, 'weights'...</td>\n",
              "      <td>14</td>\n",
              "      <td>RandomizedSearchCV(cv=RepeatedStratifiedKFold(...</td>\n",
              "    </tr>\n",
              "    <tr>\n",
              "      <th>DecisionTree</th>\n",
              "      <td>DecisionTreeClassifier(ccp_alpha=0.05845628850...</td>\n",
              "      <td>0.658972</td>\n",
              "      <td>0.718166</td>\n",
              "      <td>0.070424</td>\n",
              "      <td>{'ccp_alpha': 0.0584562885031214, 'criterion':...</td>\n",
              "      <td>6</td>\n",
              "      <td>RandomizedSearchCV(cv=RepeatedStratifiedKFold(...</td>\n",
              "    </tr>\n",
              "    <tr>\n",
              "      <th>Gradient</th>\n",
              "      <td>([DecisionTreeRegressor(ccp_alpha=0.0, criteri...</td>\n",
              "      <td>0.624744</td>\n",
              "      <td>0.691225</td>\n",
              "      <td>0.079450</td>\n",
              "      <td>{'criterion': 'mae', 'learning_rate': 1.176592...</td>\n",
              "      <td>174</td>\n",
              "      <td>RandomizedSearchCV(cv=RepeatedStratifiedKFold(...</td>\n",
              "    </tr>\n",
              "  </tbody>\n",
              "</table>\n",
              "</div>"
            ],
            "text/plain": [
              "                                                               Modelo  ...                              objRandomizedSearchCV\n",
              "Nome                                                                   ...                                                   \n",
              "RandomForest        (DecisionTreeClassifier(ccp_alpha=0.0373841499...  ...  RandomizedSearchCV(cv=RepeatedStratifiedKFold(...\n",
              "LogisticRegression  LogisticRegression(C=0.39035988101187946, clas...  ...  RandomizedSearchCV(cv=RepeatedStratifiedKFold(...\n",
              "ExtraTrees          (ExtraTreeClassifier(ccp_alpha=0.0, class_weig...  ...  RandomizedSearchCV(cv=RepeatedStratifiedKFold(...\n",
              "NeuralMLP           MLPClassifier(activation='identity', alpha=0.0...  ...  RandomizedSearchCV(cv=RepeatedStratifiedKFold(...\n",
              "LinearSVC           SVC(C=2.79809658001685, break_ties=False, cach...  ...  RandomizedSearchCV(cv=RepeatedStratifiedKFold(...\n",
              "RBFSVC              SVC(C=4.174218068363189, break_ties=False, cac...  ...  RandomizedSearchCV(cv=RepeatedStratifiedKFold(...\n",
              "AdaBoost            (DecisionTreeClassifier(ccp_alpha=0.0, class_w...  ...  RandomizedSearchCV(cv=RepeatedStratifiedKFold(...\n",
              "Gaussian            GaussianProcessClassifier(copy_X_train=True, k...  ...  RandomizedSearchCV(cv=RepeatedStratifiedKFold(...\n",
              "KNeighbors          KNeighborsClassifier(algorithm='auto', leaf_si...  ...  RandomizedSearchCV(cv=RepeatedStratifiedKFold(...\n",
              "DecisionTree        DecisionTreeClassifier(ccp_alpha=0.05845628850...  ...  RandomizedSearchCV(cv=RepeatedStratifiedKFold(...\n",
              "Gradient            ([DecisionTreeRegressor(ccp_alpha=0.0, criteri...  ...  RandomizedSearchCV(cv=RepeatedStratifiedKFold(...\n",
              "\n",
              "[11 rows x 7 columns]"
            ]
          },
          "metadata": {
            "tags": []
          },
          "execution_count": 9
        }
      ]
    },
    {
      "cell_type": "markdown",
      "metadata": {
        "id": "a10oQ4ndfqdV"
      },
      "source": [
        "Na coluna 'Modelo' temos o resultado do best_estimator_, e no campo 'objRandomizedSearchCV' temos uma cópia do objeto resultante do processamento, o retorno da função **RandomizedSearchCV**."
      ]
    },
    {
      "cell_type": "code",
      "metadata": {
        "colab": {
          "base_uri": "https://localhost:8080/"
        },
        "id": "6OVtsQ29e7dX",
        "outputId": "9e06ab47-4a11-4602-dec1-b149fd37fd67"
      },
      "source": [
        "# O Tempo do processamento está em segundos.\n",
        "dfmodelosRand['Tempo'].sum() / 60"
      ],
      "execution_count": 17,
      "outputs": [
        {
          "output_type": "execute_result",
          "data": {
            "text/plain": [
              "41.95"
            ]
          },
          "metadata": {
            "tags": []
          },
          "execution_count": 17
        }
      ]
    },
    {
      "cell_type": "markdown",
      "metadata": {
        "id": "exA_DZBN5DtA"
      },
      "source": [
        "# Lista dos melhores parâmetros\n",
        "\n",
        "Após o processamentos temos a lista dos melhores modelos e parâmetros de acordo com as configurações apresentadas no dicionário ```hiperparams```."
      ]
    },
    {
      "cell_type": "code",
      "metadata": {
        "id": "AY1r5atp7N9N",
        "colab": {
          "base_uri": "https://localhost:8080/",
          "height": 861
        },
        "outputId": "2a8a974b-11e7-436e-eef5-f9d449857c96"
      },
      "source": [
        "for indice in names:\n",
        "   display(indice, dfmodelosRand.at[indice,'Best Params'])"
      ],
      "execution_count": 11,
      "outputs": [
        {
          "output_type": "display_data",
          "data": {
            "application/vnd.google.colaboratory.intrinsic+json": {
              "type": "string"
            },
            "text/plain": [
              "'KNeighbors'"
            ]
          },
          "metadata": {
            "tags": []
          }
        },
        {
          "output_type": "display_data",
          "data": {
            "text/plain": [
              "{'leaf_size': 39, 'n_neighbors': 24, 'weights': 'uniform'}"
            ]
          },
          "metadata": {
            "tags": []
          }
        },
        {
          "output_type": "display_data",
          "data": {
            "application/vnd.google.colaboratory.intrinsic+json": {
              "type": "string"
            },
            "text/plain": [
              "'LinearSVC'"
            ]
          },
          "metadata": {
            "tags": []
          }
        },
        {
          "output_type": "display_data",
          "data": {
            "text/plain": [
              "{'C': 2.79809658001685, 'gamma': 'scale', 'tol': 0.8526212658377876}"
            ]
          },
          "metadata": {
            "tags": []
          }
        },
        {
          "output_type": "display_data",
          "data": {
            "application/vnd.google.colaboratory.intrinsic+json": {
              "type": "string"
            },
            "text/plain": [
              "'RBFSVC'"
            ]
          },
          "metadata": {
            "tags": []
          }
        },
        {
          "output_type": "display_data",
          "data": {
            "text/plain": [
              "{'C': 4.174218068363189, 'tol': 0.06244704925525635}"
            ]
          },
          "metadata": {
            "tags": []
          }
        },
        {
          "output_type": "display_data",
          "data": {
            "application/vnd.google.colaboratory.intrinsic+json": {
              "type": "string"
            },
            "text/plain": [
              "'Gaussian'"
            ]
          },
          "metadata": {
            "tags": []
          }
        },
        {
          "output_type": "display_data",
          "data": {
            "text/plain": [
              "{'max_iter_predict': 199, 'n_restarts_optimizer': 1}"
            ]
          },
          "metadata": {
            "tags": []
          }
        },
        {
          "output_type": "display_data",
          "data": {
            "application/vnd.google.colaboratory.intrinsic+json": {
              "type": "string"
            },
            "text/plain": [
              "'DecisionTree'"
            ]
          },
          "metadata": {
            "tags": []
          }
        },
        {
          "output_type": "display_data",
          "data": {
            "text/plain": [
              "{'ccp_alpha': 0.0584562885031214,\n",
              " 'criterion': 'entropy',\n",
              " 'max_depth': 49,\n",
              " 'min_samples_leaf': 35,\n",
              " 'min_samples_split': 68}"
            ]
          },
          "metadata": {
            "tags": []
          }
        },
        {
          "output_type": "display_data",
          "data": {
            "application/vnd.google.colaboratory.intrinsic+json": {
              "type": "string"
            },
            "text/plain": [
              "'RandomForest'"
            ]
          },
          "metadata": {
            "tags": []
          }
        },
        {
          "output_type": "display_data",
          "data": {
            "text/plain": [
              "{'ccp_alpha': 0.03738414992391281,\n",
              " 'criterion': 'entropy',\n",
              " 'max_depth': 41,\n",
              " 'min_samples_leaf': 10,\n",
              " 'min_samples_split': 65,\n",
              " 'n_estimators': 207}"
            ]
          },
          "metadata": {
            "tags": []
          }
        },
        {
          "output_type": "display_data",
          "data": {
            "application/vnd.google.colaboratory.intrinsic+json": {
              "type": "string"
            },
            "text/plain": [
              "'NeuralMLP'"
            ]
          },
          "metadata": {
            "tags": []
          }
        },
        {
          "output_type": "display_data",
          "data": {
            "text/plain": [
              "{'activation': 'identity',\n",
              " 'alpha': 0.06470422278730638,\n",
              " 'learning_rate': 'adaptive',\n",
              " 'learning_rate_init': 0.09934657160894729,\n",
              " 'solver': 'adam',\n",
              " 'tol': 0.001143808113923036}"
            ]
          },
          "metadata": {
            "tags": []
          }
        },
        {
          "output_type": "display_data",
          "data": {
            "application/vnd.google.colaboratory.intrinsic+json": {
              "type": "string"
            },
            "text/plain": [
              "'AdaBoost'"
            ]
          },
          "metadata": {
            "tags": []
          }
        },
        {
          "output_type": "display_data",
          "data": {
            "text/plain": [
              "{'learning_rate': 1.8575033018752827, 'n_estimators': 948}"
            ]
          },
          "metadata": {
            "tags": []
          }
        },
        {
          "output_type": "display_data",
          "data": {
            "application/vnd.google.colaboratory.intrinsic+json": {
              "type": "string"
            },
            "text/plain": [
              "'Gradient'"
            ]
          },
          "metadata": {
            "tags": []
          }
        },
        {
          "output_type": "display_data",
          "data": {
            "text/plain": [
              "{'criterion': 'mae',\n",
              " 'learning_rate': 1.1765927420327074,\n",
              " 'max_depth': 6,\n",
              " 'min_samples_leaf': 83,\n",
              " 'min_samples_split': 21,\n",
              " 'n_estimators': 773,\n",
              " 'subsample': 0.9940025668514867}"
            ]
          },
          "metadata": {
            "tags": []
          }
        },
        {
          "output_type": "display_data",
          "data": {
            "application/vnd.google.colaboratory.intrinsic+json": {
              "type": "string"
            },
            "text/plain": [
              "'ExtraTrees'"
            ]
          },
          "metadata": {
            "tags": []
          }
        },
        {
          "output_type": "display_data",
          "data": {
            "text/plain": [
              "{'criterion': 'gini',\n",
              " 'max_depth': 17,\n",
              " 'min_samples_leaf': 5,\n",
              " 'min_samples_split': 72,\n",
              " 'n_estimators': 874}"
            ]
          },
          "metadata": {
            "tags": []
          }
        },
        {
          "output_type": "display_data",
          "data": {
            "application/vnd.google.colaboratory.intrinsic+json": {
              "type": "string"
            },
            "text/plain": [
              "'LogisticRegression'"
            ]
          },
          "metadata": {
            "tags": []
          }
        },
        {
          "output_type": "display_data",
          "data": {
            "text/plain": [
              "{'C': 0.39035988101187946,\n",
              " 'max_iter': 132,\n",
              " 'solver': 'lbfgs',\n",
              " 'tol': 0.009230202361423178}"
            ]
          },
          "metadata": {
            "tags": []
          }
        }
      ]
    },
    {
      "cell_type": "code",
      "metadata": {
        "id": "JS-x896Z7X_O",
        "colab": {
          "base_uri": "https://localhost:8080/",
          "height": 1000
        },
        "outputId": "3bf522cf-e48c-4916-b96b-0b83401be741"
      },
      "source": [
        "for indice in names:\n",
        "   display(indice, dfmodelosRand.at[indice,'Modelo'])"
      ],
      "execution_count": 12,
      "outputs": [
        {
          "output_type": "display_data",
          "data": {
            "application/vnd.google.colaboratory.intrinsic+json": {
              "type": "string"
            },
            "text/plain": [
              "'KNeighbors'"
            ]
          },
          "metadata": {
            "tags": []
          }
        },
        {
          "output_type": "display_data",
          "data": {
            "text/plain": [
              "KNeighborsClassifier(algorithm='auto', leaf_size=39, metric='minkowski',\n",
              "                     metric_params=None, n_jobs=None, n_neighbors=24, p=2,\n",
              "                     weights='uniform')"
            ]
          },
          "metadata": {
            "tags": []
          }
        },
        {
          "output_type": "display_data",
          "data": {
            "application/vnd.google.colaboratory.intrinsic+json": {
              "type": "string"
            },
            "text/plain": [
              "'LinearSVC'"
            ]
          },
          "metadata": {
            "tags": []
          }
        },
        {
          "output_type": "display_data",
          "data": {
            "text/plain": [
              "SVC(C=2.79809658001685, break_ties=False, cache_size=200, class_weight=None,\n",
              "    coef0=0.0, decision_function_shape='ovr', degree=3, gamma='scale',\n",
              "    kernel='linear', max_iter=-1, probability=True, random_state=73246,\n",
              "    shrinking=True, tol=0.8526212658377876, verbose=False)"
            ]
          },
          "metadata": {
            "tags": []
          }
        },
        {
          "output_type": "display_data",
          "data": {
            "application/vnd.google.colaboratory.intrinsic+json": {
              "type": "string"
            },
            "text/plain": [
              "'RBFSVC'"
            ]
          },
          "metadata": {
            "tags": []
          }
        },
        {
          "output_type": "display_data",
          "data": {
            "text/plain": [
              "SVC(C=4.174218068363189, break_ties=False, cache_size=200, class_weight=None,\n",
              "    coef0=0.0, decision_function_shape='ovr', degree=3, gamma='scale',\n",
              "    kernel='rbf', max_iter=-1, probability=True, random_state=73246,\n",
              "    shrinking=True, tol=0.06244704925525635, verbose=False)"
            ]
          },
          "metadata": {
            "tags": []
          }
        },
        {
          "output_type": "display_data",
          "data": {
            "application/vnd.google.colaboratory.intrinsic+json": {
              "type": "string"
            },
            "text/plain": [
              "'Gaussian'"
            ]
          },
          "metadata": {
            "tags": []
          }
        },
        {
          "output_type": "display_data",
          "data": {
            "text/plain": [
              "GaussianProcessClassifier(copy_X_train=True, kernel=None, max_iter_predict=199,\n",
              "                          multi_class='one_vs_rest', n_jobs=None,\n",
              "                          n_restarts_optimizer=1, optimizer='fmin_l_bfgs_b',\n",
              "                          random_state=73246, warm_start=True)"
            ]
          },
          "metadata": {
            "tags": []
          }
        },
        {
          "output_type": "display_data",
          "data": {
            "application/vnd.google.colaboratory.intrinsic+json": {
              "type": "string"
            },
            "text/plain": [
              "'DecisionTree'"
            ]
          },
          "metadata": {
            "tags": []
          }
        },
        {
          "output_type": "display_data",
          "data": {
            "text/plain": [
              "DecisionTreeClassifier(ccp_alpha=0.0584562885031214, class_weight=None,\n",
              "                       criterion='entropy', max_depth=49, max_features=None,\n",
              "                       max_leaf_nodes=None, min_impurity_decrease=0.0,\n",
              "                       min_impurity_split=None, min_samples_leaf=35,\n",
              "                       min_samples_split=68, min_weight_fraction_leaf=0.0,\n",
              "                       presort='deprecated', random_state=73246,\n",
              "                       splitter='best')"
            ]
          },
          "metadata": {
            "tags": []
          }
        },
        {
          "output_type": "display_data",
          "data": {
            "application/vnd.google.colaboratory.intrinsic+json": {
              "type": "string"
            },
            "text/plain": [
              "'RandomForest'"
            ]
          },
          "metadata": {
            "tags": []
          }
        },
        {
          "output_type": "display_data",
          "data": {
            "text/plain": [
              "RandomForestClassifier(bootstrap=False, ccp_alpha=0.03738414992391281,\n",
              "                       class_weight=None, criterion='entropy', max_depth=41,\n",
              "                       max_features='auto', max_leaf_nodes=None,\n",
              "                       max_samples=None, min_impurity_decrease=0.0,\n",
              "                       min_impurity_split=None, min_samples_leaf=10,\n",
              "                       min_samples_split=65, min_weight_fraction_leaf=0.0,\n",
              "                       n_estimators=207, n_jobs=None, oob_score=False,\n",
              "                       random_state=73246, verbose=0, warm_start=True)"
            ]
          },
          "metadata": {
            "tags": []
          }
        },
        {
          "output_type": "display_data",
          "data": {
            "application/vnd.google.colaboratory.intrinsic+json": {
              "type": "string"
            },
            "text/plain": [
              "'NeuralMLP'"
            ]
          },
          "metadata": {
            "tags": []
          }
        },
        {
          "output_type": "display_data",
          "data": {
            "text/plain": [
              "MLPClassifier(activation='identity', alpha=0.06470422278730638,\n",
              "              batch_size='auto', beta_1=0.9, beta_2=0.999, early_stopping=False,\n",
              "              epsilon=1e-08, hidden_layer_sizes=(100,),\n",
              "              learning_rate='adaptive', learning_rate_init=0.09934657160894729,\n",
              "              max_fun=15000, max_iter=200, momentum=0.9, n_iter_no_change=10,\n",
              "              nesterovs_momentum=True, power_t=0.5, random_state=73246,\n",
              "              shuffle=True, solver='adam', tol=0.001143808113923036,\n",
              "              validation_fraction=0.1, verbose=False, warm_start=True)"
            ]
          },
          "metadata": {
            "tags": []
          }
        },
        {
          "output_type": "display_data",
          "data": {
            "application/vnd.google.colaboratory.intrinsic+json": {
              "type": "string"
            },
            "text/plain": [
              "'AdaBoost'"
            ]
          },
          "metadata": {
            "tags": []
          }
        },
        {
          "output_type": "display_data",
          "data": {
            "text/plain": [
              "AdaBoostClassifier(algorithm='SAMME.R', base_estimator=None,\n",
              "                   learning_rate=1.8575033018752827, n_estimators=948,\n",
              "                   random_state=73246)"
            ]
          },
          "metadata": {
            "tags": []
          }
        },
        {
          "output_type": "display_data",
          "data": {
            "application/vnd.google.colaboratory.intrinsic+json": {
              "type": "string"
            },
            "text/plain": [
              "'Gradient'"
            ]
          },
          "metadata": {
            "tags": []
          }
        },
        {
          "output_type": "display_data",
          "data": {
            "text/plain": [
              "GradientBoostingClassifier(ccp_alpha=0.0, criterion='mae', init=None,\n",
              "                           learning_rate=1.1765927420327074, loss='deviance',\n",
              "                           max_depth=6, max_features=None, max_leaf_nodes=None,\n",
              "                           min_impurity_decrease=0.0, min_impurity_split=None,\n",
              "                           min_samples_leaf=83, min_samples_split=21,\n",
              "                           min_weight_fraction_leaf=0.0, n_estimators=773,\n",
              "                           n_iter_no_change=None, presort='deprecated',\n",
              "                           random_state=73246, subsample=0.9940025668514867,\n",
              "                           tol=0.0001, validation_fraction=0.1, verbose=0,\n",
              "                           warm_start=True)"
            ]
          },
          "metadata": {
            "tags": []
          }
        },
        {
          "output_type": "display_data",
          "data": {
            "application/vnd.google.colaboratory.intrinsic+json": {
              "type": "string"
            },
            "text/plain": [
              "'ExtraTrees'"
            ]
          },
          "metadata": {
            "tags": []
          }
        },
        {
          "output_type": "display_data",
          "data": {
            "text/plain": [
              "ExtraTreesClassifier(bootstrap=False, ccp_alpha=0.0, class_weight=None,\n",
              "                     criterion='gini', max_depth=17, max_features='auto',\n",
              "                     max_leaf_nodes=None, max_samples=None,\n",
              "                     min_impurity_decrease=0.0, min_impurity_split=None,\n",
              "                     min_samples_leaf=5, min_samples_split=72,\n",
              "                     min_weight_fraction_leaf=0.0, n_estimators=874,\n",
              "                     n_jobs=None, oob_score=False, random_state=73246,\n",
              "                     verbose=0, warm_start=True)"
            ]
          },
          "metadata": {
            "tags": []
          }
        },
        {
          "output_type": "display_data",
          "data": {
            "application/vnd.google.colaboratory.intrinsic+json": {
              "type": "string"
            },
            "text/plain": [
              "'LogisticRegression'"
            ]
          },
          "metadata": {
            "tags": []
          }
        },
        {
          "output_type": "display_data",
          "data": {
            "text/plain": [
              "LogisticRegression(C=0.39035988101187946, class_weight=None, dual=False,\n",
              "                   fit_intercept=True, intercept_scaling=1, l1_ratio=None,\n",
              "                   max_iter=132, multi_class='auto', n_jobs=None, penalty='l2',\n",
              "                   random_state=73246, solver='lbfgs', tol=0.009230202361423178,\n",
              "                   verbose=0, warm_start=True)"
            ]
          },
          "metadata": {
            "tags": []
          }
        }
      ]
    },
    {
      "cell_type": "markdown",
      "metadata": {
        "id": "MG-4rl_gYV0K"
      },
      "source": [
        "#Salvando nosso dataFrame"
      ]
    },
    {
      "cell_type": "code",
      "metadata": {
        "id": "y2ELpYjtYVMo"
      },
      "source": [
        "output = open('/content/drive/MyDrive/databases/dfmodelosHP', 'wb')\n",
        "pickle.dump(dfmodelosRand, output)\n",
        "output.close()"
      ],
      "execution_count": 15,
      "outputs": []
    },
    {
      "cell_type": "markdown",
      "metadata": {
        "id": "9jOSEuoS0hTY"
      },
      "source": [
        "---\n",
        "\n",
        "## Referências\n",
        "\n",
        "* [Kaggle - COVID-19 - Clinical Data to assess diagnosis - Sírio Libanês](https://www.kaggle.com/S%C3%ADrio-Libanes/covid19)\n",
        "* [Pandas](https://pandas.pydata.org/pandas-docs/stable/index.html)\n",
        "* [SciKit Learn](https://scikit-learn.org/stable/modules/classes.html#module-sklearn.linear_model)\n",
        "* [Configurar o treinamento do AutoML com Python](https://docs.microsoft.com/pt-br/azure/machine-learning/how-to-configure-auto-train)\n",
        "* [Visão geral do ajuste de hiperparâmetros](https://cloud.google.com/ai-platform/training/docs/hyperparameter-tuning-overview?hl=pt-br)\n",
        "* [Sklearn.RandomizedSearchCV()](https://scikit-learn.org/stable/modules/generated/sklearn.model_selection.RandomizedSearchCV.html)"
      ]
    }
  ]
}