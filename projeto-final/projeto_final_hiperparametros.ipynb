{
  "nbformat": 4,
  "nbformat_minor": 0,
  "metadata": {
    "colab": {
      "name": "projeto_final_hiperparametros.ipynb",
      "provenance": [],
      "collapsed_sections": [],
      "mount_file_id": "10nLqve7KrZpstIeUCNCQa_T6JK7cHh6L",
      "authorship_tag": "ABX9TyO15XA+QHyp0H1Kbjt79LRR",
      "include_colab_link": true
    },
    "kernelspec": {
      "name": "python3",
      "display_name": "Python 3"
    },
    "language_info": {
      "name": "python"
    }
  },
  "cells": [
    {
      "cell_type": "markdown",
      "metadata": {
        "id": "view-in-github",
        "colab_type": "text"
      },
      "source": [
        "<a href=\"https://colab.research.google.com/github/hc0rd31r0/Bootcamp_Data_Science/blob/main/projeto-final/projeto_final_hiperparametros.ipynb\" target=\"_parent\"><img src=\"https://colab.research.google.com/assets/colab-badge.svg\" alt=\"Open In Colab\"/></a>"
      ]
    },
    {
      "cell_type": "markdown",
      "metadata": {
        "id": "7_MRx0ZTNvi4"
      },
      "source": [
        "<img src=\"https://github.com/hc0rd31r0/Bootcamp_Data_Science/blob/main/projeto-final/img/Banner_Bootcamp.png?raw=true\">\n",
        "\n",
        "#**Projeto Final de Conclusão de Curso**\n",
        "###Bootcamp Data Science Aplicada 2 by [Alura](https://www.alura.com.br/) \n",
        "####Autor: Helton Cordeiro\n",
        "e-mail: heltoncordeiro@gmail.com\n",
        "\n",
        "Junho-Agosto/2021.\n"
      ]
    },
    {
      "cell_type": "markdown",
      "metadata": {
        "id": "OQT6AvZYcFpH"
      },
      "source": [
        "\n",
        "---\n",
        "\n",
        "# **Objetivo desse notebook**\n",
        "\n",
        "Após os dados disponibilizados pelo Hospital Sírio Libânes ter sido tratados em [notebook próprio](https://github.com/hc0rd31r0/Bootcamp_Data_Science/blob/main/projeto-final/projeto_final_tratamento_dados.ipynb) e termos trabalhando com alguns modelos de Machine Learning com seus valores default, vamos explorar os hiperparametros nesse notebook. \n",
        "\n",
        "Será utilizando um dicionário com o range de valores e parâmetros  que serão passados para o método **RandomizedSearchCV** utilizando a função *executa_modelos_RandomizedSearchCV* que está no arquivo funcoes.py.\n",
        "\n",
        "A proposta da separação do [notebook de análise](https://github.com/hc0rd31r0/Bootcamp_Data_Science/blob/main/projeto-final/Bootcamp_DataScience_projeto_final.ipynb) se deve ao tempo de processamento necessário para testar todos os modelos, além de facilitar futuros ajustes.\n",
        "\n",
        "---"
      ]
    },
    {
      "cell_type": "markdown",
      "metadata": {
        "id": "NlAytED28FKF"
      },
      "source": [
        "\n",
        "##O que é um hiperparâmetro?\n",
        "\n",
        "Os hiperparâmetros contêm os dados que controlam o próprio processo de treinamento.\n",
        "\n",
        "Seu aplicativo de treinamento lida com três categorias de dados durante o treinamento do modelo:\n",
        "\n",
        "* Os *dados de entrada*, também chamados de dados de treinamento, formam uma coleção de registros individuais (instâncias) com as características que são importantes para o problema de machine learning. Esses dados configuram o modelo durante o treinamento para fazer predições precisas sobre novas instâncias de dados semelhantes. No entanto, os valores nos dados de entrada nunca se tornam diretamente parte do modelo.\n",
        "\n",
        "* Os *parâmetros* do modelo são as variáveis que a técnica de machine learning escolhida usa para ajustar os dados. Por exemplo, uma rede neural profunda (DNN, na sigla em inglês) é composta por nós de processamento (neurônios), cada um com uma operação realizada nos dados enquanto eles trafegam pela rede. Quando a DNN é treinada, cada node tem um valor de peso que informa ao modelo o impacto que ele tem na predição final. Esses pesos são um exemplo dos parâmetros do modelo. De muitas formas, esses parâmetros são o modelo. Ou seja, são eles que diferenciam seu modelo específico de outros modelos do mesmo tipo que trabalham com dados semelhantes.\n",
        "\n",
        "* Os *hiperparâmetros* são variáveis que controlam o próprio processo de treinamento. Por exemplo, faz parte da configuração de uma rede neural profunda decidir quantas camadas ocultas de nós precisam ser usadas entre a camada de entrada e a camada de saída, bem como quantos nós cada camada precisa usar. Essas variáveis não estão diretamente relacionadas aos dados de treinamento. Elas são variáveis de configuração. Os parâmetros mudam durante um job de treinamento, enquanto os hiperparâmetros geralmente permanecem constantes durante um job.\n",
        "\n",
        "\n",
        "Os parâmetros do modelo são otimizados (ou seja, \"ajustados\") pelo processo de treinamento. Você executa os dados por meio das operações do modelo, compara a predição resultante com o valor real de cada instância de dados, avalia a precisão e ajusta até encontrar os melhores valores. Os hiperparâmetros são ajustados por meio da execução de todo o job de treinamento, a observação da precisão agregada e o ajuste. Nos dois casos, você está modificando a composição do modelo tentando encontrar a melhor combinação para lidar com o problema.\n",
        "\n",
        "Fonte: [Visão geral do ajuste de hiperparâmetros](https://cloud.google.com/ai-platform/training/docs/hyperparameter-tuning-overview?hl=pt-br)\n"
      ]
    },
    {
      "cell_type": "markdown",
      "metadata": {
        "id": "XuOxw9yElGZ9"
      },
      "source": [
        "##Importação de Bibliotecas"
      ]
    },
    {
      "cell_type": "code",
      "metadata": {
        "id": "a2BpIgxxb0i0"
      },
      "source": [
        "import pandas as pd\n",
        "import numpy as np\n",
        "import random\n",
        "from scipy.stats import randint\n",
        "\n",
        "import warnings\n",
        "warnings.simplefilter(action='ignore')"
      ],
      "execution_count": 1,
      "outputs": []
    },
    {
      "cell_type": "markdown",
      "metadata": {
        "id": "VZp-yPhK6gIy"
      },
      "source": [
        "## Importando as funções auxiliares\n",
        "\n",
        "* Arquivo funcoes.py contém as funções python que serão utilizados pelo projeto."
      ]
    },
    {
      "cell_type": "code",
      "metadata": {
        "id": "xRs7TieDrEp3"
      },
      "source": [
        "from funcoes import executa_modelos_RandomizedSearchCV"
      ],
      "execution_count": 2,
      "outputs": []
    },
    {
      "cell_type": "markdown",
      "metadata": {
        "id": "r_ZqCvzS-neO"
      },
      "source": [
        "## Carregando os dados\n",
        "Vamos carregar o arquivo de dados tratados e sem as colunas com alta correção.\n",
        "\n",
        "O processo de tratamento dos dados estão nesse notebook [projeto_final_tratamento_dados.ipynb](https://github.com/hc0rd31r0/Bootcamp_Data_Science/blob/main/projeto-final/projeto_final_tratamento_dados.ipynb).\n"
      ]
    },
    {
      "cell_type": "markdown",
      "metadata": {
        "id": "92lMw8dolouY"
      },
      "source": [
        "### Realizando a carga de dados"
      ]
    },
    {
      "cell_type": "code",
      "metadata": {
        "id": "qhd3XQ_RfYQl"
      },
      "source": [
        "url='https://github.com/hc0rd31r0/Bootcamp_Data_Science/blob/main/projeto-final/dados/Kaggle_Sirio_Libanes_ICU_Prediction-tratado-sem-corr.xls?raw=true'\n",
        "dados_raw = pd.read_excel(url, index_col=0)\n",
        "dados = dados_raw.copy()"
      ],
      "execution_count": 3,
      "outputs": []
    },
    {
      "cell_type": "markdown",
      "metadata": {
        "id": "4DMLZeuAaMCn"
      },
      "source": [
        "\n",
        "\n",
        "---\n",
        "\n",
        "\n",
        "#Modelos de Machine Learning\n",
        "Relação dos Modelos que serão testados nesse projeto, foram selecionados por resolverem problemas de classificação binária e aprendizado supervisionado.\n",
        "\n",
        "\n",
        "1. [KNeighborsClassifier](\n",
        "https://scikit-learn.org/stable/modules/generated/sklearn.neighbors.KNeighborsClassifier.html)\n",
        "\n",
        "2. [SVC - Linear](https://scikit-learn.org/stable/modules/generated/sklearn.svm.SVC.html)\n",
        "\n",
        "3. [SVC - RBF](https://scikit-learn.org/stable/modules/generated/sklearn.svm.SVC.html)\n",
        "\n",
        "4. [GaussianProcessClassifier](https://scikit-learn.org/stable/modules/generated/sklearn.gaussian_process.GaussianProcessClassifier.html)\n",
        "\n",
        "5. [DecisionTreeClassifier](https://scikit-learn.org/stable/modules/generated/sklearn.tree.DecisionTreeClassifier.html#sklearn.tree.DecisionTreeClassifier)\n",
        "\n",
        "6. [RandomForestClassifier](https://scikit-learn.org/stable/modules/generated/sklearn.ensemble.RandomForestClassifier.html)\n",
        "\n",
        "7. [Neural Net (MLP)](https://scikit-learn.org/stable/modules/generated/sklearn.neural_network.MLPClassifier.html)\n",
        "\n",
        "8. [AdaBoostClassifier](https://scikit-learn.org/stable/modules/generated/sklearn.ensemble.AdaBoostClassifier.html)\n",
        "\n",
        "9. [GradientBoostingClassifier](https://scikit-learn.org/stable/modules/generated/sklearn.ensemble.GradientBoostingClassifier.html)\n",
        "\n",
        "10. [ExtraTreesClassifier](https://scikit-learn.org/stable/modules/generated/sklearn.ensemble.ExtraTreesClassifier.html)\n",
        "\n",
        "11. [LogisticRegression](https://scikit-learn.org/stable/modules/generated/sklearn.linear_model.LogisticRegression.html)\n",
        "\n",
        "\n",
        "---\n",
        "\n"
      ]
    },
    {
      "cell_type": "markdown",
      "metadata": {
        "id": "W5MX2mz-pO_u"
      },
      "source": [
        "##Modelos\n",
        "\n",
        "Criando as instâncias dos modelos para processamento."
      ]
    },
    {
      "cell_type": "code",
      "metadata": {
        "id": "80dSTGdjaLMJ"
      },
      "source": [
        "from sklearn.neighbors import KNeighborsClassifier\n",
        "from sklearn.svm import SVC\n",
        "from sklearn.gaussian_process import GaussianProcessClassifier\n",
        "from sklearn.tree import DecisionTreeClassifier\n",
        "from sklearn.neural_network import MLPClassifier\n",
        "from sklearn.ensemble import AdaBoostClassifier, GradientBoostingClassifier\n",
        "from sklearn.ensemble import RandomForestClassifier, ExtraTreesClassifier\n",
        "from sklearn.linear_model import LogisticRegression\n",
        "\n",
        "names = [\"KNeighbors\", \"LinearSVC\", \"RBFSVC\", \"Gaussian\",\n",
        "         \"DecisionTree\", \"RandomForest\", \"NeuralMLP\", \"AdaBoost\",\n",
        "         \"Gradient\", \"ExtraTrees\", \"LogisticRegression\"]\n",
        "\n",
        "classes = [\n",
        "    KNeighborsClassifier(),\n",
        "    SVC(kernel=\"linear\", probability=True),\n",
        "    SVC(kernel=\"rbf\", probability=True),\n",
        "    GaussianProcessClassifier(),\n",
        "    DecisionTreeClassifier(),\n",
        "    RandomForestClassifier(),\n",
        "    MLPClassifier(),\n",
        "    AdaBoostClassifier(),\n",
        "    GradientBoostingClassifier(),\n",
        "    ExtraTreesClassifier(),\n",
        "    LogisticRegression(max_iter=2000) ]"
      ],
      "execution_count": 4,
      "outputs": []
    },
    {
      "cell_type": "markdown",
      "metadata": {
        "id": "V9q75N4Ws2-w"
      },
      "source": [
        "##Testando Hiperparâmetros\n",
        "\n",
        "Definindo o dicionário de parâmetros a serem testados."
      ]
    },
    {
      "cell_type": "code",
      "metadata": {
        "id": "FLO4oDfh1_CI"
      },
      "source": [
        "hiperparams = { \n",
        "    \"KNeighbors\"  : { \n",
        "        \"n_neighbors\" : randint(2, 20),\n",
        "        \"weights\" : [\"uniform\", \"distance\"],\n",
        "        \"leaf_size\" : randint(25, 100),\n",
        "        \"metric\" : [\"minkowski\",\"wminkowski\", \"euclidean\"] \n",
        "    },\n",
        "    \"LinearSVC\"   : { \n",
        "        \"gamma\" : [\"scale\",\"auto\"],\n",
        "        \"C\": randint(0,2)\n",
        "    },\n",
        "    \"RBFSVC\"      : { \n",
        "        \"gamma\" : [\"scale\",\"auto\"],\n",
        "        \"C\": randint(0,2)\n",
        "    },\n",
        "    \"Gaussian\"    : {\n",
        "        \"n_restarts_optimizer\" : randint(0, 5),\n",
        "        \"max_iter_predict\" : randint(50,500),\n",
        "        \"warm_start\" : [False, True] \n",
        "    },\n",
        "    \"DecisionTree\": {\n",
        "        \"criterion\" : [\"gini\", \"entropy\"],\n",
        "        \"max_depth\" : randint(2, 10),\n",
        "        \"min_samples_split\" : randint(2, 129),\n",
        "        \"min_samples_leaf\" : randint(1, 129)\n",
        "    },\n",
        "    \"RandomForest\": {\n",
        "        \"n_estimators\" :randint(50, 400),\n",
        "        \"criterion\" : [\"gini\", \"entropy\"],\n",
        "        \"max_depth\" : randint(3, 100),\n",
        "        \"min_samples_split\" : randint(2, 100),\n",
        "        \"min_samples_leaf\" : randint(1, 100),\n",
        "        \"bootstrap\" : [True, False],\n",
        "        \"warm_start\" : [False, True]\n",
        "    },\n",
        "    \"NeuralMLP\"   : {\n",
        "        \"activation\" : [\"identity\", \"logistic\", \"tanh\", \"relu\"],\n",
        "        \"solver\" : [\"lbfgs\", \"sgd\", \"adam\"],\n",
        "        \"shuffle\" : [True, False],\n",
        "        \"warm_start\" : [False, True]\n",
        "    },\n",
        "    \"AdaBoost\"    : {\n",
        "        \"n_estimators\" : randint(25, 200),\n",
        "        \"algorithm\" : [\"SAMME\",\"SAMME.R\"]\n",
        "    },\n",
        "    \"Gradient\"    : {\n",
        "        \"n_estimators\" : randint(50,500), \n",
        "        \"min_samples_split\" : randint(2, 25),\n",
        "        \"min_samples_leaf\" : randint(1, 10), \n",
        "        \"max_depth\" : randint(1,8), \n",
        "        \"warm_start\" : [False, True]\n",
        "    },\n",
        "    \"ExtraTrees\"  : {\n",
        "        \"n_estimators\" :randint(50, 500),\n",
        "        \"criterion\" : [\"gini\", \"entropy\"],\n",
        "        \"max_depth\" : randint(0, 10),\n",
        "        \"min_samples_split\" : randint(2, 129),\n",
        "        \"min_samples_leaf\" : randint(1, 129),\n",
        "        \"bootstrap\" : [True, False],\n",
        "        \"warm_start\" : [False, True] \n",
        "    },\n",
        "    \"LogisticRegression\" : {\n",
        "        \"solver\"   : [\"newton-cg\", \"lbfgs\", \"liblinear\", \"sag\", \"saga\"], \n",
        "        \"max_iter\" : randint(1500,10000),\n",
        "        \"warm_start\" : [False, True] \n",
        "    }\n",
        "}"
      ],
      "execution_count": 7,
      "outputs": []
    },
    {
      "cell_type": "markdown",
      "metadata": {
        "id": "aPVyqHgU67QZ"
      },
      "source": [
        "##Vamos processar as modelos utilizando 5 splits de dados, com 10 repetições e 15 iterações."
      ]
    },
    {
      "cell_type": "markdown",
      "metadata": {
        "id": "xMRagdAxXeSc"
      },
      "source": [
        "[RandomizedSearchCV](https://scikit-learn.org/stable/modules/generated/sklearn.model_selection.RandomizedSearchCV.html)"
      ]
    },
    {
      "cell_type": "code",
      "metadata": {
        "colab": {
          "base_uri": "https://localhost:8080/"
        },
        "id": "Ri11zEwqU3At",
        "outputId": "83335556-fc48-4269-85e2-077e2a3ee177"
      },
      "source": [
        "dfmodelosRand = executa_modelos_RandomizedSearchCV(names, classes, dados, 5, 10, hiperparams, 15)"
      ],
      "execution_count": 8,
      "outputs": [
        {
          "output_type": "stream",
          "text": [
            "Modelo: KNeighbors \t tempo: 7 segundos\n",
            "Modelo: LinearSVC \t tempo: 14 segundos\n",
            "Modelo: RBFSVC \t tempo: 17 segundos\n",
            "Modelo: Gaussian \t tempo: 58 segundos\n",
            "Modelo: DecisionTree \t tempo: 5 segundos\n",
            "Modelo: RandomForest \t tempo: 195 segundos\n",
            "Modelo: NeuralMLP \t tempo: 338 segundos\n",
            "Modelo: AdaBoost \t tempo: 203 segundos\n",
            "Modelo: Gradient \t tempo: 337 segundos\n",
            "Modelo: ExtraTrees \t tempo: 235 segundos\n",
            "Modelo: LogisticRegression \t tempo: 55 segundos\n"
          ],
          "name": "stdout"
        }
      ]
    },
    {
      "cell_type": "code",
      "metadata": {
        "id": "KOImuDfnzccU",
        "colab": {
          "base_uri": "https://localhost:8080/",
          "height": 421
        },
        "outputId": "48db01a4-4eaa-4628-9995-54d921207e89"
      },
      "source": [
        "dfmodelosRand"
      ],
      "execution_count": 9,
      "outputs": [
        {
          "output_type": "execute_result",
          "data": {
            "text/html": [
              "<div>\n",
              "<style scoped>\n",
              "    .dataframe tbody tr th:only-of-type {\n",
              "        vertical-align: middle;\n",
              "    }\n",
              "\n",
              "    .dataframe tbody tr th {\n",
              "        vertical-align: top;\n",
              "    }\n",
              "\n",
              "    .dataframe thead th {\n",
              "        text-align: right;\n",
              "    }\n",
              "</style>\n",
              "<table border=\"1\" class=\"dataframe\">\n",
              "  <thead>\n",
              "    <tr style=\"text-align: right;\">\n",
              "      <th></th>\n",
              "      <th>Modelo</th>\n",
              "      <th>AUC</th>\n",
              "      <th>Train AUC</th>\n",
              "      <th>Std AUC</th>\n",
              "      <th>Best Params</th>\n",
              "      <th>Tempo</th>\n",
              "    </tr>\n",
              "    <tr>\n",
              "      <th>Nome</th>\n",
              "      <th></th>\n",
              "      <th></th>\n",
              "      <th></th>\n",
              "      <th></th>\n",
              "      <th></th>\n",
              "      <th></th>\n",
              "    </tr>\n",
              "  </thead>\n",
              "  <tbody>\n",
              "    <tr>\n",
              "      <th>RandomForest</th>\n",
              "      <td>(DecisionTreeClassifier(ccp_alpha=0.0, class_w...</td>\n",
              "      <td>0.785994</td>\n",
              "      <td>0.909343</td>\n",
              "      <td>0.059556</td>\n",
              "      <td>{'bootstrap': True, 'criterion': 'gini', 'max_...</td>\n",
              "      <td>195</td>\n",
              "    </tr>\n",
              "    <tr>\n",
              "      <th>Gradient</th>\n",
              "      <td>([DecisionTreeRegressor(ccp_alpha=0.0, criteri...</td>\n",
              "      <td>0.752666</td>\n",
              "      <td>0.997117</td>\n",
              "      <td>0.064610</td>\n",
              "      <td>{'max_depth': 2, 'min_samples_leaf': 7, 'min_s...</td>\n",
              "      <td>337</td>\n",
              "    </tr>\n",
              "    <tr>\n",
              "      <th>LogisticRegression</th>\n",
              "      <td>LogisticRegression(C=1.0, class_weight=None, d...</td>\n",
              "      <td>0.751311</td>\n",
              "      <td>0.844124</td>\n",
              "      <td>0.058534</td>\n",
              "      <td>{'max_iter': 4947, 'solver': 'lbfgs', 'warm_st...</td>\n",
              "      <td>55</td>\n",
              "    </tr>\n",
              "    <tr>\n",
              "      <th>NeuralMLP</th>\n",
              "      <td>MLPClassifier(activation='logistic', alpha=0.0...</td>\n",
              "      <td>0.748788</td>\n",
              "      <td>0.812865</td>\n",
              "      <td>0.058607</td>\n",
              "      <td>{'warm_start': True, 'solver': 'adam', 'shuffl...</td>\n",
              "      <td>338</td>\n",
              "    </tr>\n",
              "    <tr>\n",
              "      <th>ExtraTrees</th>\n",
              "      <td>(ExtraTreeClassifier(ccp_alpha=0.0, class_weig...</td>\n",
              "      <td>0.745225</td>\n",
              "      <td>0.818170</td>\n",
              "      <td>0.066434</td>\n",
              "      <td>{'bootstrap': False, 'criterion': 'entropy', '...</td>\n",
              "      <td>235</td>\n",
              "    </tr>\n",
              "    <tr>\n",
              "      <th>LinearSVC</th>\n",
              "      <td>SVC(C=1, break_ties=False, cache_size=200, cla...</td>\n",
              "      <td>0.737272</td>\n",
              "      <td>0.849511</td>\n",
              "      <td>0.062095</td>\n",
              "      <td>{'C': 1, 'gamma': 'auto'}</td>\n",
              "      <td>14</td>\n",
              "    </tr>\n",
              "    <tr>\n",
              "      <th>DecisionTree</th>\n",
              "      <td>DecisionTreeClassifier(ccp_alpha=0.0, class_we...</td>\n",
              "      <td>0.731548</td>\n",
              "      <td>0.842706</td>\n",
              "      <td>0.059752</td>\n",
              "      <td>{'criterion': 'gini', 'max_depth': 8, 'min_sam...</td>\n",
              "      <td>5</td>\n",
              "    </tr>\n",
              "    <tr>\n",
              "      <th>RBFSVC</th>\n",
              "      <td>SVC(C=1, break_ties=False, cache_size=200, cla...</td>\n",
              "      <td>0.723447</td>\n",
              "      <td>0.776156</td>\n",
              "      <td>0.062797</td>\n",
              "      <td>{'C': 1, 'gamma': 'scale'}</td>\n",
              "      <td>17</td>\n",
              "    </tr>\n",
              "    <tr>\n",
              "      <th>Gaussian</th>\n",
              "      <td>GaussianProcessClassifier(copy_X_train=True, k...</td>\n",
              "      <td>0.716824</td>\n",
              "      <td>0.950327</td>\n",
              "      <td>0.069887</td>\n",
              "      <td>{'max_iter_predict': 296, 'n_restarts_optimize...</td>\n",
              "      <td>58</td>\n",
              "    </tr>\n",
              "    <tr>\n",
              "      <th>AdaBoost</th>\n",
              "      <td>(DecisionTreeClassifier(ccp_alpha=0.0, class_w...</td>\n",
              "      <td>0.716593</td>\n",
              "      <td>0.940915</td>\n",
              "      <td>0.056281</td>\n",
              "      <td>{'algorithm': 'SAMME', 'n_estimators': 33}</td>\n",
              "      <td>203</td>\n",
              "    </tr>\n",
              "    <tr>\n",
              "      <th>KNeighbors</th>\n",
              "      <td>KNeighborsClassifier(algorithm='auto', leaf_si...</td>\n",
              "      <td>0.701419</td>\n",
              "      <td>1.000000</td>\n",
              "      <td>0.063808</td>\n",
              "      <td>{'leaf_size': 46, 'metric': 'minkowski', 'n_ne...</td>\n",
              "      <td>7</td>\n",
              "    </tr>\n",
              "  </tbody>\n",
              "</table>\n",
              "</div>"
            ],
            "text/plain": [
              "                                                               Modelo  ...  Tempo\n",
              "Nome                                                                   ...       \n",
              "RandomForest        (DecisionTreeClassifier(ccp_alpha=0.0, class_w...  ...    195\n",
              "Gradient            ([DecisionTreeRegressor(ccp_alpha=0.0, criteri...  ...    337\n",
              "LogisticRegression  LogisticRegression(C=1.0, class_weight=None, d...  ...     55\n",
              "NeuralMLP           MLPClassifier(activation='logistic', alpha=0.0...  ...    338\n",
              "ExtraTrees          (ExtraTreeClassifier(ccp_alpha=0.0, class_weig...  ...    235\n",
              "LinearSVC           SVC(C=1, break_ties=False, cache_size=200, cla...  ...     14\n",
              "DecisionTree        DecisionTreeClassifier(ccp_alpha=0.0, class_we...  ...      5\n",
              "RBFSVC              SVC(C=1, break_ties=False, cache_size=200, cla...  ...     17\n",
              "Gaussian            GaussianProcessClassifier(copy_X_train=True, k...  ...     58\n",
              "AdaBoost            (DecisionTreeClassifier(ccp_alpha=0.0, class_w...  ...    203\n",
              "KNeighbors          KNeighborsClassifier(algorithm='auto', leaf_si...  ...      7\n",
              "\n",
              "[11 rows x 6 columns]"
            ]
          },
          "metadata": {
            "tags": []
          },
          "execution_count": 9
        }
      ]
    },
    {
      "cell_type": "code",
      "metadata": {
        "id": "_ObE-MlIlemx",
        "colab": {
          "base_uri": "https://localhost:8080/",
          "height": 421
        },
        "outputId": "5792b42e-9592-4871-b25c-b23929740dd8"
      },
      "source": [
        "dfmodelosRand[['AUC','Train AUC', 'Std AUC', 'Tempo']]"
      ],
      "execution_count": 10,
      "outputs": [
        {
          "output_type": "execute_result",
          "data": {
            "text/html": [
              "<div>\n",
              "<style scoped>\n",
              "    .dataframe tbody tr th:only-of-type {\n",
              "        vertical-align: middle;\n",
              "    }\n",
              "\n",
              "    .dataframe tbody tr th {\n",
              "        vertical-align: top;\n",
              "    }\n",
              "\n",
              "    .dataframe thead th {\n",
              "        text-align: right;\n",
              "    }\n",
              "</style>\n",
              "<table border=\"1\" class=\"dataframe\">\n",
              "  <thead>\n",
              "    <tr style=\"text-align: right;\">\n",
              "      <th></th>\n",
              "      <th>AUC</th>\n",
              "      <th>Train AUC</th>\n",
              "      <th>Std AUC</th>\n",
              "      <th>Tempo</th>\n",
              "    </tr>\n",
              "    <tr>\n",
              "      <th>Nome</th>\n",
              "      <th></th>\n",
              "      <th></th>\n",
              "      <th></th>\n",
              "      <th></th>\n",
              "    </tr>\n",
              "  </thead>\n",
              "  <tbody>\n",
              "    <tr>\n",
              "      <th>RandomForest</th>\n",
              "      <td>0.785994</td>\n",
              "      <td>0.909343</td>\n",
              "      <td>0.059556</td>\n",
              "      <td>195</td>\n",
              "    </tr>\n",
              "    <tr>\n",
              "      <th>Gradient</th>\n",
              "      <td>0.752666</td>\n",
              "      <td>0.997117</td>\n",
              "      <td>0.064610</td>\n",
              "      <td>337</td>\n",
              "    </tr>\n",
              "    <tr>\n",
              "      <th>LogisticRegression</th>\n",
              "      <td>0.751311</td>\n",
              "      <td>0.844124</td>\n",
              "      <td>0.058534</td>\n",
              "      <td>55</td>\n",
              "    </tr>\n",
              "    <tr>\n",
              "      <th>NeuralMLP</th>\n",
              "      <td>0.748788</td>\n",
              "      <td>0.812865</td>\n",
              "      <td>0.058607</td>\n",
              "      <td>338</td>\n",
              "    </tr>\n",
              "    <tr>\n",
              "      <th>ExtraTrees</th>\n",
              "      <td>0.745225</td>\n",
              "      <td>0.818170</td>\n",
              "      <td>0.066434</td>\n",
              "      <td>235</td>\n",
              "    </tr>\n",
              "    <tr>\n",
              "      <th>LinearSVC</th>\n",
              "      <td>0.737272</td>\n",
              "      <td>0.849511</td>\n",
              "      <td>0.062095</td>\n",
              "      <td>14</td>\n",
              "    </tr>\n",
              "    <tr>\n",
              "      <th>DecisionTree</th>\n",
              "      <td>0.731548</td>\n",
              "      <td>0.842706</td>\n",
              "      <td>0.059752</td>\n",
              "      <td>5</td>\n",
              "    </tr>\n",
              "    <tr>\n",
              "      <th>RBFSVC</th>\n",
              "      <td>0.723447</td>\n",
              "      <td>0.776156</td>\n",
              "      <td>0.062797</td>\n",
              "      <td>17</td>\n",
              "    </tr>\n",
              "    <tr>\n",
              "      <th>Gaussian</th>\n",
              "      <td>0.716824</td>\n",
              "      <td>0.950327</td>\n",
              "      <td>0.069887</td>\n",
              "      <td>58</td>\n",
              "    </tr>\n",
              "    <tr>\n",
              "      <th>AdaBoost</th>\n",
              "      <td>0.716593</td>\n",
              "      <td>0.940915</td>\n",
              "      <td>0.056281</td>\n",
              "      <td>203</td>\n",
              "    </tr>\n",
              "    <tr>\n",
              "      <th>KNeighbors</th>\n",
              "      <td>0.701419</td>\n",
              "      <td>1.000000</td>\n",
              "      <td>0.063808</td>\n",
              "      <td>7</td>\n",
              "    </tr>\n",
              "  </tbody>\n",
              "</table>\n",
              "</div>"
            ],
            "text/plain": [
              "                         AUC  Train AUC   Std AUC  Tempo\n",
              "Nome                                                    \n",
              "RandomForest        0.785994   0.909343  0.059556    195\n",
              "Gradient            0.752666   0.997117  0.064610    337\n",
              "LogisticRegression  0.751311   0.844124  0.058534     55\n",
              "NeuralMLP           0.748788   0.812865  0.058607    338\n",
              "ExtraTrees          0.745225   0.818170  0.066434    235\n",
              "LinearSVC           0.737272   0.849511  0.062095     14\n",
              "DecisionTree        0.731548   0.842706  0.059752      5\n",
              "RBFSVC              0.723447   0.776156  0.062797     17\n",
              "Gaussian            0.716824   0.950327  0.069887     58\n",
              "AdaBoost            0.716593   0.940915  0.056281    203\n",
              "KNeighbors          0.701419   1.000000  0.063808      7"
            ]
          },
          "metadata": {
            "tags": []
          },
          "execution_count": 10
        }
      ]
    },
    {
      "cell_type": "markdown",
      "metadata": {
        "id": "exA_DZBN5DtA"
      },
      "source": [
        "# Lista dos melhores parâmetros\n",
        "\n",
        "Após aproximadamente 25 minutos de processamentos temos a lista dos melhores modelos e parâmetros de acordo com as configurações apresentadas no dicionário ```hiperparams```."
      ]
    },
    {
      "cell_type": "code",
      "metadata": {
        "id": "AY1r5atp7N9N",
        "colab": {
          "base_uri": "https://localhost:8080/",
          "height": 827
        },
        "outputId": "95b215f5-dddb-4877-af7b-65ab3ae84333"
      },
      "source": [
        "for indice in names:\n",
        "   display(indice, dfmodelosRand.at[indice,'Best Params'])"
      ],
      "execution_count": 11,
      "outputs": [
        {
          "output_type": "display_data",
          "data": {
            "application/vnd.google.colaboratory.intrinsic+json": {
              "type": "string"
            },
            "text/plain": [
              "'KNeighbors'"
            ]
          },
          "metadata": {
            "tags": []
          }
        },
        {
          "output_type": "display_data",
          "data": {
            "text/plain": [
              "{'leaf_size': 46,\n",
              " 'metric': 'minkowski',\n",
              " 'n_neighbors': 17,\n",
              " 'weights': 'distance'}"
            ]
          },
          "metadata": {
            "tags": []
          }
        },
        {
          "output_type": "display_data",
          "data": {
            "application/vnd.google.colaboratory.intrinsic+json": {
              "type": "string"
            },
            "text/plain": [
              "'LinearSVC'"
            ]
          },
          "metadata": {
            "tags": []
          }
        },
        {
          "output_type": "display_data",
          "data": {
            "text/plain": [
              "{'C': 1, 'gamma': 'auto'}"
            ]
          },
          "metadata": {
            "tags": []
          }
        },
        {
          "output_type": "display_data",
          "data": {
            "application/vnd.google.colaboratory.intrinsic+json": {
              "type": "string"
            },
            "text/plain": [
              "'RBFSVC'"
            ]
          },
          "metadata": {
            "tags": []
          }
        },
        {
          "output_type": "display_data",
          "data": {
            "text/plain": [
              "{'C': 1, 'gamma': 'scale'}"
            ]
          },
          "metadata": {
            "tags": []
          }
        },
        {
          "output_type": "display_data",
          "data": {
            "application/vnd.google.colaboratory.intrinsic+json": {
              "type": "string"
            },
            "text/plain": [
              "'Gaussian'"
            ]
          },
          "metadata": {
            "tags": []
          }
        },
        {
          "output_type": "display_data",
          "data": {
            "text/plain": [
              "{'max_iter_predict': 296, 'n_restarts_optimizer': 0, 'warm_start': False}"
            ]
          },
          "metadata": {
            "tags": []
          }
        },
        {
          "output_type": "display_data",
          "data": {
            "application/vnd.google.colaboratory.intrinsic+json": {
              "type": "string"
            },
            "text/plain": [
              "'DecisionTree'"
            ]
          },
          "metadata": {
            "tags": []
          }
        },
        {
          "output_type": "display_data",
          "data": {
            "text/plain": [
              "{'criterion': 'gini',\n",
              " 'max_depth': 8,\n",
              " 'min_samples_leaf': 9,\n",
              " 'min_samples_split': 62}"
            ]
          },
          "metadata": {
            "tags": []
          }
        },
        {
          "output_type": "display_data",
          "data": {
            "application/vnd.google.colaboratory.intrinsic+json": {
              "type": "string"
            },
            "text/plain": [
              "'RandomForest'"
            ]
          },
          "metadata": {
            "tags": []
          }
        },
        {
          "output_type": "display_data",
          "data": {
            "text/plain": [
              "{'bootstrap': True,\n",
              " 'criterion': 'gini',\n",
              " 'max_depth': 67,\n",
              " 'min_samples_leaf': 9,\n",
              " 'min_samples_split': 46,\n",
              " 'n_estimators': 85,\n",
              " 'warm_start': False}"
            ]
          },
          "metadata": {
            "tags": []
          }
        },
        {
          "output_type": "display_data",
          "data": {
            "application/vnd.google.colaboratory.intrinsic+json": {
              "type": "string"
            },
            "text/plain": [
              "'NeuralMLP'"
            ]
          },
          "metadata": {
            "tags": []
          }
        },
        {
          "output_type": "display_data",
          "data": {
            "text/plain": [
              "{'activation': 'logistic',\n",
              " 'shuffle': True,\n",
              " 'solver': 'adam',\n",
              " 'warm_start': True}"
            ]
          },
          "metadata": {
            "tags": []
          }
        },
        {
          "output_type": "display_data",
          "data": {
            "application/vnd.google.colaboratory.intrinsic+json": {
              "type": "string"
            },
            "text/plain": [
              "'AdaBoost'"
            ]
          },
          "metadata": {
            "tags": []
          }
        },
        {
          "output_type": "display_data",
          "data": {
            "text/plain": [
              "{'algorithm': 'SAMME', 'n_estimators': 33}"
            ]
          },
          "metadata": {
            "tags": []
          }
        },
        {
          "output_type": "display_data",
          "data": {
            "application/vnd.google.colaboratory.intrinsic+json": {
              "type": "string"
            },
            "text/plain": [
              "'Gradient'"
            ]
          },
          "metadata": {
            "tags": []
          }
        },
        {
          "output_type": "display_data",
          "data": {
            "text/plain": [
              "{'max_depth': 2,\n",
              " 'min_samples_leaf': 7,\n",
              " 'min_samples_split': 10,\n",
              " 'n_estimators': 100,\n",
              " 'warm_start': False}"
            ]
          },
          "metadata": {
            "tags": []
          }
        },
        {
          "output_type": "display_data",
          "data": {
            "application/vnd.google.colaboratory.intrinsic+json": {
              "type": "string"
            },
            "text/plain": [
              "'ExtraTrees'"
            ]
          },
          "metadata": {
            "tags": []
          }
        },
        {
          "output_type": "display_data",
          "data": {
            "text/plain": [
              "{'bootstrap': False,\n",
              " 'criterion': 'entropy',\n",
              " 'max_depth': 7,\n",
              " 'min_samples_leaf': 13,\n",
              " 'min_samples_split': 102,\n",
              " 'n_estimators': 188,\n",
              " 'warm_start': True}"
            ]
          },
          "metadata": {
            "tags": []
          }
        },
        {
          "output_type": "display_data",
          "data": {
            "application/vnd.google.colaboratory.intrinsic+json": {
              "type": "string"
            },
            "text/plain": [
              "'LogisticRegression'"
            ]
          },
          "metadata": {
            "tags": []
          }
        },
        {
          "output_type": "display_data",
          "data": {
            "text/plain": [
              "{'max_iter': 4947, 'solver': 'lbfgs', 'warm_start': False}"
            ]
          },
          "metadata": {
            "tags": []
          }
        }
      ]
    },
    {
      "cell_type": "code",
      "metadata": {
        "id": "JS-x896Z7X_O",
        "colab": {
          "base_uri": "https://localhost:8080/",
          "height": 1000
        },
        "outputId": "5728c948-8f87-4b47-b238-d7ed54f69606"
      },
      "source": [
        "for indice in names:\n",
        "   display(indice, dfmodelosRand.at[indice,'Modelo'])"
      ],
      "execution_count": 12,
      "outputs": [
        {
          "output_type": "display_data",
          "data": {
            "application/vnd.google.colaboratory.intrinsic+json": {
              "type": "string"
            },
            "text/plain": [
              "'KNeighbors'"
            ]
          },
          "metadata": {
            "tags": []
          }
        },
        {
          "output_type": "display_data",
          "data": {
            "text/plain": [
              "KNeighborsClassifier(algorithm='auto', leaf_size=46, metric='minkowski',\n",
              "                     metric_params=None, n_jobs=None, n_neighbors=17, p=2,\n",
              "                     weights='distance')"
            ]
          },
          "metadata": {
            "tags": []
          }
        },
        {
          "output_type": "display_data",
          "data": {
            "application/vnd.google.colaboratory.intrinsic+json": {
              "type": "string"
            },
            "text/plain": [
              "'LinearSVC'"
            ]
          },
          "metadata": {
            "tags": []
          }
        },
        {
          "output_type": "display_data",
          "data": {
            "text/plain": [
              "SVC(C=1, break_ties=False, cache_size=200, class_weight=None, coef0=0.0,\n",
              "    decision_function_shape='ovr', degree=3, gamma='auto', kernel='linear',\n",
              "    max_iter=-1, probability=True, random_state=None, shrinking=True, tol=0.001,\n",
              "    verbose=False)"
            ]
          },
          "metadata": {
            "tags": []
          }
        },
        {
          "output_type": "display_data",
          "data": {
            "application/vnd.google.colaboratory.intrinsic+json": {
              "type": "string"
            },
            "text/plain": [
              "'RBFSVC'"
            ]
          },
          "metadata": {
            "tags": []
          }
        },
        {
          "output_type": "display_data",
          "data": {
            "text/plain": [
              "SVC(C=1, break_ties=False, cache_size=200, class_weight=None, coef0=0.0,\n",
              "    decision_function_shape='ovr', degree=3, gamma='scale', kernel='rbf',\n",
              "    max_iter=-1, probability=True, random_state=None, shrinking=True, tol=0.001,\n",
              "    verbose=False)"
            ]
          },
          "metadata": {
            "tags": []
          }
        },
        {
          "output_type": "display_data",
          "data": {
            "application/vnd.google.colaboratory.intrinsic+json": {
              "type": "string"
            },
            "text/plain": [
              "'Gaussian'"
            ]
          },
          "metadata": {
            "tags": []
          }
        },
        {
          "output_type": "display_data",
          "data": {
            "text/plain": [
              "GaussianProcessClassifier(copy_X_train=True, kernel=None, max_iter_predict=296,\n",
              "                          multi_class='one_vs_rest', n_jobs=None,\n",
              "                          n_restarts_optimizer=0, optimizer='fmin_l_bfgs_b',\n",
              "                          random_state=None, warm_start=False)"
            ]
          },
          "metadata": {
            "tags": []
          }
        },
        {
          "output_type": "display_data",
          "data": {
            "application/vnd.google.colaboratory.intrinsic+json": {
              "type": "string"
            },
            "text/plain": [
              "'DecisionTree'"
            ]
          },
          "metadata": {
            "tags": []
          }
        },
        {
          "output_type": "display_data",
          "data": {
            "text/plain": [
              "DecisionTreeClassifier(ccp_alpha=0.0, class_weight=None, criterion='gini',\n",
              "                       max_depth=8, max_features=None, max_leaf_nodes=None,\n",
              "                       min_impurity_decrease=0.0, min_impurity_split=None,\n",
              "                       min_samples_leaf=9, min_samples_split=62,\n",
              "                       min_weight_fraction_leaf=0.0, presort='deprecated',\n",
              "                       random_state=None, splitter='best')"
            ]
          },
          "metadata": {
            "tags": []
          }
        },
        {
          "output_type": "display_data",
          "data": {
            "application/vnd.google.colaboratory.intrinsic+json": {
              "type": "string"
            },
            "text/plain": [
              "'RandomForest'"
            ]
          },
          "metadata": {
            "tags": []
          }
        },
        {
          "output_type": "display_data",
          "data": {
            "text/plain": [
              "RandomForestClassifier(bootstrap=True, ccp_alpha=0.0, class_weight=None,\n",
              "                       criterion='gini', max_depth=67, max_features='auto',\n",
              "                       max_leaf_nodes=None, max_samples=None,\n",
              "                       min_impurity_decrease=0.0, min_impurity_split=None,\n",
              "                       min_samples_leaf=9, min_samples_split=46,\n",
              "                       min_weight_fraction_leaf=0.0, n_estimators=85,\n",
              "                       n_jobs=None, oob_score=False, random_state=None,\n",
              "                       verbose=0, warm_start=False)"
            ]
          },
          "metadata": {
            "tags": []
          }
        },
        {
          "output_type": "display_data",
          "data": {
            "application/vnd.google.colaboratory.intrinsic+json": {
              "type": "string"
            },
            "text/plain": [
              "'NeuralMLP'"
            ]
          },
          "metadata": {
            "tags": []
          }
        },
        {
          "output_type": "display_data",
          "data": {
            "text/plain": [
              "MLPClassifier(activation='logistic', alpha=0.0001, batch_size='auto',\n",
              "              beta_1=0.9, beta_2=0.999, early_stopping=False, epsilon=1e-08,\n",
              "              hidden_layer_sizes=(100,), learning_rate='constant',\n",
              "              learning_rate_init=0.001, max_fun=15000, max_iter=200,\n",
              "              momentum=0.9, n_iter_no_change=10, nesterovs_momentum=True,\n",
              "              power_t=0.5, random_state=None, shuffle=True, solver='adam',\n",
              "              tol=0.0001, validation_fraction=0.1, verbose=False,\n",
              "              warm_start=True)"
            ]
          },
          "metadata": {
            "tags": []
          }
        },
        {
          "output_type": "display_data",
          "data": {
            "application/vnd.google.colaboratory.intrinsic+json": {
              "type": "string"
            },
            "text/plain": [
              "'AdaBoost'"
            ]
          },
          "metadata": {
            "tags": []
          }
        },
        {
          "output_type": "display_data",
          "data": {
            "text/plain": [
              "AdaBoostClassifier(algorithm='SAMME', base_estimator=None, learning_rate=1.0,\n",
              "                   n_estimators=33, random_state=None)"
            ]
          },
          "metadata": {
            "tags": []
          }
        },
        {
          "output_type": "display_data",
          "data": {
            "application/vnd.google.colaboratory.intrinsic+json": {
              "type": "string"
            },
            "text/plain": [
              "'Gradient'"
            ]
          },
          "metadata": {
            "tags": []
          }
        },
        {
          "output_type": "display_data",
          "data": {
            "text/plain": [
              "GradientBoostingClassifier(ccp_alpha=0.0, criterion='friedman_mse', init=None,\n",
              "                           learning_rate=0.1, loss='deviance', max_depth=2,\n",
              "                           max_features=None, max_leaf_nodes=None,\n",
              "                           min_impurity_decrease=0.0, min_impurity_split=None,\n",
              "                           min_samples_leaf=7, min_samples_split=10,\n",
              "                           min_weight_fraction_leaf=0.0, n_estimators=100,\n",
              "                           n_iter_no_change=None, presort='deprecated',\n",
              "                           random_state=None, subsample=1.0, tol=0.0001,\n",
              "                           validation_fraction=0.1, verbose=0,\n",
              "                           warm_start=False)"
            ]
          },
          "metadata": {
            "tags": []
          }
        },
        {
          "output_type": "display_data",
          "data": {
            "application/vnd.google.colaboratory.intrinsic+json": {
              "type": "string"
            },
            "text/plain": [
              "'ExtraTrees'"
            ]
          },
          "metadata": {
            "tags": []
          }
        },
        {
          "output_type": "display_data",
          "data": {
            "text/plain": [
              "ExtraTreesClassifier(bootstrap=False, ccp_alpha=0.0, class_weight=None,\n",
              "                     criterion='entropy', max_depth=7, max_features='auto',\n",
              "                     max_leaf_nodes=None, max_samples=None,\n",
              "                     min_impurity_decrease=0.0, min_impurity_split=None,\n",
              "                     min_samples_leaf=13, min_samples_split=102,\n",
              "                     min_weight_fraction_leaf=0.0, n_estimators=188,\n",
              "                     n_jobs=None, oob_score=False, random_state=None, verbose=0,\n",
              "                     warm_start=True)"
            ]
          },
          "metadata": {
            "tags": []
          }
        },
        {
          "output_type": "display_data",
          "data": {
            "application/vnd.google.colaboratory.intrinsic+json": {
              "type": "string"
            },
            "text/plain": [
              "'LogisticRegression'"
            ]
          },
          "metadata": {
            "tags": []
          }
        },
        {
          "output_type": "display_data",
          "data": {
            "text/plain": [
              "LogisticRegression(C=1.0, class_weight=None, dual=False, fit_intercept=True,\n",
              "                   intercept_scaling=1, l1_ratio=None, max_iter=4947,\n",
              "                   multi_class='auto', n_jobs=None, penalty='l2',\n",
              "                   random_state=None, solver='lbfgs', tol=0.0001, verbose=0,\n",
              "                   warm_start=False)"
            ]
          },
          "metadata": {
            "tags": []
          }
        }
      ]
    },
    {
      "cell_type": "markdown",
      "metadata": {
        "id": "9jOSEuoS0hTY"
      },
      "source": [
        "\n",
        "\n",
        "---\n",
        "\n",
        "\n",
        "## Referências\n",
        "\n",
        "* [Kaggle - COVID-19 - Clinical Data to assess diagnosis - Sírio Libanês](https://www.kaggle.com/S%C3%ADrio-Libanes/covid19)\n",
        "* [Pandas](https://pandas.pydata.org/pandas-docs/stable/index.html)\n",
        "* [SciKit Learn](https://scikit-learn.org/stable/modules/classes.html#module-sklearn.linear_model)\n",
        "* [Configurar o treinamento do AutoML com Python](https://docs.microsoft.com/pt-br/azure/machine-learning/how-to-configure-auto-train)\n",
        "* [Visão geral do ajuste de hiperparâmetros](https://cloud.google.com/ai-platform/training/docs/hyperparameter-tuning-overview?hl=pt-br)\n"
      ]
    }
  ]
}