{
  "nbformat": 4,
  "nbformat_minor": 0,
  "metadata": {
    "colab": {
      "name": "Bootcamp_DataScience_projeto_final.ipynb",
      "provenance": [],
      "collapsed_sections": [],
      "toc_visible": true,
      "mount_file_id": "10nLqve7KrZpstIeUCNCQa_T6JK7cHh6L",
      "authorship_tag": "ABX9TyNPTgclVdgDxnbUDEb75HGF",
      "include_colab_link": true
    },
    "kernelspec": {
      "name": "python3",
      "display_name": "Python 3"
    },
    "language_info": {
      "name": "python"
    }
  },
  "cells": [
    {
      "cell_type": "markdown",
      "metadata": {
        "id": "view-in-github",
        "colab_type": "text"
      },
      "source": [
        "<a href=\"https://colab.research.google.com/github/hc0rd31r0/Bootcamp_Data_Science/blob/main/projeto-final/Bootcamp_DataScience_projeto_final.ipynb\" target=\"_parent\"><img src=\"https://colab.research.google.com/assets/colab-badge.svg\" alt=\"Open In Colab\"/></a>"
      ]
    },
    {
      "cell_type": "markdown",
      "metadata": {
        "id": "7_MRx0ZTNvi4"
      },
      "source": [
        "#Projeto Final de Conclusão de Curso\n",
        "###Bootcamp Data Science Aplicada 2 by [Alura](https://www.alura.com.br/) \n",
        "####Autor: Helton Cordeiro\n",
        "e-mail: heltoncordeiro@gmail.com"
      ]
    },
    {
      "cell_type": "markdown",
      "metadata": {
        "id": "OQT6AvZYcFpH"
      },
      "source": [
        "\n",
        "---\n",
        "\n",
        "# **Objetivo desse notebook**\n",
        "\n",
        "Após os dados disponibilizados pelo Hospital Sírio Libânes ter sido tratados no [notebook específico próprio](https://github.com/hc0rd31r0/Bootcamp_Data_Science/blob/main/projeto-final/projeto_final_tratamento_dados.ipynb)\n",
        "\n",
        "Vamos começar a trabalhar com os Modelos de Machine Learning com o objetivo de \n",
        "#### **Prever** quais pacientes precisarão ser admitidos(as) na UTI e com isso **definir** qual a necessidade de leitos de UTI do hospital, a partir dos dados clínicos individuais disponíveis.\n",
        "\n",
        "---"
      ]
    },
    {
      "cell_type": "markdown",
      "metadata": {
        "id": "YzUZHlJsPLwu"
      },
      "source": [
        "\n",
        "---\n",
        "\n",
        "\n",
        "* RESUMO\n",
        "\n",
        "Ideia do trabalho e principais resultados\n",
        "\n",
        "* INTRODUÇÃO\n",
        "\n",
        "Introdução sobre o problema (Kaggle) mas com suas palavras.\n",
        "\n",
        "\n",
        "* Organização\n",
        "\n",
        "Estrutura, seção de funções, seção de imports bem documentada. O projeto é para ficar no portfolio e para que outras pessoas possam aprender.\n",
        "\n",
        "* Sequência lógica e linha de raciocínio desenvolvida\n",
        "\n",
        "\n",
        "\n",
        "---\n",
        "\n"
      ]
    },
    {
      "cell_type": "markdown",
      "metadata": {
        "id": "IW283FjLA5r7"
      },
      "source": [
        "## Entendendo o Problema e Iniciando no Kaggle\n"
      ]
    },
    {
      "cell_type": "markdown",
      "metadata": {
        "id": "WuADLQLNws8Q"
      },
      "source": [
        "\n",
        "[Kaggle](https://www.kaggle.com) \n",
        "* Crie uma conta e conheça o ambiente do Kaggle, permite também a criação de notebooks.\n",
        "\n",
        "Fonte de Dados para estudo\n",
        "\n",
        "url: https://www.kaggle.com/S%C3%ADrio-Libanes/covid19\n",
        "\n",
        "\n"
      ]
    },
    {
      "cell_type": "markdown",
      "metadata": {
        "id": "XuOxw9yElGZ9"
      },
      "source": [
        "##Importação de bibliotecas"
      ]
    },
    {
      "cell_type": "code",
      "metadata": {
        "id": "a2BpIgxxb0i0"
      },
      "source": [
        "import pandas as pd\n",
        "import numpy as np\n",
        "import seaborn as sns\n",
        "\n",
        "import matplotlib as mpl\n",
        "import matplotlib.pyplot as plt\n",
        "import matplotlib.ticker as ticker\n",
        "\n",
        "import warnings\n",
        "warnings.simplefilter(action='ignore')\n",
        "\n",
        "from sklearn.metrics import mean_absolute_error\n",
        "from sklearn.model_selection import train_test_split\n",
        "from sklearn.linear_model import LogisticRegression\n",
        "from sklearn.dummy import DummyClassifier\n",
        "from sklearn.metrics import accuracy_score\n",
        "\n",
        "from sklearn.tree import DecisionTreeClassifier\n",
        "from sklearn.ensemble import RandomForestClassifier\n",
        "\n",
        "from sklearn.metrics import plot_confusion_matrix\n",
        "from sklearn.metrics import classification_report\n",
        "from sklearn.metrics import roc_auc_score\n",
        "\n",
        "from sklearn.model_selection import cross_validate\n",
        "from sklearn.model_selection import StratifiedKFold\n",
        "from sklearn.model_selection import RepeatedStratifiedKFold\n",
        "\n",
        "from sklearn.linear_model import LogisticRegressionCV"
      ],
      "execution_count": null,
      "outputs": []
    },
    {
      "cell_type": "markdown",
      "metadata": {
        "id": "VZp-yPhK6gIy"
      },
      "source": [
        "### Importando as funções auxiliares\n",
        "\n",
        "* Arquivo funcoes.py contém as funções python que serão utilizados pelo projeto."
      ]
    },
    {
      "cell_type": "code",
      "metadata": {
        "id": "xRs7TieDrEp3"
      },
      "source": [
        "# !python funcoes.py\n",
        "from funcoes import roda_n_modelos, roda_modelo_cv"
      ],
      "execution_count": null,
      "outputs": []
    },
    {
      "cell_type": "markdown",
      "metadata": {
        "id": "xYZouHquJ5t1"
      },
      "source": [
        "## Configurações iniciais"
      ]
    },
    {
      "cell_type": "code",
      "metadata": {
        "id": "UgVACZH3OdZq"
      },
      "source": [
        "pd.options.display.float_format = \"{:,.6f}\".format\n",
        "sns.set()\n",
        "sns.set_style(\"ticks\")\n",
        "\n",
        "mpl.rcParams['figure.figsize']= (16,8)\n",
        "mpl.rcParams['figure.titlesize']= 18\n",
        "mpl.rcParams['figure.titleweight']= 'bold'\n",
        "mpl.rcParams['axes.labelsize']= 16\n",
        "mpl.rcParams['axes.titlesize']= 18\n",
        "mpl.rcParams['axes.titleweight']= 'bold'\n",
        "mpl.rcParams['xtick.labelsize']= 11\n",
        "mpl.rcParams['ytick.labelsize']= 11\n",
        "mpl.rcParams['legend.fontsize']= 'large'\n",
        "mpl.rcParams['date.autoformatter.day']= '%d/%m/%Y'\n",
        "mpl.rcParams['grid.color']='grey'\n",
        "mpl.rcParams['grid.linestyle']= '--'\n",
        "mpl.rcParams['grid.linewidth']= 0.5"
      ],
      "execution_count": null,
      "outputs": []
    },
    {
      "cell_type": "markdown",
      "metadata": {
        "id": "r_ZqCvzS-neO"
      },
      "source": [
        "## Carregando os dados\n",
        "Vamos carregar o arquivo de dados tratados e sem as colunas com alta correção.\n",
        "\n",
        "O processo de tratamento dos dados estão nesse notebook [projeto_final_tratamento_dados.ipynb](https://github.com/hc0rd31r0/Bootcamp_Data_Science/blob/main/projeto-final/projeto_final_tratamento_dados.ipynb).\n"
      ]
    },
    {
      "cell_type": "markdown",
      "metadata": {
        "id": "92lMw8dolouY"
      },
      "source": [
        "### Realizando a carga de dados"
      ]
    },
    {
      "cell_type": "code",
      "metadata": {
        "id": "qhd3XQ_RfYQl"
      },
      "source": [
        "url='https://github.com/hc0rd31r0/Bootcamp_Data_Science/blob/main/projeto-final/dados/Kaggle_Sirio_Libanes_ICU_Prediction-tratado-sem-corr.xls?raw=true'\n",
        "dados_raw = pd.read_excel(url, index_col=0)"
      ],
      "execution_count": null,
      "outputs": []
    },
    {
      "cell_type": "markdown",
      "metadata": {
        "id": "-U01Oq5oKGk2"
      },
      "source": [
        "### Informações sobre a base de dados"
      ]
    },
    {
      "cell_type": "code",
      "metadata": {
        "colab": {
          "base_uri": "https://localhost:8080/",
          "height": 559
        },
        "id": "zA6jIYLaNiAl",
        "outputId": "c971e45a-844b-4843-84c5-bd399ad7acbc"
      },
      "source": [
        "print(40*\"---\")\n",
        "print(\"Nosso dataframe tem %s linhas e %s colunas\\n\" %(dados_raw.shape[0], dados_raw.shape[1]))\n",
        "print(40*\"---\")\n",
        "print(\"Distribuição do ICU\\n%s\\n\" %(dados_raw['ICU'].value_counts(normalize=True)))\n",
        "print(40*\"---\")\n",
        "dados_raw.info(verbose=False)\n",
        "print(40*\"---\")\n",
        "display(dados_raw.head())"
      ],
      "execution_count": null,
      "outputs": [
        {
          "output_type": "stream",
          "text": [
            "------------------------------------------------------------------------------------------------------------------------\n",
            "Nosso dataframe tem 294 linhas e 95 colunas\n",
            "\n",
            "------------------------------------------------------------------------------------------------------------------------\n",
            "Distribuição do ICU\n",
            "0   0.642857\n",
            "1   0.357143\n",
            "Name: ICU, dtype: float64\n",
            "\n",
            "------------------------------------------------------------------------------------------------------------------------\n",
            "<class 'pandas.core.frame.DataFrame'>\n",
            "Int64Index: 294 entries, 0 to 293\n",
            "Columns: 95 entries, AGE_ABOVE65 to ICU\n",
            "dtypes: float64(46), int64(49)\n",
            "memory usage: 220.5 KB\n",
            "------------------------------------------------------------------------------------------------------------------------\n"
          ],
          "name": "stdout"
        },
        {
          "output_type": "display_data",
          "data": {
            "text/html": [
              "<div>\n",
              "<style scoped>\n",
              "    .dataframe tbody tr th:only-of-type {\n",
              "        vertical-align: middle;\n",
              "    }\n",
              "\n",
              "    .dataframe tbody tr th {\n",
              "        vertical-align: top;\n",
              "    }\n",
              "\n",
              "    .dataframe thead th {\n",
              "        text-align: right;\n",
              "    }\n",
              "</style>\n",
              "<table border=\"1\" class=\"dataframe\">\n",
              "  <thead>\n",
              "    <tr style=\"text-align: right;\">\n",
              "      <th></th>\n",
              "      <th>AGE_ABOVE65</th>\n",
              "      <th>AGE_PERCENTIL</th>\n",
              "      <th>GENDER</th>\n",
              "      <th>DISEASE GROUPING 1</th>\n",
              "      <th>DISEASE GROUPING 2</th>\n",
              "      <th>DISEASE GROUPING 3</th>\n",
              "      <th>DISEASE GROUPING 4</th>\n",
              "      <th>DISEASE GROUPING 5</th>\n",
              "      <th>DISEASE GROUPING 6</th>\n",
              "      <th>HTN</th>\n",
              "      <th>IMMUNOCOMPROMISED</th>\n",
              "      <th>OTHER</th>\n",
              "      <th>ALBUMIN_MEDIAN</th>\n",
              "      <th>ALBUMIN_DIFF</th>\n",
              "      <th>BE_ARTERIAL_MEDIAN</th>\n",
              "      <th>BE_ARTERIAL_DIFF</th>\n",
              "      <th>BE_VENOUS_MEDIAN</th>\n",
              "      <th>BE_VENOUS_DIFF</th>\n",
              "      <th>BIC_ARTERIAL_MEDIAN</th>\n",
              "      <th>BIC_ARTERIAL_DIFF</th>\n",
              "      <th>BIC_VENOUS_MEDIAN</th>\n",
              "      <th>BIC_VENOUS_DIFF</th>\n",
              "      <th>BILLIRUBIN_MEDIAN</th>\n",
              "      <th>BILLIRUBIN_DIFF</th>\n",
              "      <th>BLAST_MEDIAN</th>\n",
              "      <th>BLAST_DIFF</th>\n",
              "      <th>CALCIUM_MEDIAN</th>\n",
              "      <th>CALCIUM_DIFF</th>\n",
              "      <th>CREATININ_MEDIAN</th>\n",
              "      <th>CREATININ_DIFF</th>\n",
              "      <th>FFA_MEDIAN</th>\n",
              "      <th>FFA_DIFF</th>\n",
              "      <th>GGT_MEDIAN</th>\n",
              "      <th>GGT_DIFF</th>\n",
              "      <th>GLUCOSE_MEDIAN</th>\n",
              "      <th>GLUCOSE_DIFF</th>\n",
              "      <th>HEMATOCRITE_MEDIAN</th>\n",
              "      <th>HEMATOCRITE_DIFF</th>\n",
              "      <th>HEMOGLOBIN_DIFF</th>\n",
              "      <th>INR_MEDIAN</th>\n",
              "      <th>...</th>\n",
              "      <th>PCR_MEDIAN</th>\n",
              "      <th>PCR_DIFF</th>\n",
              "      <th>PH_ARTERIAL_DIFF</th>\n",
              "      <th>PH_VENOUS_MEDIAN</th>\n",
              "      <th>PH_VENOUS_DIFF</th>\n",
              "      <th>PLATELETS_MEDIAN</th>\n",
              "      <th>PLATELETS_DIFF</th>\n",
              "      <th>POTASSIUM_MEDIAN</th>\n",
              "      <th>POTASSIUM_DIFF</th>\n",
              "      <th>SAT02_ARTERIAL_DIFF</th>\n",
              "      <th>SAT02_VENOUS_MEDIAN</th>\n",
              "      <th>SAT02_VENOUS_DIFF</th>\n",
              "      <th>SODIUM_MEDIAN</th>\n",
              "      <th>SODIUM_DIFF</th>\n",
              "      <th>TGO_MEDIAN</th>\n",
              "      <th>TGO_DIFF</th>\n",
              "      <th>TGP_MEDIAN</th>\n",
              "      <th>TGP_DIFF</th>\n",
              "      <th>TTPA_MEDIAN</th>\n",
              "      <th>TTPA_DIFF</th>\n",
              "      <th>UREA_MEDIAN</th>\n",
              "      <th>UREA_DIFF</th>\n",
              "      <th>DIMER_MEDIAN</th>\n",
              "      <th>DIMER_DIFF</th>\n",
              "      <th>BLOODPRESSURE_DIASTOLIC_MEAN</th>\n",
              "      <th>BLOODPRESSURE_SISTOLIC_MEAN</th>\n",
              "      <th>HEART_RATE_MEAN</th>\n",
              "      <th>RESPIRATORY_RATE_MEAN</th>\n",
              "      <th>TEMPERATURE_MEAN</th>\n",
              "      <th>OXYGEN_SATURATION_MEAN</th>\n",
              "      <th>OXYGEN_SATURATION_MIN</th>\n",
              "      <th>OXYGEN_SATURATION_MAX</th>\n",
              "      <th>BLOODPRESSURE_DIASTOLIC_DIFF</th>\n",
              "      <th>BLOODPRESSURE_SISTOLIC_DIFF</th>\n",
              "      <th>HEART_RATE_DIFF</th>\n",
              "      <th>RESPIRATORY_RATE_DIFF</th>\n",
              "      <th>TEMPERATURE_DIFF</th>\n",
              "      <th>OXYGEN_SATURATION_DIFF</th>\n",
              "      <th>HEART_RATE_DIFF_REL</th>\n",
              "      <th>ICU</th>\n",
              "    </tr>\n",
              "  </thead>\n",
              "  <tbody>\n",
              "    <tr>\n",
              "      <th>0</th>\n",
              "      <td>1</td>\n",
              "      <td>6</td>\n",
              "      <td>0</td>\n",
              "      <td>0</td>\n",
              "      <td>0</td>\n",
              "      <td>0</td>\n",
              "      <td>0</td>\n",
              "      <td>1</td>\n",
              "      <td>1</td>\n",
              "      <td>0</td>\n",
              "      <td>0</td>\n",
              "      <td>1</td>\n",
              "      <td>0.605263</td>\n",
              "      <td>-1</td>\n",
              "      <td>-1.000000</td>\n",
              "      <td>-1</td>\n",
              "      <td>-1.000000</td>\n",
              "      <td>-1</td>\n",
              "      <td>-0.317073</td>\n",
              "      <td>-1</td>\n",
              "      <td>-0.317073</td>\n",
              "      <td>-1</td>\n",
              "      <td>-0.938950</td>\n",
              "      <td>-1</td>\n",
              "      <td>-1.000000</td>\n",
              "      <td>-1</td>\n",
              "      <td>0.183673</td>\n",
              "      <td>-1</td>\n",
              "      <td>-0.868365</td>\n",
              "      <td>-1</td>\n",
              "      <td>-0.742004</td>\n",
              "      <td>-1</td>\n",
              "      <td>-0.945093</td>\n",
              "      <td>-1</td>\n",
              "      <td>-0.891993</td>\n",
              "      <td>-1</td>\n",
              "      <td>0.090147</td>\n",
              "      <td>-1</td>\n",
              "      <td>-1</td>\n",
              "      <td>-0.932246</td>\n",
              "      <td>...</td>\n",
              "      <td>-0.875236</td>\n",
              "      <td>-1</td>\n",
              "      <td>-1</td>\n",
              "      <td>0.363636</td>\n",
              "      <td>-1</td>\n",
              "      <td>-0.540721</td>\n",
              "      <td>-1</td>\n",
              "      <td>-0.518519</td>\n",
              "      <td>-1</td>\n",
              "      <td>-1</td>\n",
              "      <td>0.345679</td>\n",
              "      <td>-1</td>\n",
              "      <td>-0.028571</td>\n",
              "      <td>-1</td>\n",
              "      <td>-0.997201</td>\n",
              "      <td>-1</td>\n",
              "      <td>-0.990854</td>\n",
              "      <td>-1</td>\n",
              "      <td>-0.825613</td>\n",
              "      <td>-1</td>\n",
              "      <td>-0.836145</td>\n",
              "      <td>-1</td>\n",
              "      <td>-0.994912</td>\n",
              "      <td>-1</td>\n",
              "      <td>0.086420</td>\n",
              "      <td>-0.230769</td>\n",
              "      <td>-0.283019</td>\n",
              "      <td>-0.593220</td>\n",
              "      <td>-0.285714</td>\n",
              "      <td>0.736842</td>\n",
              "      <td>0.898990</td>\n",
              "      <td>0.736842</td>\n",
              "      <td>-1.000000</td>\n",
              "      <td>-1.000000</td>\n",
              "      <td>-1.000000</td>\n",
              "      <td>-1.000000</td>\n",
              "      <td>-1.000000</td>\n",
              "      <td>-1.000000</td>\n",
              "      <td>-1.000000</td>\n",
              "      <td>1</td>\n",
              "    </tr>\n",
              "    <tr>\n",
              "      <th>1</th>\n",
              "      <td>0</td>\n",
              "      <td>1</td>\n",
              "      <td>0</td>\n",
              "      <td>0</td>\n",
              "      <td>0</td>\n",
              "      <td>0</td>\n",
              "      <td>0</td>\n",
              "      <td>0</td>\n",
              "      <td>0</td>\n",
              "      <td>0</td>\n",
              "      <td>0</td>\n",
              "      <td>1</td>\n",
              "      <td>0.605263</td>\n",
              "      <td>-1</td>\n",
              "      <td>-1.000000</td>\n",
              "      <td>-1</td>\n",
              "      <td>-1.000000</td>\n",
              "      <td>-1</td>\n",
              "      <td>-0.317073</td>\n",
              "      <td>-1</td>\n",
              "      <td>-0.317073</td>\n",
              "      <td>-1</td>\n",
              "      <td>-0.938950</td>\n",
              "      <td>-1</td>\n",
              "      <td>-1.000000</td>\n",
              "      <td>-1</td>\n",
              "      <td>0.357143</td>\n",
              "      <td>-1</td>\n",
              "      <td>-0.912243</td>\n",
              "      <td>-1</td>\n",
              "      <td>-0.742004</td>\n",
              "      <td>-1</td>\n",
              "      <td>-0.958528</td>\n",
              "      <td>-1</td>\n",
              "      <td>-0.780261</td>\n",
              "      <td>-1</td>\n",
              "      <td>0.144654</td>\n",
              "      <td>-1</td>\n",
              "      <td>-1</td>\n",
              "      <td>-0.959849</td>\n",
              "      <td>...</td>\n",
              "      <td>-0.939887</td>\n",
              "      <td>-1</td>\n",
              "      <td>-1</td>\n",
              "      <td>0.363636</td>\n",
              "      <td>-1</td>\n",
              "      <td>-0.399199</td>\n",
              "      <td>-1</td>\n",
              "      <td>-0.703704</td>\n",
              "      <td>-1</td>\n",
              "      <td>-1</td>\n",
              "      <td>0.345679</td>\n",
              "      <td>-1</td>\n",
              "      <td>0.085714</td>\n",
              "      <td>-1</td>\n",
              "      <td>-0.995428</td>\n",
              "      <td>-1</td>\n",
              "      <td>-0.986662</td>\n",
              "      <td>-1</td>\n",
              "      <td>-0.846633</td>\n",
              "      <td>-1</td>\n",
              "      <td>-0.836145</td>\n",
              "      <td>-1</td>\n",
              "      <td>-0.978029</td>\n",
              "      <td>-1</td>\n",
              "      <td>-0.489712</td>\n",
              "      <td>-0.685470</td>\n",
              "      <td>-0.048218</td>\n",
              "      <td>-0.645951</td>\n",
              "      <td>0.357143</td>\n",
              "      <td>0.935673</td>\n",
              "      <td>0.959596</td>\n",
              "      <td>1.000000</td>\n",
              "      <td>-0.547826</td>\n",
              "      <td>-0.533742</td>\n",
              "      <td>-0.603053</td>\n",
              "      <td>-0.764706</td>\n",
              "      <td>-1.000000</td>\n",
              "      <td>-0.959596</td>\n",
              "      <td>-0.747001</td>\n",
              "      <td>1</td>\n",
              "    </tr>\n",
              "    <tr>\n",
              "      <th>2</th>\n",
              "      <td>0</td>\n",
              "      <td>4</td>\n",
              "      <td>1</td>\n",
              "      <td>0</td>\n",
              "      <td>0</td>\n",
              "      <td>0</td>\n",
              "      <td>0</td>\n",
              "      <td>0</td>\n",
              "      <td>0</td>\n",
              "      <td>0</td>\n",
              "      <td>1</td>\n",
              "      <td>1</td>\n",
              "      <td>-0.263158</td>\n",
              "      <td>-1</td>\n",
              "      <td>-1.000000</td>\n",
              "      <td>-1</td>\n",
              "      <td>-1.000000</td>\n",
              "      <td>-1</td>\n",
              "      <td>-0.317073</td>\n",
              "      <td>-1</td>\n",
              "      <td>-0.317073</td>\n",
              "      <td>-1</td>\n",
              "      <td>-0.972789</td>\n",
              "      <td>-1</td>\n",
              "      <td>-1.000000</td>\n",
              "      <td>-1</td>\n",
              "      <td>0.326531</td>\n",
              "      <td>-1</td>\n",
              "      <td>-0.968861</td>\n",
              "      <td>-1</td>\n",
              "      <td>-0.194030</td>\n",
              "      <td>-1</td>\n",
              "      <td>-0.316589</td>\n",
              "      <td>-1</td>\n",
              "      <td>-0.891993</td>\n",
              "      <td>-1</td>\n",
              "      <td>-0.203354</td>\n",
              "      <td>-1</td>\n",
              "      <td>-1</td>\n",
              "      <td>-0.959849</td>\n",
              "      <td>...</td>\n",
              "      <td>-0.503592</td>\n",
              "      <td>-1</td>\n",
              "      <td>-1</td>\n",
              "      <td>0.363636</td>\n",
              "      <td>-1</td>\n",
              "      <td>-0.564753</td>\n",
              "      <td>-1</td>\n",
              "      <td>-0.777778</td>\n",
              "      <td>-1</td>\n",
              "      <td>-1</td>\n",
              "      <td>0.580247</td>\n",
              "      <td>-1</td>\n",
              "      <td>0.200000</td>\n",
              "      <td>-1</td>\n",
              "      <td>-0.989549</td>\n",
              "      <td>-1</td>\n",
              "      <td>-0.956555</td>\n",
              "      <td>-1</td>\n",
              "      <td>-0.846633</td>\n",
              "      <td>-1</td>\n",
              "      <td>-0.937349</td>\n",
              "      <td>-1</td>\n",
              "      <td>-0.978029</td>\n",
              "      <td>-1</td>\n",
              "      <td>0.012346</td>\n",
              "      <td>-0.369231</td>\n",
              "      <td>-0.528302</td>\n",
              "      <td>-0.457627</td>\n",
              "      <td>-0.285714</td>\n",
              "      <td>0.684211</td>\n",
              "      <td>0.878788</td>\n",
              "      <td>0.684211</td>\n",
              "      <td>-1.000000</td>\n",
              "      <td>-1.000000</td>\n",
              "      <td>-1.000000</td>\n",
              "      <td>-1.000000</td>\n",
              "      <td>-1.000000</td>\n",
              "      <td>-1.000000</td>\n",
              "      <td>-1.000000</td>\n",
              "      <td>0</td>\n",
              "    </tr>\n",
              "    <tr>\n",
              "      <th>3</th>\n",
              "      <td>0</td>\n",
              "      <td>1</td>\n",
              "      <td>0</td>\n",
              "      <td>0</td>\n",
              "      <td>0</td>\n",
              "      <td>0</td>\n",
              "      <td>0</td>\n",
              "      <td>0</td>\n",
              "      <td>0</td>\n",
              "      <td>0</td>\n",
              "      <td>0</td>\n",
              "      <td>1</td>\n",
              "      <td>0.605263</td>\n",
              "      <td>-1</td>\n",
              "      <td>-1.000000</td>\n",
              "      <td>-1</td>\n",
              "      <td>-1.000000</td>\n",
              "      <td>-1</td>\n",
              "      <td>-0.317073</td>\n",
              "      <td>-1</td>\n",
              "      <td>-0.317073</td>\n",
              "      <td>-1</td>\n",
              "      <td>-0.935113</td>\n",
              "      <td>-1</td>\n",
              "      <td>-1.000000</td>\n",
              "      <td>-1</td>\n",
              "      <td>0.357143</td>\n",
              "      <td>-1</td>\n",
              "      <td>-0.913659</td>\n",
              "      <td>-1</td>\n",
              "      <td>-0.829424</td>\n",
              "      <td>-1</td>\n",
              "      <td>-0.938084</td>\n",
              "      <td>-1</td>\n",
              "      <td>-0.851024</td>\n",
              "      <td>-1</td>\n",
              "      <td>0.358491</td>\n",
              "      <td>-1</td>\n",
              "      <td>-1</td>\n",
              "      <td>-0.959849</td>\n",
              "      <td>...</td>\n",
              "      <td>-0.990926</td>\n",
              "      <td>-1</td>\n",
              "      <td>-1</td>\n",
              "      <td>0.363636</td>\n",
              "      <td>-1</td>\n",
              "      <td>-0.457944</td>\n",
              "      <td>-1</td>\n",
              "      <td>-0.592593</td>\n",
              "      <td>-1</td>\n",
              "      <td>-1</td>\n",
              "      <td>0.345679</td>\n",
              "      <td>-1</td>\n",
              "      <td>0.142857</td>\n",
              "      <td>-1</td>\n",
              "      <td>-0.998507</td>\n",
              "      <td>-1</td>\n",
              "      <td>-0.991235</td>\n",
              "      <td>-1</td>\n",
              "      <td>-0.846633</td>\n",
              "      <td>-1</td>\n",
              "      <td>-0.903614</td>\n",
              "      <td>-1</td>\n",
              "      <td>-1.000000</td>\n",
              "      <td>-1</td>\n",
              "      <td>0.333333</td>\n",
              "      <td>-0.153846</td>\n",
              "      <td>0.160377</td>\n",
              "      <td>-0.593220</td>\n",
              "      <td>0.285714</td>\n",
              "      <td>0.868421</td>\n",
              "      <td>0.939394</td>\n",
              "      <td>0.894737</td>\n",
              "      <td>-1.000000</td>\n",
              "      <td>-0.877301</td>\n",
              "      <td>-0.923664</td>\n",
              "      <td>-0.882353</td>\n",
              "      <td>-0.952381</td>\n",
              "      <td>-0.979798</td>\n",
              "      <td>-0.956805</td>\n",
              "      <td>0</td>\n",
              "    </tr>\n",
              "    <tr>\n",
              "      <th>4</th>\n",
              "      <td>0</td>\n",
              "      <td>1</td>\n",
              "      <td>0</td>\n",
              "      <td>0</td>\n",
              "      <td>0</td>\n",
              "      <td>0</td>\n",
              "      <td>0</td>\n",
              "      <td>0</td>\n",
              "      <td>0</td>\n",
              "      <td>0</td>\n",
              "      <td>0</td>\n",
              "      <td>1</td>\n",
              "      <td>0.605263</td>\n",
              "      <td>-1</td>\n",
              "      <td>-1.000000</td>\n",
              "      <td>-1</td>\n",
              "      <td>-1.000000</td>\n",
              "      <td>-1</td>\n",
              "      <td>-0.317073</td>\n",
              "      <td>-1</td>\n",
              "      <td>-0.317073</td>\n",
              "      <td>-1</td>\n",
              "      <td>-0.938950</td>\n",
              "      <td>-1</td>\n",
              "      <td>-1.000000</td>\n",
              "      <td>-1</td>\n",
              "      <td>0.357143</td>\n",
              "      <td>-1</td>\n",
              "      <td>-0.891012</td>\n",
              "      <td>-1</td>\n",
              "      <td>-0.742004</td>\n",
              "      <td>-1</td>\n",
              "      <td>-0.958528</td>\n",
              "      <td>-1</td>\n",
              "      <td>-0.891993</td>\n",
              "      <td>-1</td>\n",
              "      <td>0.291405</td>\n",
              "      <td>-1</td>\n",
              "      <td>-1</td>\n",
              "      <td>-0.959849</td>\n",
              "      <td>...</td>\n",
              "      <td>-0.997732</td>\n",
              "      <td>-1</td>\n",
              "      <td>-1</td>\n",
              "      <td>0.363636</td>\n",
              "      <td>-1</td>\n",
              "      <td>-0.292390</td>\n",
              "      <td>-1</td>\n",
              "      <td>-0.666667</td>\n",
              "      <td>-1</td>\n",
              "      <td>-1</td>\n",
              "      <td>0.345679</td>\n",
              "      <td>-1</td>\n",
              "      <td>0.085714</td>\n",
              "      <td>-1</td>\n",
              "      <td>-0.997947</td>\n",
              "      <td>-1</td>\n",
              "      <td>-0.988948</td>\n",
              "      <td>-1</td>\n",
              "      <td>-0.846633</td>\n",
              "      <td>-1</td>\n",
              "      <td>-0.884337</td>\n",
              "      <td>-1</td>\n",
              "      <td>-1.000000</td>\n",
              "      <td>-1</td>\n",
              "      <td>-0.037037</td>\n",
              "      <td>-0.538462</td>\n",
              "      <td>-0.537736</td>\n",
              "      <td>-0.525424</td>\n",
              "      <td>-0.196429</td>\n",
              "      <td>0.815789</td>\n",
              "      <td>0.919192</td>\n",
              "      <td>0.842105</td>\n",
              "      <td>-0.826087</td>\n",
              "      <td>-0.754601</td>\n",
              "      <td>-0.984733</td>\n",
              "      <td>-1.000000</td>\n",
              "      <td>-0.976190</td>\n",
              "      <td>-0.979798</td>\n",
              "      <td>-0.986481</td>\n",
              "      <td>0</td>\n",
              "    </tr>\n",
              "  </tbody>\n",
              "</table>\n",
              "<p>5 rows × 95 columns</p>\n",
              "</div>"
            ],
            "text/plain": [
              "   AGE_ABOVE65  AGE_PERCENTIL  ...  HEART_RATE_DIFF_REL  ICU\n",
              "0            1              6  ...            -1.000000    1\n",
              "1            0              1  ...            -0.747001    1\n",
              "2            0              4  ...            -1.000000    0\n",
              "3            0              1  ...            -0.956805    0\n",
              "4            0              1  ...            -0.986481    0\n",
              "\n",
              "[5 rows x 95 columns]"
            ]
          },
          "metadata": {
            "tags": []
          }
        }
      ]
    },
    {
      "cell_type": "markdown",
      "metadata": {
        "id": "4DMLZeuAaMCn"
      },
      "source": [
        "\n",
        "\n",
        "---\n",
        "\n",
        "\n",
        "#Modelos de Machine Learning\n",
        "Relação dos Modelos que serão testados nesse projeto, foram selecionados por resolverem problemas de classificação binária e aprendizado supervisionado.\n",
        "\n",
        "\n",
        "1. [KNeighborsClassifier](\n",
        "https://scikit-learn.org/stable/modules/generated/sklearn.neighbors.KNeighborsClassifier.html)\n",
        "\n",
        "2. [SVC - Linear](https://scikit-learn.org/stable/modules/generated/sklearn.svm.SVC.html)\n",
        "\n",
        "3. [SVC - RBF](https://scikit-learn.org/stable/modules/generated/sklearn.svm.SVC.html)\n",
        "\n",
        "4. [GaussianProcessClassifier](https://scikit-learn.org/stable/modules/generated/sklearn.gaussian_process.GaussianProcessClassifier.html)\n",
        "\n",
        "5. [DecisionTreeClassifier](https://scikit-learn.org/stable/modules/generated/sklearn.tree.DecisionTreeClassifier.html#sklearn.tree.DecisionTreeClassifier)\n",
        "\n",
        "6. [RandomForestClassifier](https://scikit-learn.org/stable/modules/generated/sklearn.ensemble.RandomForestClassifier.html)\n",
        "\n",
        "7. [Neural Net](https://scikit-learn.org/stable/modules/generated/sklearn.neural_network.MLPClassifier.html)\n",
        "\n",
        "8. [AdaBoostClassifier](https://scikit-learn.org/stable/modules/generated/sklearn.ensemble.AdaBoostClassifier.html)\n",
        "\n",
        "9. [GradientBoostingClassifier](https://scikit-learn.org/stable/modules/generated/sklearn.ensemble.GradientBoostingClassifier.html)\n",
        "\n",
        "10. [ExtraTreesClassifier](https://scikit-learn.org/stable/modules/generated/sklearn.ensemble.ExtraTreesClassifier.html)\n",
        "\n",
        "\n",
        "\n",
        "---\n",
        "\n"
      ]
    },
    {
      "cell_type": "code",
      "metadata": {
        "id": "80dSTGdjaLMJ"
      },
      "source": [
        "from sklearn.neighbors import KNeighborsClassifier\n",
        "from sklearn.svm import SVC\n",
        "from sklearn.gaussian_process import GaussianProcessClassifier\n",
        "from sklearn.tree import DecisionTreeClassifier\n",
        "from sklearn.neural_network import MLPClassifier\n",
        "# from sklearn.gaussian_process.kernels import RBF\n",
        "from sklearn.ensemble import AdaBoostClassifier, GradientBoostingClassifier, RandomForestClassifier, ExtraTreesClassifier\n",
        "\n",
        "names = [\"K Neighbors\", \"Linear SVC\", \"RBF SVC\", \"Gaussian\",\n",
        "         \"Decision Tree\", \"Random Forest\", \"Neural Net\", \"AdaBoost\",\n",
        "         \"GBC\", \"ExtraTrees\"]\n",
        "\n",
        "classifiers = [\n",
        "    KNeighborsClassifier(),\n",
        "    SVC(kernel=\"linear\"),\n",
        "    SVC(gamma='auto'),\n",
        "    GaussianProcessClassifier(),\n",
        "    DecisionTreeClassifier(),\n",
        "    RandomForestClassifier(),\n",
        "    MLPClassifier(alpha=1, max_iter=1000),\n",
        "    AdaBoostClassifier(),\n",
        "    GradientBoostingClassifier(),\n",
        "    ExtraTreesClassifier() ]"
      ],
      "execution_count": null,
      "outputs": []
    },
    {
      "cell_type": "code",
      "metadata": {
        "id": "0gCUZfd6t_Mr"
      },
      "source": [
        "trained_models = pd.DataFrame()\n",
        "\n",
        "for name, clf in zip(names, classifiers):\n",
        "    results = roda_modelo_cv(clf, dados_raw, 5, 10)\n",
        "    mean_results = {}\n",
        "    for x in results:\n",
        "        mean_results[x] = np.mean(results[x])\n",
        "\n",
        "    df_result = pd.DataFrame([[name, clf, mean_results['test_accuracy'], mean_results['test_roc_auc'], mean_results['test_average_precision']]],\n",
        "                            columns=['Nome', 'Modelo', 'Accuracy', 'ROC_auc','PR AUC'])\n",
        "    \n",
        "    trained_models = trained_models.append(df_result)\n",
        "\n",
        "trained_models.reset_index(drop=True, inplace=True)"
      ],
      "execution_count": null,
      "outputs": []
    },
    {
      "cell_type": "code",
      "metadata": {
        "colab": {
          "base_uri": "https://localhost:8080/",
          "height": 359
        },
        "id": "ty7uK7hIweaZ",
        "outputId": "66f60798-86fa-4ba3-c922-18429347383b"
      },
      "source": [
        "trained_models.sort_values(by='ROC_auc', ascending=False)"
      ],
      "execution_count": null,
      "outputs": [
        {
          "output_type": "execute_result",
          "data": {
            "text/html": [
              "<div>\n",
              "<style scoped>\n",
              "    .dataframe tbody tr th:only-of-type {\n",
              "        vertical-align: middle;\n",
              "    }\n",
              "\n",
              "    .dataframe tbody tr th {\n",
              "        vertical-align: top;\n",
              "    }\n",
              "\n",
              "    .dataframe thead th {\n",
              "        text-align: right;\n",
              "    }\n",
              "</style>\n",
              "<table border=\"1\" class=\"dataframe\">\n",
              "  <thead>\n",
              "    <tr style=\"text-align: right;\">\n",
              "      <th></th>\n",
              "      <th>Nome</th>\n",
              "      <th>Modelo</th>\n",
              "      <th>Accuracy</th>\n",
              "      <th>ROC_auc</th>\n",
              "      <th>PR AUC</th>\n",
              "    </tr>\n",
              "  </thead>\n",
              "  <tbody>\n",
              "    <tr>\n",
              "      <th>5</th>\n",
              "      <td>Random Forest</td>\n",
              "      <td>RandomForestClassifier(bootstrap=True, ccp_alp...</td>\n",
              "      <td>0.709246</td>\n",
              "      <td>0.762094</td>\n",
              "      <td>0.643153</td>\n",
              "    </tr>\n",
              "    <tr>\n",
              "      <th>6</th>\n",
              "      <td>Neural Net</td>\n",
              "      <td>MLPClassifier(activation='relu', alpha=1, batc...</td>\n",
              "      <td>0.687411</td>\n",
              "      <td>0.745468</td>\n",
              "      <td>0.599260</td>\n",
              "    </tr>\n",
              "    <tr>\n",
              "      <th>1</th>\n",
              "      <td>Linear SVC</td>\n",
              "      <td>SVC(C=1.0, break_ties=False, cache_size=200, c...</td>\n",
              "      <td>0.708521</td>\n",
              "      <td>0.740061</td>\n",
              "      <td>0.635958</td>\n",
              "    </tr>\n",
              "    <tr>\n",
              "      <th>8</th>\n",
              "      <td>GBC</td>\n",
              "      <td>GradientBoostingClassifier(ccp_alpha=0.0, crit...</td>\n",
              "      <td>0.708942</td>\n",
              "      <td>0.739006</td>\n",
              "      <td>0.621846</td>\n",
              "    </tr>\n",
              "    <tr>\n",
              "      <th>9</th>\n",
              "      <td>ExtraTrees</td>\n",
              "      <td>ExtraTreesClassifier(bootstrap=False, ccp_alph...</td>\n",
              "      <td>0.679305</td>\n",
              "      <td>0.734527</td>\n",
              "      <td>0.599709</td>\n",
              "    </tr>\n",
              "    <tr>\n",
              "      <th>2</th>\n",
              "      <td>RBF SVC</td>\n",
              "      <td>SVC(C=1.0, break_ties=False, cache_size=200, c...</td>\n",
              "      <td>0.641788</td>\n",
              "      <td>0.727008</td>\n",
              "      <td>0.577283</td>\n",
              "    </tr>\n",
              "    <tr>\n",
              "      <th>3</th>\n",
              "      <td>Gaussian</td>\n",
              "      <td>GaussianProcessClassifier(copy_X_train=True, k...</td>\n",
              "      <td>0.627855</td>\n",
              "      <td>0.704808</td>\n",
              "      <td>0.504807</td>\n",
              "    </tr>\n",
              "    <tr>\n",
              "      <th>7</th>\n",
              "      <td>AdaBoost</td>\n",
              "      <td>AdaBoostClassifier(algorithm='SAMME.R', base_e...</td>\n",
              "      <td>0.664307</td>\n",
              "      <td>0.674131</td>\n",
              "      <td>0.569090</td>\n",
              "    </tr>\n",
              "    <tr>\n",
              "      <th>0</th>\n",
              "      <td>K Neighbors</td>\n",
              "      <td>KNeighborsClassifier(algorithm='auto', leaf_si...</td>\n",
              "      <td>0.642835</td>\n",
              "      <td>0.658752</td>\n",
              "      <td>0.482376</td>\n",
              "    </tr>\n",
              "    <tr>\n",
              "      <th>4</th>\n",
              "      <td>Decision Tree</td>\n",
              "      <td>DecisionTreeClassifier(ccp_alpha=0.0, class_we...</td>\n",
              "      <td>0.654436</td>\n",
              "      <td>0.623366</td>\n",
              "      <td>0.446150</td>\n",
              "    </tr>\n",
              "  </tbody>\n",
              "</table>\n",
              "</div>"
            ],
            "text/plain": [
              "            Nome  ...   PR AUC\n",
              "5  Random Forest  ... 0.643153\n",
              "6     Neural Net  ... 0.599260\n",
              "1     Linear SVC  ... 0.635958\n",
              "8            GBC  ... 0.621846\n",
              "9     ExtraTrees  ... 0.599709\n",
              "2        RBF SVC  ... 0.577283\n",
              "3       Gaussian  ... 0.504807\n",
              "7       AdaBoost  ... 0.569090\n",
              "0    K Neighbors  ... 0.482376\n",
              "4  Decision Tree  ... 0.446150\n",
              "\n",
              "[10 rows x 5 columns]"
            ]
          },
          "metadata": {
            "tags": []
          },
          "execution_count": 9
        }
      ]
    },
    {
      "cell_type": "markdown",
      "metadata": {
        "id": "V9q75N4Ws2-w"
      },
      "source": [
        "busca.best_score_\n",
        "\n",
        "Agora temos um conjunto para teste, vamos utilizar o RandomizedSearchCV para hiperparâmetros para melhorar o ajuste de nossos modelos."
      ]
    },
    {
      "cell_type": "code",
      "metadata": {
        "id": "FLO4oDfh1_CI"
      },
      "source": [
        "from scipy.stats import randint\n",
        "\n",
        "hiperparams = { \n",
        "  \"KNeighborsClassifier\" : {\n",
        "    \"n_neighbors\" : randint( 2, 20),\n",
        "    \"weights\" : ['uniform', 'distance'],\n",
        "    \"leaf_size\" : randint(25, 100),\n",
        "    \"metric\" : ['minkowski','wminkowski','euclidean'] },\n",
        "  \"SVC_Linear\" : {\n",
        "    \"kernel\" : \"linear\",\n",
        "    \"gamma\" : [\"scale\",\"auto\"],\n",
        "    \"probabilitybool\" : [True, False],\n",
        "    \"random_state\" : 432432 }\n",
        "}"
      ],
      "execution_count": null,
      "outputs": []
    },
    {
      "cell_type": "code",
      "metadata": {
        "colab": {
          "base_uri": "https://localhost:8080/"
        },
        "id": "u3M80-Am2jWm",
        "outputId": "cf4e7296-bf98-4e1e-8e82-339f9c55daa8"
      },
      "source": [
        "hiperparams[\"KNeighborsClassifier\"]"
      ],
      "execution_count": null,
      "outputs": [
        {
          "output_type": "execute_result",
          "data": {
            "text/plain": [
              "{'leaf_size': <scipy.stats._distn_infrastructure.rv_frozen at 0x7fcc21c9fa90>,\n",
              " 'metric': ['minkowski', 'wminkowski', 'euclidean'],\n",
              " 'n_neighbors': <scipy.stats._distn_infrastructure.rv_frozen at 0x7fcc21c9fa50>,\n",
              " 'weights': ['uniform', 'distance']}"
            ]
          },
          "metadata": {
            "tags": []
          },
          "execution_count": 13
        }
      ]
    },
    {
      "cell_type": "code",
      "metadata": {
        "id": "Wpx2ewekCTsO"
      },
      "source": [
        "from sklearn.model_selection import RandomizedSearchCV\n",
        "\n",
        "def roda_modelo_RandomizedSearchCV(modelo, dados, n_splits, n_repeats, espaco_de_parametros, n_iter):\n",
        "\n",
        "    np.random.seed(1231234)\n",
        "    dados = dados.sample(frac=1).reset_index(drop=True)\n",
        "    x_columns = dados.columns\n",
        "    y = dados[\"ICU\"]\n",
        "    x = dados[x_columns].drop([\"ICU\"], axis=1)\n",
        "\n",
        "\n",
        "    cv = RepeatedStratifiedKFold(n_splits = n_splits, n_repeats=n_repeats)\n",
        "\n",
        "    busca = RandomizedSearchCV(modelo, param_distributions=espaco_de_parametros,\n",
        "                               n_iter = n_iter, cv = cv, \n",
        "                               scoring=['accuracy','roc_auc', 'precision', 'recall', 'f1', 'average_precision'],\n",
        "                               return_train_score=True )\n",
        "    busca.fit(x, y)\n",
        "\n",
        "    resultados = pd.DataFrame(busca.cv_results_)\n",
        "\n",
        "    auc_medio = resultados.iloc[busca.best_index_]['mean_test_score']\n",
        "    auc_medio_treino = resultados.iloc[busca.best_index_]['mean_train_score']\n",
        "    auc_std = resultados.iloc[busca.best_index_]['std_test_score']\n",
        "    print(f'AUC  {auc_medio} - {auc_medio_treino}')\n",
        "    \n",
        "    return busca"
      ],
      "execution_count": null,
      "outputs": []
    },
    {
      "cell_type": "code",
      "metadata": {
        "id": "TWNEK-ycQ5-C"
      },
      "source": [
        "\n",
        "\n",
        "espaco_parametros_et = {\n",
        "    \"n_estimators\" : randint(25, 250),\n",
        "    \"criterion\" : [\"gini\", \"entropy\"],\n",
        "    \"max_depth\" : randint(0, 15),\n",
        "    \"min_samples_split\" : randint(0, 129),\n",
        "    \"min_samples_leaf\" : randint(0, 129),\n",
        "    \"bootstrap\" : [True, False],\n",
        "    \"warm_start\" : [True, False] }"
      ],
      "execution_count": null,
      "outputs": []
    },
    {
      "cell_type": "code",
      "metadata": {
        "colab": {
          "base_uri": "https://localhost:8080/",
          "height": 323
        },
        "id": "_MzxlYFKPldJ",
        "outputId": "9e33cd0b-9448-4838-9895-9462a5cb061f"
      },
      "source": [
        "busca = roda_modelo_RandomizedSearchCV( trained_models.at[9,'Modelo'], dados_raw, 5, 10, espaco_parametros_et, 10)"
      ],
      "execution_count": null,
      "outputs": [
        {
          "output_type": "error",
          "ename": "ValueError",
          "evalue": "ignored",
          "traceback": [
            "\u001b[0;31m---------------------------------------------------------------------------\u001b[0m",
            "\u001b[0;31mValueError\u001b[0m                                Traceback (most recent call last)",
            "\u001b[0;32m<ipython-input-36-7c401d33429c>\u001b[0m in \u001b[0;36m<module>\u001b[0;34m()\u001b[0m\n\u001b[0;32m----> 1\u001b[0;31m \u001b[0mbusca\u001b[0m \u001b[0;34m=\u001b[0m \u001b[0mroda_modelo_RandomizedSearchCV\u001b[0m\u001b[0;34m(\u001b[0m \u001b[0mtrained_models\u001b[0m\u001b[0;34m.\u001b[0m\u001b[0mat\u001b[0m\u001b[0;34m[\u001b[0m\u001b[0;36m9\u001b[0m\u001b[0;34m,\u001b[0m\u001b[0;34m'Modelo'\u001b[0m\u001b[0;34m]\u001b[0m\u001b[0;34m,\u001b[0m \u001b[0mdados_raw\u001b[0m\u001b[0;34m,\u001b[0m \u001b[0;36m5\u001b[0m\u001b[0;34m,\u001b[0m \u001b[0;36m10\u001b[0m\u001b[0;34m,\u001b[0m \u001b[0mespaco_parametros_et\u001b[0m\u001b[0;34m,\u001b[0m \u001b[0;36m10\u001b[0m\u001b[0;34m)\u001b[0m\u001b[0;34m\u001b[0m\u001b[0;34m\u001b[0m\u001b[0m\n\u001b[0m",
            "\u001b[0;32m<ipython-input-34-d952c653c3ed>\u001b[0m in \u001b[0;36mroda_modelo_RandomizedSearchCV\u001b[0;34m(modelo, dados, n_splits, n_repeats, espaco_de_parametros, n_iter)\u001b[0m\n\u001b[1;32m     16\u001b[0m                                \u001b[0mscoring\u001b[0m\u001b[0;34m=\u001b[0m\u001b[0;34m[\u001b[0m\u001b[0;34m'accuracy'\u001b[0m\u001b[0;34m,\u001b[0m\u001b[0;34m'roc_auc'\u001b[0m\u001b[0;34m,\u001b[0m \u001b[0;34m'precision'\u001b[0m\u001b[0;34m,\u001b[0m \u001b[0;34m'recall'\u001b[0m\u001b[0;34m,\u001b[0m \u001b[0;34m'f1'\u001b[0m\u001b[0;34m,\u001b[0m \u001b[0;34m'average_precision'\u001b[0m\u001b[0;34m]\u001b[0m\u001b[0;34m,\u001b[0m\u001b[0;34m\u001b[0m\u001b[0;34m\u001b[0m\u001b[0m\n\u001b[1;32m     17\u001b[0m                                return_train_score=True )\n\u001b[0;32m---> 18\u001b[0;31m     \u001b[0mbusca\u001b[0m\u001b[0;34m.\u001b[0m\u001b[0mfit\u001b[0m\u001b[0;34m(\u001b[0m\u001b[0mx\u001b[0m\u001b[0;34m,\u001b[0m \u001b[0my\u001b[0m\u001b[0;34m)\u001b[0m\u001b[0;34m\u001b[0m\u001b[0;34m\u001b[0m\u001b[0m\n\u001b[0m\u001b[1;32m     19\u001b[0m \u001b[0;34m\u001b[0m\u001b[0m\n\u001b[1;32m     20\u001b[0m     \u001b[0mresultados\u001b[0m \u001b[0;34m=\u001b[0m \u001b[0mpd\u001b[0m\u001b[0;34m.\u001b[0m\u001b[0mDataFrame\u001b[0m\u001b[0;34m(\u001b[0m\u001b[0mbusca\u001b[0m\u001b[0;34m.\u001b[0m\u001b[0mcv_results_\u001b[0m\u001b[0;34m)\u001b[0m\u001b[0;34m\u001b[0m\u001b[0;34m\u001b[0m\u001b[0m\n",
            "\u001b[0;32m/usr/local/lib/python3.7/dist-packages/sklearn/model_selection/_search.py\u001b[0m in \u001b[0;36mfit\u001b[0;34m(self, X, y, groups, **fit_params)\u001b[0m\n\u001b[1;32m    642\u001b[0m                                  \u001b[0;34m\"not needed, refit should be set to \"\u001b[0m\u001b[0;34m\u001b[0m\u001b[0;34m\u001b[0m\u001b[0m\n\u001b[1;32m    643\u001b[0m                                  \u001b[0;34m\"False explicitly. %r was passed.\"\u001b[0m\u001b[0;34m\u001b[0m\u001b[0;34m\u001b[0m\u001b[0m\n\u001b[0;32m--> 644\u001b[0;31m                                  % self.refit)\n\u001b[0m\u001b[1;32m    645\u001b[0m             \u001b[0;32melse\u001b[0m\u001b[0;34m:\u001b[0m\u001b[0;34m\u001b[0m\u001b[0;34m\u001b[0m\u001b[0m\n\u001b[1;32m    646\u001b[0m                 \u001b[0mrefit_metric\u001b[0m \u001b[0;34m=\u001b[0m \u001b[0mself\u001b[0m\u001b[0;34m.\u001b[0m\u001b[0mrefit\u001b[0m\u001b[0;34m\u001b[0m\u001b[0;34m\u001b[0m\u001b[0m\n",
            "\u001b[0;31mValueError\u001b[0m: For multi-metric scoring, the parameter refit must be set to a scorer key or a callable to refit an estimator with the best parameter setting on the whole data and make the best_* attributes available for that metric. If this is not needed, refit should be set to False explicitly. True was passed."
          ]
        }
      ]
    },
    {
      "cell_type": "code",
      "metadata": {
        "id": "iZPXwX8nPlZB"
      },
      "source": [
        "busca.best_params_"
      ],
      "execution_count": null,
      "outputs": []
    },
    {
      "cell_type": "code",
      "metadata": {
        "id": "0bhvS0EvPlI7"
      },
      "source": [
        "busca.best_index_"
      ],
      "execution_count": null,
      "outputs": []
    },
    {
      "cell_type": "code",
      "metadata": {
        "id": "_5zWApANanSH"
      },
      "source": [
        ""
      ],
      "execution_count": null,
      "outputs": []
    },
    {
      "cell_type": "code",
      "metadata": {
        "id": "Jj_t8PI-I5dh"
      },
      "source": [
        "mean_results = {}\n",
        "for x in results:\n",
        "    mean_results[x] = np.mean(results[x])\n",
        "\n",
        "df_result = pd.DataFrame([[name, clf, mean_results['test_accuracy'], mean_results['test_precision'],\n",
        "                           mean_results['test_recall'], mean_results['test_roc_auc'], mean_results['test_f1']]], \n",
        "                          columns=['Nome', 'Modelo', 'Accuracy', 'Precision', 'Recall', 'ROC_auc','F1'])\n"
      ],
      "execution_count": null,
      "outputs": []
    },
    {
      "cell_type": "code",
      "metadata": {
        "id": "9Q6qzQCyIKCO"
      },
      "source": [
        ""
      ],
      "execution_count": null,
      "outputs": []
    },
    {
      "cell_type": "code",
      "metadata": {
        "id": "lxvWsxSEIJ_s"
      },
      "source": [
        ""
      ],
      "execution_count": null,
      "outputs": []
    },
    {
      "cell_type": "code",
      "metadata": {
        "id": "VUdMrgurIJ8g"
      },
      "source": [
        ""
      ],
      "execution_count": null,
      "outputs": []
    },
    {
      "cell_type": "code",
      "metadata": {
        "id": "AH7EcBIsIJ4S"
      },
      "source": [
        ""
      ],
      "execution_count": null,
      "outputs": []
    },
    {
      "cell_type": "code",
      "metadata": {
        "colab": {
          "base_uri": "https://localhost:8080/"
        },
        "id": "stoDuksaDnOW",
        "outputId": "6bd3b633-578f-40ce-c0ff-82ca8346b9ad"
      },
      "source": [
        "trained_models.at[4,'Modelo']"
      ],
      "execution_count": null,
      "outputs": [
        {
          "output_type": "execute_result",
          "data": {
            "text/plain": [
              "DecisionTreeClassifier(ccp_alpha=0.0, class_weight=None, criterion='gini',\n",
              "                       max_depth=5, max_features=None, max_leaf_nodes=None,\n",
              "                       min_impurity_decrease=0.0, min_impurity_split=None,\n",
              "                       min_samples_leaf=1, min_samples_split=2,\n",
              "                       min_weight_fraction_leaf=0.0, presort='deprecated',\n",
              "                       random_state=None, splitter='best')"
            ]
          },
          "metadata": {
            "tags": []
          },
          "execution_count": 34
        }
      ]
    },
    {
      "cell_type": "code",
      "metadata": {
        "colab": {
          "base_uri": "https://localhost:8080/"
        },
        "id": "uLREr9EDBd6A",
        "outputId": "1010dfc2-362b-4b03-a120-cd80327e6cb5"
      },
      "source": [
        "espaco_de_parametros = {\n",
        "    \"max_depth\" : [3, 5],\n",
        "    \"min_samples_split\" : [32, 64, 128],\n",
        "    \"min_samples_leaf\" : [32, 64, 128],\n",
        "    \"criterion\" : [\"gini\", \"entropy\"]\n",
        "}\n",
        "\n",
        "roda_modelo_GridSearchCV(trained_models.at[4,'Modelo'], dados_raw, 5, 10, espaco_de_parametros)"
      ],
      "execution_count": null,
      "outputs": [
        {
          "output_type": "stream",
          "text": [
            "AUC  0.7237089344984082 - 0.8086915602333649\n"
          ],
          "name": "stdout"
        },
        {
          "output_type": "execute_result",
          "data": {
            "text/plain": [
              "(0.7237089344984082, 0.8086915602333649)"
            ]
          },
          "metadata": {
            "tags": []
          },
          "execution_count": 38
        }
      ]
    },
    {
      "cell_type": "code",
      "metadata": {
        "colab": {
          "base_uri": "https://localhost:8080/"
        },
        "id": "S6ikYIqqB4g9",
        "outputId": "fa35a411-3928-4421-bae3-19b4306be081"
      },
      "source": [
        "from scipy.stats import randint\n",
        "\n",
        "espaco_de_parametros = {\n",
        "    \"max_depth\" : randint(3, 6),\n",
        "    \"min_samples_split\" : randint(32, 129),\n",
        "    \"min_samples_leaf\" : randint(32, 129),\n",
        "    \"criterion\" : [\"gini\", \"entropy\"]\n",
        "}\n",
        "\n",
        "roda_modelo_RandomizedSearchCV(trained_models.at[4,'Modelo'], dados_raw, 5, 10, espaco_de_parametros, 5)"
      ],
      "execution_count": null,
      "outputs": [
        {
          "output_type": "stream",
          "text": [
            "AUC  0.7073132154711103 - 0.7867197069660906\n"
          ],
          "name": "stdout"
        },
        {
          "output_type": "execute_result",
          "data": {
            "text/plain": [
              "(0.7073132154711103, 0.7867197069660906)"
            ]
          },
          "metadata": {
            "tags": []
          },
          "execution_count": 39
        }
      ]
    },
    {
      "cell_type": "code",
      "metadata": {
        "colab": {
          "base_uri": "https://localhost:8080/"
        },
        "id": "pDLa_BRlE9Ml",
        "outputId": "a55411f5-e730-4fec-bcf0-01346536b35b"
      },
      "source": [
        "espaco_de_parametros = {\n",
        "    \"n_estimators\" :randint(10, 101),\n",
        "    \"max_depth\" : randint(3, 6),\n",
        "    \"min_samples_split\" : randint(32, 129),\n",
        "    \"min_samples_leaf\" : randint(32, 129),\n",
        "    \"bootstrap\" : [True, False],\n",
        "    \"criterion\" : [\"gini\", \"entropy\"]\n",
        "}\n",
        "\n",
        "roda_modelo_RandomizedSearchCV(trained_models.at[5,'Modelo'], dados_raw, 5, 10, espaco_de_parametros, 5)"
      ],
      "execution_count": null,
      "outputs": [
        {
          "output_type": "stream",
          "text": [
            "AUC  0.7652983810878549 - 0.8594338910189383\n"
          ],
          "name": "stdout"
        },
        {
          "output_type": "execute_result",
          "data": {
            "text/plain": [
              "(0.7652983810878549, 0.8594338910189383)"
            ]
          },
          "metadata": {
            "tags": []
          },
          "execution_count": 40
        }
      ]
    },
    {
      "cell_type": "markdown",
      "metadata": {
        "id": "HzxFR-62s286"
      },
      "source": [
        ""
      ]
    },
    {
      "cell_type": "markdown",
      "metadata": {
        "id": "m5ciAu1ls23y"
      },
      "source": [
        ""
      ]
    },
    {
      "cell_type": "markdown",
      "metadata": {
        "id": "CKFnVanzs21E"
      },
      "source": [
        ""
      ]
    },
    {
      "cell_type": "markdown",
      "metadata": {
        "id": "aBtek3c1s2nX"
      },
      "source": [
        ""
      ]
    },
    {
      "cell_type": "markdown",
      "metadata": {
        "id": "neDh7i_ZlCrw"
      },
      "source": [
        "##DummyClassifier\n",
        "\n",
        "O modelo mais simples de classificação."
      ]
    },
    {
      "cell_type": "code",
      "metadata": {
        "id": "qBmESrRaWlvF"
      },
      "source": [
        "from sklearn.metrics  import accuracy_score, auc, roc_curve, precision_recall_curve, roc_auc_score, precision_score, recall_score, average_precision_score\n",
        "import plotly.express as px"
      ],
      "execution_count": null,
      "outputs": []
    },
    {
      "cell_type": "code",
      "metadata": {
        "id": "gHCo4TBqULLz"
      },
      "source": [
        "def evaluate(model, testing_set_x, testing_set_y):\n",
        "    predictions = model.predict_proba(testing_set_x)\n",
        "    \n",
        "    accuracy  = accuracy_score(testing_set_y, predictions[:,1] >= 0.5)\n",
        "    roc_auc   = roc_auc_score(testing_set_y, predictions[:,1])\n",
        "    precision = precision_score(testing_set_y, predictions[:,1] >= 0.5)\n",
        "    recall    = recall_score(testing_set_y, predictions[:,1] >= 0.5)\n",
        "    pr_auc    = average_precision_score(testing_set_y, predictions[:,1])\n",
        "    \n",
        "    result = pd.DataFrame([[accuracy, precision, recall, roc_auc, pr_auc]], columns=['Accuracy', 'Precision', 'Recall', 'ROC_auc','PR_auc'])\n",
        "    print(classification_report(testing_set_y, predictions[:,1]))\n",
        "    plot_confusion_matrix(model, testing_set_x, testing_set_y)\n",
        "\n",
        "    return(result)"
      ],
      "execution_count": null,
      "outputs": []
    },
    {
      "cell_type": "code",
      "metadata": {
        "id": "BuF7h8BceLSO"
      },
      "source": [
        "x_columns = dados_raw.columns[:-1]\n",
        "x = dados_raw[x_columns] # Entrada\n",
        "y = dados_raw['ICU'] # saida\n",
        "\n",
        "np.random.seed(73246)\n",
        "\n",
        "x_train, x_test, y_train, y_test = train_test_split(x, y, stratify=y)"
      ],
      "execution_count": null,
      "outputs": []
    },
    {
      "cell_type": "code",
      "metadata": {
        "colab": {
          "base_uri": "https://localhost:8080/",
          "height": 720
        },
        "id": "TzqvWxF2qVmK",
        "outputId": "270f9ea6-92a5-47cf-83cc-b5b12d890c2f"
      },
      "source": [
        "modelo_dummy = DummyClassifier()\n",
        "modelo_dummy.fit(x_train, y_train)\n",
        "\n",
        "evaluate(modelo_dummy, x_test, y_test)"
      ],
      "execution_count": null,
      "outputs": [
        {
          "output_type": "stream",
          "text": [
            "              precision    recall  f1-score   support\n",
            "\n",
            "           0       0.72      0.65      0.68        48\n",
            "           1       0.45      0.54      0.49        26\n",
            "\n",
            "    accuracy                           0.61        74\n",
            "   macro avg       0.59      0.59      0.59        74\n",
            "weighted avg       0.63      0.61      0.61        74\n",
            "\n"
          ],
          "name": "stdout"
        },
        {
          "output_type": "execute_result",
          "data": {
            "text/html": [
              "<div>\n",
              "<style scoped>\n",
              "    .dataframe tbody tr th:only-of-type {\n",
              "        vertical-align: middle;\n",
              "    }\n",
              "\n",
              "    .dataframe tbody tr th {\n",
              "        vertical-align: top;\n",
              "    }\n",
              "\n",
              "    .dataframe thead th {\n",
              "        text-align: right;\n",
              "    }\n",
              "</style>\n",
              "<table border=\"1\" class=\"dataframe\">\n",
              "  <thead>\n",
              "    <tr style=\"text-align: right;\">\n",
              "      <th></th>\n",
              "      <th>Accuracy</th>\n",
              "      <th>Precision</th>\n",
              "      <th>Recall</th>\n",
              "      <th>ROC_auc</th>\n",
              "      <th>PR_auc</th>\n",
              "    </tr>\n",
              "  </thead>\n",
              "  <tbody>\n",
              "    <tr>\n",
              "      <th>0</th>\n",
              "      <td>0.540541</td>\n",
              "      <td>0.366667</td>\n",
              "      <td>0.423077</td>\n",
              "      <td>0.513622</td>\n",
              "      <td>0.357831</td>\n",
              "    </tr>\n",
              "  </tbody>\n",
              "</table>\n",
              "</div>"
            ],
            "text/plain": [
              "   Accuracy  Precision   Recall  ROC_auc   PR_auc\n",
              "0  0.540541   0.366667 0.423077 0.513622 0.357831"
            ]
          },
          "metadata": {
            "tags": []
          },
          "execution_count": 54
        },
        {
          "output_type": "display_data",
          "data": {
            "image/png": "[encoded data removed]",
            "text/plain": [
              "<Figure size 1152x576 with 2 Axes>"
            ]
          },
          "metadata": {
            "tags": []
          }
        }
      ]
    },
    {
      "cell_type": "code",
      "metadata": {
        "id": "60_lr27kfQme"
      },
      "source": [
        " predicao = modelo_dummy.predict(x_test)\n",
        " prob_predic = modelo_dummy.predict_proba(x_test)"
      ],
      "execution_count": null,
      "outputs": []
    },
    {
      "cell_type": "code",
      "metadata": {
        "colab": {
          "base_uri": "https://localhost:8080/"
        },
        "id": "z77nRJlQzkJP",
        "outputId": "66aa3290-1efa-4a96-99cf-bd66adf7d7b0"
      },
      "source": [
        "predicao"
      ],
      "execution_count": null,
      "outputs": [
        {
          "output_type": "execute_result",
          "data": {
            "text/plain": [
              "array([0, 1, 0, 1, 0, 0, 0, 0, 1, 0, 0, 0, 1, 1, 1, 0, 1, 1, 0, 0, 0, 0,\n",
              "       0, 0, 0, 1, 0, 0, 0, 0, 0, 0, 1, 0, 0, 1, 0, 1, 0, 1, 0, 0, 0, 1,\n",
              "       1, 0, 0, 0, 0, 1, 1, 0, 0, 1, 1, 0, 0, 0, 0, 0, 0, 0, 0, 1, 1, 1,\n",
              "       1, 1, 1, 1, 0, 1, 0, 0])"
            ]
          },
          "metadata": {
            "tags": []
          },
          "execution_count": 72
        }
      ]
    },
    {
      "cell_type": "code",
      "metadata": {
        "colab": {
          "base_uri": "https://localhost:8080/"
        },
        "id": "X-8hCLIG0Beg",
        "outputId": "426e6aa4-29cb-4069-8573-64789a9e8914"
      },
      "source": [
        "prob_predic[:,1] >= 0.5"
      ],
      "execution_count": null,
      "outputs": [
        {
          "output_type": "execute_result",
          "data": {
            "text/plain": [
              "array([False, False, False, False, False, False, False,  True, False,\n",
              "       False,  True, False, False, False, False,  True,  True, False,\n",
              "       False, False,  True, False,  True, False, False, False, False,\n",
              "        True, False, False, False,  True, False,  True, False, False,\n",
              "       False,  True, False,  True, False, False, False, False, False,\n",
              "        True, False,  True, False, False,  True, False, False, False,\n",
              "       False, False,  True, False, False, False, False, False, False,\n",
              "       False, False, False,  True,  True,  True,  True,  True,  True,\n",
              "       False, False])"
            ]
          },
          "metadata": {
            "tags": []
          },
          "execution_count": 75
        }
      ]
    },
    {
      "cell_type": "code",
      "metadata": {
        "id": "LAp06AgZ0eKK"
      },
      "source": [
        "modelo = LogisticRegression(max_iter=2000)\n",
        "modelo_arvore = DecisionTreeClassifier()\n",
        "modelo_logregCV = LogisticRegressionCV(max_iter=10000)\n",
        "modelo_random_arvore = RandomForestClassifier(max_depth=i)"
      ],
      "execution_count": null,
      "outputs": []
    },
    {
      "cell_type": "code",
      "metadata": {
        "id": "UxWaz7p3aLYy"
      },
      "source": [
        "plot_confusion_matrix(modelo_arvore, x_test, y_test)\n",
        "print(classification_report(y_test, predicao_arvore))\n",
        "cross_validate( modelo_logreg, x, y, cv=3)"
      ],
      "execution_count": null,
      "outputs": []
    },
    {
      "cell_type": "markdown",
      "metadata": {
        "id": "f03Ps9ZwaLS_"
      },
      "source": [
        ""
      ]
    },
    {
      "cell_type": "markdown",
      "metadata": {
        "id": "htPuenNMaLE9"
      },
      "source": [
        ""
      ]
    },
    {
      "cell_type": "code",
      "metadata": {
        "id": "H_dg-GPPaK9b"
      },
      "source": [
        "def plot_confusion_matrix_for_models(names, classifiers, nrows, ncols):\n",
        "    np.random.seed(73246)\n",
        "    fig, axes = plt.subplots(nrows=nrows, ncols=ncols, figsize=(12, 16))\n",
        "    axis = []\n",
        "    for ax in axes:\n",
        "        axis.extend(ax)\n",
        "    axes_ind = 0\n",
        "    trained_models = []\n",
        "    for name, clf in zip(names, classifiers):\n",
        "        clf.fit(x_train, y_train)\n",
        "        trained_models.append(clf)\n",
        "        disp = plot_confusion_matrix(clf, x_test, y_test, ax=axis[axes_ind])\n",
        "        cv = RepeatedStratifiedKFold(n_splits=5, n_repeats=10)\n",
        "        results = cross_validate(clf, x, y, cv=cv, scoring='roc_auc', return_train_score=True)\n",
        "        auc_medio = np.mean(results['test_score'])\n",
        "        axis[axes_ind].set_title(f'{name}, AUC = {auc_medio:.3f}')\n",
        "        disp.im_.set_clim(0, 50)\n",
        "        axes_ind += 1\n",
        "    plt.show()\n",
        "    for ax in axis[len(names):]:\n",
        "        ax.set_visible(False)\n",
        "        fig.delaxes(ax)\n",
        "    return trained_models\n"
      ],
      "execution_count": null,
      "outputs": []
    },
    {
      "cell_type": "code",
      "metadata": {
        "colab": {
          "base_uri": "https://localhost:8080/",
          "height": 1000
        },
        "id": "C3fiZczuTHC0",
        "outputId": "00514344-6d72-4e2d-f6f9-c67433d1ab10"
      },
      "source": [
        "plot_confusion_matrix_for_models(names, classifiers, 4, 3)"
      ],
      "execution_count": null,
      "outputs": [
        {
          "output_type": "display_data",
          "data": {
            "image/png": "[encoded data removed]",
            "text/plain": [
              "<Figure size 864x1152 with 23 Axes>"
            ]
          },
          "metadata": {
            "tags": []
          }
        },
        {
          "output_type": "execute_result",
          "data": {
            "text/plain": [
              "[KNeighborsClassifier(algorithm='auto', leaf_size=30, metric='minkowski',\n",
              "                      metric_params=None, n_jobs=None, n_neighbors=3, p=2,\n",
              "                      weights='uniform'),\n",
              " SVC(C=0.025, break_ties=False, cache_size=200, class_weight=None, coef0=0.0,\n",
              "     decision_function_shape='ovr', degree=3, gamma='scale', kernel='linear',\n",
              "     max_iter=-1, probability=False, random_state=None, shrinking=True,\n",
              "     tol=0.001, verbose=False),\n",
              " SVC(C=1, break_ties=False, cache_size=200, class_weight=None, coef0=0.0,\n",
              "     decision_function_shape='ovr', degree=3, gamma=2, kernel='rbf', max_iter=-1,\n",
              "     probability=False, random_state=None, shrinking=True, tol=0.001,\n",
              "     verbose=False),\n",
              " GaussianProcessClassifier(copy_X_train=True, kernel=1**2 * RBF(length_scale=1),\n",
              "                           max_iter_predict=100, multi_class='one_vs_rest',\n",
              "                           n_jobs=None, n_restarts_optimizer=0,\n",
              "                           optimizer='fmin_l_bfgs_b', random_state=None,\n",
              "                           warm_start=False),\n",
              " DecisionTreeClassifier(ccp_alpha=0.0, class_weight=None, criterion='gini',\n",
              "                        max_depth=5, max_features=None, max_leaf_nodes=None,\n",
              "                        min_impurity_decrease=0.0, min_impurity_split=None,\n",
              "                        min_samples_leaf=1, min_samples_split=2,\n",
              "                        min_weight_fraction_leaf=0.0, presort='deprecated',\n",
              "                        random_state=None, splitter='best'),\n",
              " RandomForestClassifier(bootstrap=True, ccp_alpha=0.0, class_weight=None,\n",
              "                        criterion='gini', max_depth=None, max_features='auto',\n",
              "                        max_leaf_nodes=None, max_samples=None,\n",
              "                        min_impurity_decrease=0.0, min_impurity_split=None,\n",
              "                        min_samples_leaf=1, min_samples_split=2,\n",
              "                        min_weight_fraction_leaf=0.0, n_estimators=100,\n",
              "                        n_jobs=None, oob_score=False, random_state=None,\n",
              "                        verbose=0, warm_start=False),\n",
              " MLPClassifier(activation='relu', alpha=1, batch_size='auto', beta_1=0.9,\n",
              "               beta_2=0.999, early_stopping=False, epsilon=1e-08,\n",
              "               hidden_layer_sizes=(100,), learning_rate='constant',\n",
              "               learning_rate_init=0.001, max_fun=15000, max_iter=1000,\n",
              "               momentum=0.9, n_iter_no_change=10, nesterovs_momentum=True,\n",
              "               power_t=0.5, random_state=None, shuffle=True, solver='adam',\n",
              "               tol=0.0001, validation_fraction=0.1, verbose=False,\n",
              "               warm_start=False),\n",
              " AdaBoostClassifier(algorithm='SAMME.R', base_estimator=None, learning_rate=1.0,\n",
              "                    n_estimators=50, random_state=None),\n",
              " GaussianNB(priors=None, var_smoothing=1e-09),\n",
              " QuadraticDiscriminantAnalysis(priors=None, reg_param=0.0,\n",
              "                               store_covariance=False, tol=0.0001),\n",
              " GradientBoostingClassifier(ccp_alpha=0.0, criterion='friedman_mse', init=None,\n",
              "                            learning_rate=0.5, loss='deviance', max_depth=8,\n",
              "                            max_features=0.4, max_leaf_nodes=None,\n",
              "                            min_impurity_decrease=0.0, min_impurity_split=None,\n",
              "                            min_samples_leaf=3, min_samples_split=17,\n",
              "                            min_weight_fraction_leaf=0.0, n_estimators=100,\n",
              "                            n_iter_no_change=None, presort='deprecated',\n",
              "                            random_state=None, subsample=1.0, tol=0.0001,\n",
              "                            validation_fraction=0.1, verbose=0,\n",
              "                            warm_start=False)]"
            ]
          },
          "metadata": {
            "tags": []
          },
          "execution_count": 68
        }
      ]
    },
    {
      "cell_type": "markdown",
      "metadata": {
        "id": "O34p47TIaKx0"
      },
      "source": [
        ""
      ]
    },
    {
      "cell_type": "code",
      "metadata": {
        "id": "TwpvaWMm9aYO"
      },
      "source": [
        "dados_temp = dados_raw.sample(frac=1).reset_index(drop=True)\n",
        "\n",
        "x_columns = dados_temp.columns\n",
        "y = dados_temp['ICU']\n",
        "x = dados_temp[x_columns].drop([\"ICU\"], axis=1)\n",
        "\n",
        "cv = RepeatedStratifiedKFold(n_splits=5, n_repeats=10)"
      ],
      "execution_count": null,
      "outputs": []
    },
    {
      "cell_type": "code",
      "metadata": {
        "id": "CcebcV3P-snz"
      },
      "source": [
        "modelo_arvore = RandomForestClassifier(n_estimators=100, max_depth=3)\n",
        "resultados = cross_validate(modelo_arvore, x, y, cv=cv, scoring=['accuracy','roc_auc', 'precision', 'recall', 'average_precision'], return_train_score=True)"
      ],
      "execution_count": null,
      "outputs": []
    },
    {
      "cell_type": "code",
      "metadata": {
        "id": "H7uqS2GGBTvO"
      },
      "source": [
        "resultados2 = cross_validate(modelo_arvore, x, y, cv=cv, scoring='roc_auc', return_train_score=True)"
      ],
      "execution_count": null,
      "outputs": []
    },
    {
      "cell_type": "code",
      "metadata": {
        "id": "0-ejjlDx9aOi"
      },
      "source": [
        ""
      ],
      "execution_count": null,
      "outputs": []
    },
    {
      "cell_type": "code",
      "metadata": {
        "id": "GvnW4Oeg9aMf"
      },
      "source": [
        ""
      ],
      "execution_count": null,
      "outputs": []
    },
    {
      "cell_type": "code",
      "metadata": {
        "id": "o9-cszDJ9aKW"
      },
      "source": [
        ""
      ],
      "execution_count": null,
      "outputs": []
    },
    {
      "cell_type": "code",
      "metadata": {
        "id": "zqkUNGtx9aIM"
      },
      "source": [
        ""
      ],
      "execution_count": null,
      "outputs": []
    },
    {
      "cell_type": "code",
      "metadata": {
        "id": "vjlNBlHH9aGF"
      },
      "source": [
        ""
      ],
      "execution_count": null,
      "outputs": []
    },
    {
      "cell_type": "code",
      "metadata": {
        "id": "ZU7qaL7v9aDf"
      },
      "source": [
        ""
      ],
      "execution_count": null,
      "outputs": []
    },
    {
      "cell_type": "markdown",
      "metadata": {
        "id": "-OherF6-uK29"
      },
      "source": [
        "# Salvando nosso modelo\n",
        "\n",
        "### pickle (https://docs.python.org/3/library/pickle.html)\n",
        "\n",
        "<p style='font-size: 20px; line-height: 2; margin: 10px 50px; text-align: justify;'>O módulo <b>pickle</b> implementa protocolos binários para serializar e desserializar a estrutura de um objeto Python.</p>\n"
      ]
    },
    {
      "cell_type": "code",
      "metadata": {
        "id": "PzB0Q_qnuM_T"
      },
      "source": [
        "import pickle"
      ],
      "execution_count": null,
      "outputs": []
    },
    {
      "cell_type": "code",
      "metadata": {
        "id": "cewN3jCrudR5"
      },
      "source": [
        "output = open('/content/modelo_hsl', 'wb')\n",
        "pickle.dump(modelo, output)\n",
        "output.close()"
      ],
      "execution_count": null,
      "outputs": []
    },
    {
      "cell_type": "markdown",
      "metadata": {
        "id": "v8LcxPH2mIGF"
      },
      "source": [
        "# Conclusão\n",
        "\n",
        "---\n",
        "\n"
      ]
    },
    {
      "cell_type": "markdown",
      "metadata": {
        "id": "GyaaFTZeb4sg"
      },
      "source": [
        "## Sugestão de Estudo\n",
        "\n",
        "* Desenvolver um modelo para analisar os casos de óbitos e aplicar o modelo desenvolvido nas cidades do Estado."
      ]
    },
    {
      "cell_type": "markdown",
      "metadata": {
        "id": "9jOSEuoS0hTY"
      },
      "source": [
        "# Referências\n",
        "\n",
        "\n",
        "https://docs.microsoft.com/pt-br/azure/machine-learning/how-to-understand-automated-ml\n",
        "\n",
        "https://docs.microsoft.com/pt-br/azure/machine-learning/how-to-configure-auto-train\n",
        "\n",
        "https://medium.com/data-hackers/matriz-de-confus%C3%A3o-e-auc-roc-f7e446dca107\n"
      ]
    }
  ]
}