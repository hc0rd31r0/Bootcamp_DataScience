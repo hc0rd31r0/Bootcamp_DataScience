{
  "nbformat": 4,
  "nbformat_minor": 0,
  "metadata": {
    "colab": {
      "name": "Bootcamp_DataScience_projeto_final.ipynb",
      "provenance": [],
      "collapsed_sections": [],
      "toc_visible": true,
      "mount_file_id": "10nLqve7KrZpstIeUCNCQa_T6JK7cHh6L",
      "authorship_tag": "ABX9TyPHTXQCHnR5mQYSQRdecFSU",
      "include_colab_link": true
    },
    "kernelspec": {
      "name": "python3",
      "display_name": "Python 3"
    },
    "language_info": {
      "name": "python"
    }
  },
  "cells": [
    {
      "cell_type": "markdown",
      "metadata": {
        "id": "view-in-github",
        "colab_type": "text"
      },
      "source": [
        "<a href=\"https://colab.research.google.com/github/hc0rd31r0/Bootcamp_Data_Science/blob/main/Bootcamp_DataScience_projeto_final.ipynb\" target=\"_parent\"><img src=\"https://colab.research.google.com/assets/colab-badge.svg\" alt=\"Open In Colab\"/></a>"
      ]
    },
    {
      "cell_type": "markdown",
      "metadata": {
        "id": "7_MRx0ZTNvi4"
      },
      "source": [
        "#Projeto Final de Conclusão de Curso\n",
        "###Bootcamp Data Science Aplicada 2 by [Alura](https://www.alura.com.br/) \n",
        "####Autor: Helton Cordeiro\n",
        "e-mail: heltoncordeiro@gmail.com"
      ]
    },
    {
      "cell_type": "markdown",
      "metadata": {
        "id": "OQT6AvZYcFpH"
      },
      "source": [
        "\n",
        "---\n",
        "\n",
        "# **Objetivo do projeto**\n",
        "\n",
        "#### **Prever** quais pacientes precisarão ser admitidos(as) na UTI e com isso **definir** qual a necessidade de leitos de UTI do hospital, a partir dos dados clínicos individuais disponíveis.\n",
        "\n",
        "---"
      ]
    },
    {
      "cell_type": "markdown",
      "metadata": {
        "id": "MM1e59jTIpHI"
      },
      "source": [
        "* Informação demográfica - 3 variáveis\n",
        "* Doenças pré-existens - 9 variáveis\n",
        "* Resultados de exames de sangue - 36 variáveis\n",
        "* Sinais vitais - 6 variáveis"
      ]
    },
    {
      "cell_type": "markdown",
      "metadata": {
        "id": "YzUZHlJsPLwu"
      },
      "source": [
        "\n",
        "---\n",
        "\n",
        "\n",
        "* RESUMO\n",
        "\n",
        "Ideia do trabalho e principais resultados\n",
        "\n",
        "* INTRODUÇÃO\n",
        "\n",
        "Introdução sobre o problema (Kaggle) mas com suas palavras.\n",
        "\n",
        "\n",
        "* Organização\n",
        "\n",
        "Estrutura, seção de funções, seção de imports bem documentada. O projeto é para ficar no portfolio e para que outras pessoas possam aprender.\n",
        "\n",
        "* Sequência lógica e linha de raciocínio desenvolvida\n",
        "\n",
        "\n",
        "\n",
        "---\n",
        "\n"
      ]
    },
    {
      "cell_type": "markdown",
      "metadata": {
        "id": "IW283FjLA5r7"
      },
      "source": [
        "## Entendendo o Problema e Iniciando no Kaggle\n"
      ]
    },
    {
      "cell_type": "markdown",
      "metadata": {
        "id": "WuADLQLNws8Q"
      },
      "source": [
        "\n",
        "[Kaggle](https://www.kaggle.com) \n",
        "* Crie uma conta e conheça o ambiente do Kaggle, permite também a criação de notebooks.\n",
        "\n",
        "Fonte de Dados para estudo\n",
        "\n",
        "url: https://www.kaggle.com/S%C3%ADrio-Libanes/covid19\n",
        "\n",
        "\n"
      ]
    },
    {
      "cell_type": "markdown",
      "metadata": {
        "id": "XuOxw9yElGZ9"
      },
      "source": [
        "##Importação de bibliotecas"
      ]
    },
    {
      "cell_type": "code",
      "metadata": {
        "id": "a2BpIgxxb0i0"
      },
      "source": [
        "import pandas as pd\n",
        "import numpy as np\n",
        "import seaborn as sns\n",
        "\n",
        "import matplotlib as mpl\n",
        "import matplotlib.pyplot as plt\n",
        "import matplotlib.ticker as ticker\n",
        "import matplotlib.dates  as mdates\n",
        "\n",
        "import datetime as dt\n",
        "import warnings\n",
        "warnings.simplefilter(action='ignore')\n",
        "\n",
        "from pandas.plotting import autocorrelation_plot\n",
        "\n",
        "from fbprophet import Prophet\n",
        "from fbprophet.diagnostics import cross_validation, performance_metrics\n",
        "from fbprophet.plot import plot_plotly, plot_components_plotly, add_changepoints_to_plot, plot_cross_validation_metric\n",
        "\n",
        "from sklearn.metrics import mean_absolute_error\n",
        "import logging"
      ],
      "execution_count": null,
      "outputs": []
    },
    {
      "cell_type": "markdown",
      "metadata": {
        "id": "xYZouHquJ5t1"
      },
      "source": [
        "## Configurações iniciais"
      ]
    },
    {
      "cell_type": "code",
      "metadata": {
        "id": "UgVACZH3OdZq"
      },
      "source": [
        "logging.getLogger('fbprophet').setLevel(logging.WARNING)\n",
        "pd.options.display.float_format = \"{:,.2f}\".format\n",
        "sns.set()\n",
        "sns.set_style(\"ticks\")\n",
        "\n",
        "mpl.rcParams['figure.figsize']= (16,8)\n",
        "mpl.rcParams['figure.titlesize']= 18\n",
        "mpl.rcParams['figure.titleweight']= 'bold'\n",
        "mpl.rcParams['axes.labelsize']= 16\n",
        "mpl.rcParams['axes.titlesize']= 18\n",
        "mpl.rcParams['axes.titleweight']= 'bold'\n",
        "mpl.rcParams['xtick.labelsize']= 11\n",
        "mpl.rcParams['ytick.labelsize']= 11\n",
        "mpl.rcParams['legend.fontsize']= 'large'\n",
        "mpl.rcParams['date.autoformatter.day']= '%d/%m/%Y'\n",
        "mpl.rcParams['grid.color']='grey'\n",
        "mpl.rcParams['grid.linestyle']= '--'\n",
        "mpl.rcParams['grid.linewidth']= 0.5"
      ],
      "execution_count": null,
      "outputs": []
    },
    {
      "cell_type": "markdown",
      "metadata": {
        "id": "r_ZqCvzS-neO"
      },
      "source": [
        "## Análise Exploratório\n",
        "Utilizando o Colab a fonte de dados está congelada no dia da obtenção: 06/07/2021.\n",
        "\n",
        "Vamos ver o que temos no DataFrame:"
      ]
    },
    {
      "cell_type": "markdown",
      "metadata": {
        "id": "92lMw8dolouY"
      },
      "source": [
        "### Realizando a carga de dados"
      ]
    },
    {
      "cell_type": "code",
      "metadata": {
        "id": "qhd3XQ_RfYQl"
      },
      "source": [
        "#url onde está a nossa base de dados\n",
        "url = 'https://github.com/hc0rd31r0/Bootcamp_Data_Science/blob/main/dados/sirio-libanes/Kaggle_Sirio_Libanes_ICU_Prediction.xlsx?raw=true'\n",
        "\n",
        "#carrego as informações para a variável dados (a base está no formato csv mas em um arquivo zipado)\n",
        "dados_raw = pd.read_excel(url, thousands=\".\")\n",
        "dados = dados_raw.copy()"
      ],
      "execution_count": null,
      "outputs": []
    },
    {
      "cell_type": "markdown",
      "metadata": {
        "id": "-U01Oq5oKGk2"
      },
      "source": [
        "### Informações sobre a base de dados"
      ]
    },
    {
      "cell_type": "code",
      "metadata": {
        "colab": {
          "base_uri": "https://localhost:8080/",
          "height": 870
        },
        "id": "zA6jIYLaNiAl",
        "outputId": "1fc3ff46-75c9-4ae2-c2e2-fb1c8fa2f4c2"
      },
      "source": [
        "display(dados_raw.shape)\n",
        "display(print(40*\"--x\"))\n",
        "display(dados_raw.info())\n",
        "display(print(40*\"--x\"))\n",
        "display(dados_raw.head())\n",
        "display(print(40*\"--x\"))"
      ],
      "execution_count": null,
      "outputs": [
        {
          "output_type": "display_data",
          "data": {
            "text/plain": [
              "(2331712, 18)"
            ]
          },
          "metadata": {
            "tags": []
          }
        },
        {
          "output_type": "stream",
          "text": [
            "--x--x--x--x--x--x--x--x--x--x--x--x--x--x--x--x--x--x--x--x--x--x--x--x--x--x--x--x--x--x--x--x--x--x--x--x--x--x--x--x\n"
          ],
          "name": "stdout"
        },
        {
          "output_type": "display_data",
          "data": {
            "text/plain": [
              "None"
            ]
          },
          "metadata": {
            "tags": []
          }
        },
        {
          "output_type": "stream",
          "text": [
            "<class 'pandas.core.frame.DataFrame'>\n",
            "RangeIndex: 2331712 entries, 0 to 2331711\n",
            "Data columns (total 18 columns):\n",
            " #   Column                                         Dtype  \n",
            "---  ------                                         -----  \n",
            " 0   city                                           object \n",
            " 1   city_ibge_code                                 float64\n",
            " 2   date                                           object \n",
            " 3   epidemiological_week                           int64  \n",
            " 4   estimated_population                           float64\n",
            " 5   estimated_population_2019                      float64\n",
            " 6   is_last                                        bool   \n",
            " 7   is_repeated                                    bool   \n",
            " 8   last_available_confirmed                       int64  \n",
            " 9   last_available_confirmed_per_100k_inhabitants  float64\n",
            " 10  last_available_date                            object \n",
            " 11  last_available_death_rate                      int64  \n",
            " 12  last_available_deaths                          int64  \n",
            " 13  order_for_place                                int64  \n",
            " 14  place_type                                     object \n",
            " 15  state                                          object \n",
            " 16  new_confirmed                                  int64  \n",
            " 17  new_deaths                                     int64  \n",
            "dtypes: bool(2), float64(4), int64(7), object(5)\n",
            "memory usage: 289.1+ MB\n"
          ],
          "name": "stdout"
        },
        {
          "output_type": "display_data",
          "data": {
            "text/plain": [
              "None"
            ]
          },
          "metadata": {
            "tags": []
          }
        },
        {
          "output_type": "stream",
          "text": [
            "--x--x--x--x--x--x--x--x--x--x--x--x--x--x--x--x--x--x--x--x--x--x--x--x--x--x--x--x--x--x--x--x--x--x--x--x--x--x--x--x\n"
          ],
          "name": "stdout"
        },
        {
          "output_type": "display_data",
          "data": {
            "text/plain": [
              "None"
            ]
          },
          "metadata": {
            "tags": []
          }
        },
        {
          "output_type": "display_data",
          "data": {
            "text/html": [
              "<div>\n",
              "<style scoped>\n",
              "    .dataframe tbody tr th:only-of-type {\n",
              "        vertical-align: middle;\n",
              "    }\n",
              "\n",
              "    .dataframe tbody tr th {\n",
              "        vertical-align: top;\n",
              "    }\n",
              "\n",
              "    .dataframe thead th {\n",
              "        text-align: right;\n",
              "    }\n",
              "</style>\n",
              "<table border=\"1\" class=\"dataframe\">\n",
              "  <thead>\n",
              "    <tr style=\"text-align: right;\">\n",
              "      <th></th>\n",
              "      <th>city</th>\n",
              "      <th>city_ibge_code</th>\n",
              "      <th>date</th>\n",
              "      <th>epidemiological_week</th>\n",
              "      <th>estimated_population</th>\n",
              "      <th>estimated_population_2019</th>\n",
              "      <th>is_last</th>\n",
              "      <th>is_repeated</th>\n",
              "      <th>last_available_confirmed</th>\n",
              "      <th>last_available_confirmed_per_100k_inhabitants</th>\n",
              "      <th>last_available_date</th>\n",
              "      <th>last_available_death_rate</th>\n",
              "      <th>last_available_deaths</th>\n",
              "      <th>order_for_place</th>\n",
              "      <th>place_type</th>\n",
              "      <th>state</th>\n",
              "      <th>new_confirmed</th>\n",
              "      <th>new_deaths</th>\n",
              "    </tr>\n",
              "  </thead>\n",
              "  <tbody>\n",
              "    <tr>\n",
              "      <th>0</th>\n",
              "      <td>Rio Branco</td>\n",
              "      <td>1,200,401.00</td>\n",
              "      <td>2020-03-17</td>\n",
              "      <td>202012</td>\n",
              "      <td>413,418.00</td>\n",
              "      <td>407,319.00</td>\n",
              "      <td>False</td>\n",
              "      <td>False</td>\n",
              "      <td>3</td>\n",
              "      <td>72,566.00</td>\n",
              "      <td>2020-03-17</td>\n",
              "      <td>0</td>\n",
              "      <td>0</td>\n",
              "      <td>1</td>\n",
              "      <td>city</td>\n",
              "      <td>AC</td>\n",
              "      <td>3</td>\n",
              "      <td>0</td>\n",
              "    </tr>\n",
              "    <tr>\n",
              "      <th>1</th>\n",
              "      <td>NaN</td>\n",
              "      <td>12.00</td>\n",
              "      <td>2020-03-17</td>\n",
              "      <td>202012</td>\n",
              "      <td>894,470.00</td>\n",
              "      <td>881,935.00</td>\n",
              "      <td>False</td>\n",
              "      <td>False</td>\n",
              "      <td>3</td>\n",
              "      <td>33,539.00</td>\n",
              "      <td>2020-03-17</td>\n",
              "      <td>0</td>\n",
              "      <td>0</td>\n",
              "      <td>1</td>\n",
              "      <td>state</td>\n",
              "      <td>AC</td>\n",
              "      <td>3</td>\n",
              "      <td>0</td>\n",
              "    </tr>\n",
              "    <tr>\n",
              "      <th>2</th>\n",
              "      <td>Rio Branco</td>\n",
              "      <td>1,200,401.00</td>\n",
              "      <td>2020-03-18</td>\n",
              "      <td>202012</td>\n",
              "      <td>413,418.00</td>\n",
              "      <td>407,319.00</td>\n",
              "      <td>False</td>\n",
              "      <td>False</td>\n",
              "      <td>3</td>\n",
              "      <td>72,566.00</td>\n",
              "      <td>2020-03-18</td>\n",
              "      <td>0</td>\n",
              "      <td>0</td>\n",
              "      <td>2</td>\n",
              "      <td>city</td>\n",
              "      <td>AC</td>\n",
              "      <td>0</td>\n",
              "      <td>0</td>\n",
              "    </tr>\n",
              "    <tr>\n",
              "      <th>3</th>\n",
              "      <td>NaN</td>\n",
              "      <td>12.00</td>\n",
              "      <td>2020-03-18</td>\n",
              "      <td>202012</td>\n",
              "      <td>894,470.00</td>\n",
              "      <td>881,935.00</td>\n",
              "      <td>False</td>\n",
              "      <td>False</td>\n",
              "      <td>3</td>\n",
              "      <td>33,539.00</td>\n",
              "      <td>2020-03-18</td>\n",
              "      <td>0</td>\n",
              "      <td>0</td>\n",
              "      <td>2</td>\n",
              "      <td>state</td>\n",
              "      <td>AC</td>\n",
              "      <td>0</td>\n",
              "      <td>0</td>\n",
              "    </tr>\n",
              "    <tr>\n",
              "      <th>4</th>\n",
              "      <td>Rio Branco</td>\n",
              "      <td>1,200,401.00</td>\n",
              "      <td>2020-03-19</td>\n",
              "      <td>202012</td>\n",
              "      <td>413,418.00</td>\n",
              "      <td>407,319.00</td>\n",
              "      <td>False</td>\n",
              "      <td>False</td>\n",
              "      <td>4</td>\n",
              "      <td>96,754.00</td>\n",
              "      <td>2020-03-19</td>\n",
              "      <td>0</td>\n",
              "      <td>0</td>\n",
              "      <td>3</td>\n",
              "      <td>city</td>\n",
              "      <td>AC</td>\n",
              "      <td>1</td>\n",
              "      <td>0</td>\n",
              "    </tr>\n",
              "  </tbody>\n",
              "</table>\n",
              "</div>"
            ],
            "text/plain": [
              "         city  city_ibge_code        date  ...  state  new_confirmed  new_deaths\n",
              "0  Rio Branco    1,200,401.00  2020-03-17  ...     AC              3           0\n",
              "1         NaN           12.00  2020-03-17  ...     AC              3           0\n",
              "2  Rio Branco    1,200,401.00  2020-03-18  ...     AC              0           0\n",
              "3         NaN           12.00  2020-03-18  ...     AC              0           0\n",
              "4  Rio Branco    1,200,401.00  2020-03-19  ...     AC              1           0\n",
              "\n",
              "[5 rows x 18 columns]"
            ]
          },
          "metadata": {
            "tags": []
          }
        },
        {
          "output_type": "stream",
          "text": [
            "--x--x--x--x--x--x--x--x--x--x--x--x--x--x--x--x--x--x--x--x--x--x--x--x--x--x--x--x--x--x--x--x--x--x--x--x--x--x--x--x\n"
          ],
          "name": "stdout"
        },
        {
          "output_type": "display_data",
          "data": {
            "text/plain": [
              "None"
            ]
          },
          "metadata": {
            "tags": []
          }
        }
      ]
    },
    {
      "cell_type": "markdown",
      "metadata": {
        "id": "VZp-yPhK6gIy"
      },
      "source": [
        "### Adicionando informações de região e ajustando o campo data"
      ]
    },
    {
      "cell_type": "code",
      "metadata": {
        "id": "LAp06AgZ0eKK"
      },
      "source": [
        "dados_full = casos_full_raw.copy()"
      ],
      "execution_count": null,
      "outputs": []
    },
    {
      "cell_type": "markdown",
      "metadata": {
        "id": "myIfe_tnLGX-"
      },
      "source": [
        "###Verificando os repetidos e zerados"
      ]
    },
    {
      "cell_type": "markdown",
      "metadata": {
        "id": "lfvjRxsq91TI"
      },
      "source": [
        "Verificando quantos registros repetidos temos no dataFrame para avaliar se podem afetar nossa análise"
      ]
    },
    {
      "cell_type": "code",
      "metadata": {
        "colab": {
          "base_uri": "https://localhost:8080/",
          "height": 111
        },
        "id": "NMsUYBzE9izn",
        "outputId": "b78a339b-df38-4890-a008-7d83e2eb229d"
      },
      "source": [
        "dados_PR[dados_PR.repetido.eq(True)]"
      ],
      "execution_count": null,
      "outputs": [
        {
          "output_type": "execute_result",
          "data": {
            "text/html": [
              "<div>\n",
              "<style scoped>\n",
              "    .dataframe tbody tr th:only-of-type {\n",
              "        vertical-align: middle;\n",
              "    }\n",
              "\n",
              "    .dataframe tbody tr th {\n",
              "        vertical-align: top;\n",
              "    }\n",
              "\n",
              "    .dataframe thead th {\n",
              "        text-align: right;\n",
              "    }\n",
              "</style>\n",
              "<table border=\"1\" class=\"dataframe\">\n",
              "  <thead>\n",
              "    <tr style=\"text-align: right;\">\n",
              "      <th></th>\n",
              "      <th>data</th>\n",
              "      <th>regiao</th>\n",
              "      <th>uf</th>\n",
              "      <th>cidade</th>\n",
              "      <th>populacao_estimada</th>\n",
              "      <th>tipo_local</th>\n",
              "      <th>casos_novos</th>\n",
              "      <th>obitos_novos</th>\n",
              "      <th>repetido</th>\n",
              "    </tr>\n",
              "  </thead>\n",
              "  <tbody>\n",
              "    <tr>\n",
              "      <th>2</th>\n",
              "      <td>2020-03-14</td>\n",
              "      <td>Centro-Oeste</td>\n",
              "      <td>PR</td>\n",
              "      <td>NaN</td>\n",
              "      <td>11,516,840.00</td>\n",
              "      <td>state</td>\n",
              "      <td>0</td>\n",
              "      <td>0</td>\n",
              "      <td>True</td>\n",
              "    </tr>\n",
              "    <tr>\n",
              "      <th>3</th>\n",
              "      <td>2020-03-15</td>\n",
              "      <td>Centro-Oeste</td>\n",
              "      <td>PR</td>\n",
              "      <td>NaN</td>\n",
              "      <td>11,516,840.00</td>\n",
              "      <td>state</td>\n",
              "      <td>0</td>\n",
              "      <td>0</td>\n",
              "      <td>True</td>\n",
              "    </tr>\n",
              "  </tbody>\n",
              "</table>\n",
              "</div>"
            ],
            "text/plain": [
              "        data        regiao  uf  ... casos_novos  obitos_novos repetido\n",
              "2 2020-03-14  Centro-Oeste  PR  ...           0             0     True\n",
              "3 2020-03-15  Centro-Oeste  PR  ...           0             0     True\n",
              "\n",
              "[2 rows x 9 columns]"
            ]
          },
          "metadata": {
            "tags": []
          },
          "execution_count": 10
        }
      ]
    },
    {
      "cell_type": "markdown",
      "metadata": {
        "id": "EjtgW-Lk9Tqq"
      },
      "source": [
        "Apenas 2 (dois) registros duplicados não afetarão nossa análise."
      ]
    },
    {
      "cell_type": "code",
      "metadata": {
        "colab": {
          "base_uri": "https://localhost:8080/",
          "height": 309
        },
        "id": "OVEanUM1RGP3",
        "outputId": "74f325e2-eeb9-423b-e0b9-da4b8828b735"
      },
      "source": [
        "dados_PR.query('casos_novos == 0')"
      ],
      "execution_count": null,
      "outputs": [
        {
          "output_type": "execute_result",
          "data": {
            "text/html": [
              "<div>\n",
              "<style scoped>\n",
              "    .dataframe tbody tr th:only-of-type {\n",
              "        vertical-align: middle;\n",
              "    }\n",
              "\n",
              "    .dataframe tbody tr th {\n",
              "        vertical-align: top;\n",
              "    }\n",
              "\n",
              "    .dataframe thead th {\n",
              "        text-align: right;\n",
              "    }\n",
              "</style>\n",
              "<table border=\"1\" class=\"dataframe\">\n",
              "  <thead>\n",
              "    <tr style=\"text-align: right;\">\n",
              "      <th></th>\n",
              "      <th>data</th>\n",
              "      <th>regiao</th>\n",
              "      <th>uf</th>\n",
              "      <th>cidade</th>\n",
              "      <th>populacao_estimada</th>\n",
              "      <th>tipo_local</th>\n",
              "      <th>casos_novos</th>\n",
              "      <th>obitos_novos</th>\n",
              "      <th>repetido</th>\n",
              "      <th>casos_acumulados</th>\n",
              "      <th>obitos_acumulados</th>\n",
              "      <th>media_movel_casos</th>\n",
              "      <th>media_movel_obitos</th>\n",
              "      <th>taxa_de_crescimento_casos</th>\n",
              "      <th>taxa_de_crescimento_obitos</th>\n",
              "      <th>obitosNovos7</th>\n",
              "      <th>obitosNovos12</th>\n",
              "      <th>obitosNovos15</th>\n",
              "      <th>obitosNovos28</th>\n",
              "      <th>ano</th>\n",
              "      <th>mes</th>\n",
              "    </tr>\n",
              "  </thead>\n",
              "  <tbody>\n",
              "    <tr>\n",
              "      <th>1</th>\n",
              "      <td>2020-03-13</td>\n",
              "      <td>Centro-Oeste</td>\n",
              "      <td>PR</td>\n",
              "      <td>NaN</td>\n",
              "      <td>11,516,840.00</td>\n",
              "      <td>state</td>\n",
              "      <td>0</td>\n",
              "      <td>0</td>\n",
              "      <td>False</td>\n",
              "      <td>6</td>\n",
              "      <td>0</td>\n",
              "      <td>nan</td>\n",
              "      <td>nan</td>\n",
              "      <td>-6.00</td>\n",
              "      <td>0.00</td>\n",
              "      <td>0.00</td>\n",
              "      <td>0.00</td>\n",
              "      <td>0.00</td>\n",
              "      <td>2.00</td>\n",
              "      <td>2020</td>\n",
              "      <td>3</td>\n",
              "    </tr>\n",
              "    <tr>\n",
              "      <th>2</th>\n",
              "      <td>2020-03-14</td>\n",
              "      <td>Centro-Oeste</td>\n",
              "      <td>PR</td>\n",
              "      <td>NaN</td>\n",
              "      <td>11,516,840.00</td>\n",
              "      <td>state</td>\n",
              "      <td>0</td>\n",
              "      <td>0</td>\n",
              "      <td>True</td>\n",
              "      <td>6</td>\n",
              "      <td>0</td>\n",
              "      <td>nan</td>\n",
              "      <td>nan</td>\n",
              "      <td>0.00</td>\n",
              "      <td>0.00</td>\n",
              "      <td>0.00</td>\n",
              "      <td>0.00</td>\n",
              "      <td>0.00</td>\n",
              "      <td>1.00</td>\n",
              "      <td>2020</td>\n",
              "      <td>3</td>\n",
              "    </tr>\n",
              "    <tr>\n",
              "      <th>3</th>\n",
              "      <td>2020-03-15</td>\n",
              "      <td>Centro-Oeste</td>\n",
              "      <td>PR</td>\n",
              "      <td>NaN</td>\n",
              "      <td>11,516,840.00</td>\n",
              "      <td>state</td>\n",
              "      <td>0</td>\n",
              "      <td>0</td>\n",
              "      <td>True</td>\n",
              "      <td>6</td>\n",
              "      <td>0</td>\n",
              "      <td>nan</td>\n",
              "      <td>nan</td>\n",
              "      <td>0.00</td>\n",
              "      <td>0.00</td>\n",
              "      <td>0.00</td>\n",
              "      <td>2.00</td>\n",
              "      <td>1.00</td>\n",
              "      <td>4.00</td>\n",
              "      <td>2020</td>\n",
              "      <td>3</td>\n",
              "    </tr>\n",
              "    <tr>\n",
              "      <th>4</th>\n",
              "      <td>2020-03-16</td>\n",
              "      <td>Centro-Oeste</td>\n",
              "      <td>PR</td>\n",
              "      <td>NaN</td>\n",
              "      <td>11,516,840.00</td>\n",
              "      <td>state</td>\n",
              "      <td>0</td>\n",
              "      <td>0</td>\n",
              "      <td>False</td>\n",
              "      <td>6</td>\n",
              "      <td>0</td>\n",
              "      <td>nan</td>\n",
              "      <td>nan</td>\n",
              "      <td>0.00</td>\n",
              "      <td>0.00</td>\n",
              "      <td>0.00</td>\n",
              "      <td>0.00</td>\n",
              "      <td>0.00</td>\n",
              "      <td>2.00</td>\n",
              "      <td>2020</td>\n",
              "      <td>3</td>\n",
              "    </tr>\n",
              "    <tr>\n",
              "      <th>136</th>\n",
              "      <td>2020-07-26</td>\n",
              "      <td>Centro-Oeste</td>\n",
              "      <td>PR</td>\n",
              "      <td>NaN</td>\n",
              "      <td>11,516,840.00</td>\n",
              "      <td>state</td>\n",
              "      <td>0</td>\n",
              "      <td>18</td>\n",
              "      <td>False</td>\n",
              "      <td>65593</td>\n",
              "      <td>1671</td>\n",
              "      <td>1,618.80</td>\n",
              "      <td>42.50</td>\n",
              "      <td>-1,334.00</td>\n",
              "      <td>-37.00</td>\n",
              "      <td>30.00</td>\n",
              "      <td>121.00</td>\n",
              "      <td>53.00</td>\n",
              "      <td>16.00</td>\n",
              "      <td>2020</td>\n",
              "      <td>7</td>\n",
              "    </tr>\n",
              "  </tbody>\n",
              "</table>\n",
              "</div>"
            ],
            "text/plain": [
              "          data        regiao  uf  ... obitosNovos28   ano mes\n",
              "1   2020-03-13  Centro-Oeste  PR  ...          2.00  2020   3\n",
              "2   2020-03-14  Centro-Oeste  PR  ...          1.00  2020   3\n",
              "3   2020-03-15  Centro-Oeste  PR  ...          4.00  2020   3\n",
              "4   2020-03-16  Centro-Oeste  PR  ...          2.00  2020   3\n",
              "136 2020-07-26  Centro-Oeste  PR  ...         16.00  2020   7\n",
              "\n",
              "[5 rows x 21 columns]"
            ]
          },
          "metadata": {
            "tags": []
          },
          "execution_count": 52
        }
      ]
    },
    {
      "cell_type": "markdown",
      "metadata": {
        "id": "OaxM3JGUVLwu"
      },
      "source": [
        "5 (cinco) registros zerados de casos novos comunicados sendo 4 deles em Março de 2020, como veremos os 4 (quatro) primeiros meses de 2020 a situação estava controlada. "
      ]
    },
    {
      "cell_type": "markdown",
      "metadata": {
        "id": "uQ_ogQD86041"
      },
      "source": [
        "### Criando novas colunas com informações para estudo"
      ]
    },
    {
      "cell_type": "markdown",
      "metadata": {
        "id": "yBbnu0h0xGr2"
      },
      "source": [
        "A fim de apurar o tempo médio entre a contaminação e o óbitos, busquei informações na mídia sobre o assunto.\n",
        "\n",
        "* Segunda essa matéria do [Amazonas atual](https://amazonasatual.com.br/tempo-medio-entre-o-inicio-dos-sintomas-e-morte-por-covid-19-e-de-12-dias-diz-fvs/), o tempo médio entre o início dos sintomas e morte por Covid-19 é de **12 dias**, diz FVS (Fundação de Vigilância em Saúde do Amazonas) - 20/05/2020\n",
        "\n",
        "* Esse outra matéria do [IG](https://saude.ig.com.br/2020-07-24/em-media-covid-19-leva-15-dias-para-matar-pacientes-no-brasil-aponta-estudo.html) informa que em média, Covid-19 leva **15 dias** para matar pacientes no Brasil - 24/07/2020\n",
        "\n",
        "* Nessa matéria do [Diário do Nordeste](https://diariodonordeste.verdesmares.com.br/metro/tempo-medio-entre-inicio-de-sintomas-e-morte-por-covid-no-ceara-e-10-dias-maior-na-segunda-onda-1.3097493) o tempo médio entre início de sintomas e morte por Covid no Ceará é de 10 (dez) dias maior na segunda onda, em 2021, intervalo entre primeiros sinais da doença e o óbito do paciente é de **28 dias** - 15/06/2021\n",
        "\n",
        "\n",
        "Considerando as matérias acima, vamos criar colunas com o registro de óbitos de acordo com os dias médios apresentados, além de campos para os casos acumulados e a média móvel de 10 dias, além da taxa de crescimento de casos e óbitos.\n"
      ]
    },
    {
      "cell_type": "code",
      "metadata": {
        "id": "MYspf5CA5fYP"
      },
      "source": [
        "dados_PR['casos_acumulados'] = dados_PR['casos_novos'].cumsum()\n",
        "dados_PR['obitos_acumulados'] = dados_PR['obitos_novos'].cumsum()\n",
        "\n",
        "dados_PR['media_movel_casos'] = dados_PR['casos_novos'].rolling(window=10).mean()\n",
        "dados_PR['media_movel_obitos'] = dados_PR['obitos_novos'].rolling(window=10).mean()\n",
        "\n",
        "dados_PR['taxa_de_crescimento_casos'] = dados_PR['casos_novos'].diff()\n",
        "dados_PR['taxa_de_crescimento_obitos'] = dados_PR['obitos_novos'].diff()\n",
        "\n",
        "dados_PR['obitosNovos7'] = dados_PR['obitos_novos'].shift(-7)\n",
        "dados_PR['obitosNovos12'] = dados_PR['obitos_novos'].shift(-12)\n",
        "dados_PR['obitosNovos15'] = dados_PR['obitos_novos'].shift(-15)\n",
        "dados_PR['obitosNovos28'] = dados_PR['obitos_novos'].shift(-28)\n",
        "\n",
        "dados_PR['ano'] = pd.DatetimeIndex(dados_PR.data).year\n",
        "dados_PR['mes'] = pd.DatetimeIndex(dados_PR.data).month"
      ],
      "execution_count": null,
      "outputs": []
    },
    {
      "cell_type": "markdown",
      "metadata": {
        "id": "UQ7aTIMz_2zs"
      },
      "source": [
        "#Evolução da COVID-19 no Estado do Paraná\n",
        "\n",
        "**Dados gerais do Paraná**\n",
        "* Região: **Sul**.\n",
        "* Capital: **Curitiba**.\n",
        "* Área territorial: **199.315 km²** (IBGE, 2019).\n",
        "* População: **11.516.840 habitantes** (IBGE, 2020).\n",
        "* Densidade demográfica: **52,4 hab./km²** (IBGE, 2010).\n",
        "* Fuso: **UTC-3**.\n",
        "* Clima: **subtropical**.\n",
        "\n"
      ]
    },
    {
      "cell_type": "markdown",
      "metadata": {
        "id": "ElrlWfYTdRql"
      },
      "source": [
        "####Tabela com os registros de 01/11/2020 até 31/03/2021 com mais de 8.000 (oito mil) casos novos."
      ]
    },
    {
      "cell_type": "code",
      "metadata": {
        "colab": {
          "base_uri": "https://localhost:8080/",
          "height": 359
        },
        "id": "fNlJf4CJQr2H",
        "outputId": "e2d94651-bd08-4a66-e1c8-50dc5581419d"
      },
      "source": [
        "df_tab = dados_PR[['data','casos_novos','obitos_novos']].query('data > \"2020-11-01\" and casos_novos > 8000 and data < \"2021-03-31\"').reset_index()\n",
        "df_tab['data'] = df_tab['data'].dt.strftime('%d/%m/%Y')\n",
        "df_tab"
      ],
      "execution_count": null,
      "outputs": [
        {
          "output_type": "execute_result",
          "data": {
            "text/html": [
              "<div>\n",
              "<style scoped>\n",
              "    .dataframe tbody tr th:only-of-type {\n",
              "        vertical-align: middle;\n",
              "    }\n",
              "\n",
              "    .dataframe tbody tr th {\n",
              "        vertical-align: top;\n",
              "    }\n",
              "\n",
              "    .dataframe thead th {\n",
              "        text-align: right;\n",
              "    }\n",
              "</style>\n",
              "<table border=\"1\" class=\"dataframe\">\n",
              "  <thead>\n",
              "    <tr style=\"text-align: right;\">\n",
              "      <th></th>\n",
              "      <th>index</th>\n",
              "      <th>data</th>\n",
              "      <th>casos_novos</th>\n",
              "      <th>obitos_novos</th>\n",
              "    </tr>\n",
              "  </thead>\n",
              "  <tbody>\n",
              "    <tr>\n",
              "      <th>0</th>\n",
              "      <td>246</td>\n",
              "      <td>13/11/2020</td>\n",
              "      <td>9913</td>\n",
              "      <td>78</td>\n",
              "    </tr>\n",
              "    <tr>\n",
              "      <th>1</th>\n",
              "      <td>279</td>\n",
              "      <td>16/12/2020</td>\n",
              "      <td>20197</td>\n",
              "      <td>198</td>\n",
              "    </tr>\n",
              "    <tr>\n",
              "      <th>2</th>\n",
              "      <td>287</td>\n",
              "      <td>24/12/2020</td>\n",
              "      <td>9793</td>\n",
              "      <td>72</td>\n",
              "    </tr>\n",
              "    <tr>\n",
              "      <th>3</th>\n",
              "      <td>301</td>\n",
              "      <td>07/01/2021</td>\n",
              "      <td>32436</td>\n",
              "      <td>396</td>\n",
              "    </tr>\n",
              "    <tr>\n",
              "      <th>4</th>\n",
              "      <td>306</td>\n",
              "      <td>12/01/2021</td>\n",
              "      <td>8983</td>\n",
              "      <td>117</td>\n",
              "    </tr>\n",
              "    <tr>\n",
              "      <th>5</th>\n",
              "      <td>359</td>\n",
              "      <td>06/03/2021</td>\n",
              "      <td>8598</td>\n",
              "      <td>148</td>\n",
              "    </tr>\n",
              "    <tr>\n",
              "      <th>6</th>\n",
              "      <td>360</td>\n",
              "      <td>07/03/2021</td>\n",
              "      <td>45020</td>\n",
              "      <td>247</td>\n",
              "    </tr>\n",
              "    <tr>\n",
              "      <th>7</th>\n",
              "      <td>363</td>\n",
              "      <td>10/03/2021</td>\n",
              "      <td>8345</td>\n",
              "      <td>244</td>\n",
              "    </tr>\n",
              "    <tr>\n",
              "      <th>8</th>\n",
              "      <td>372</td>\n",
              "      <td>19/03/2021</td>\n",
              "      <td>8146</td>\n",
              "      <td>269</td>\n",
              "    </tr>\n",
              "    <tr>\n",
              "      <th>9</th>\n",
              "      <td>378</td>\n",
              "      <td>25/03/2021</td>\n",
              "      <td>11331</td>\n",
              "      <td>296</td>\n",
              "    </tr>\n",
              "  </tbody>\n",
              "</table>\n",
              "</div>"
            ],
            "text/plain": [
              "   index        data  casos_novos  obitos_novos\n",
              "0    246  13/11/2020         9913            78\n",
              "1    279  16/12/2020        20197           198\n",
              "2    287  24/12/2020         9793            72\n",
              "3    301  07/01/2021        32436           396\n",
              "4    306  12/01/2021         8983           117\n",
              "5    359  06/03/2021         8598           148\n",
              "6    360  07/03/2021        45020           247\n",
              "7    363  10/03/2021         8345           244\n",
              "8    372  19/03/2021         8146           269\n",
              "9    378  25/03/2021        11331           296"
            ]
          },
          "metadata": {
            "tags": []
          },
          "execution_count": 14
        }
      ]
    },
    {
      "cell_type": "markdown",
      "metadata": {
        "id": "SSp5cqWiQI2B"
      },
      "source": [
        "Vamos dar um ZOOM no gráfico acima, limitando nosso eixo (y) em 15.000 (quinze mil)"
      ]
    },
    {
      "cell_type": "code",
      "metadata": {
        "colab": {
          "base_uri": "https://localhost:8080/",
          "height": 566
        },
        "id": "l87xFdyvPe6s",
        "outputId": "a0870012-2deb-4541-cf5a-6590fd870bc4"
      },
      "source": [
        "fig, ax = plt.subplots()\n",
        "plt.title('Média Móvel de Casos novos (eixo limitado)')\n",
        "sns.lineplot(x='data', y='casos_novos', data=dados_PR, ax=ax)\n",
        "sns.lineplot(x='data', y='media_movel_casos', data=dados_PR, ax=ax)\n",
        "plt.xlabel('Período da apuração', labelpad=15)\n",
        "plt.ylabel('# de casos')\n",
        "plt.grid(axis='y')\n",
        "plt.xticks(rotation=45)\n",
        "plt.ylim(0,15000)\n",
        "sns.despine()\n",
        "ax.yaxis.set_major_formatter(ticker.StrMethodFormatter('{x:,.0f}'))\n",
        "ax.xaxis.set_major_locator(ticker.IndexLocator(base=30,offset=0))\n",
        "ax.xaxis.set_major_formatter(mdates.DateFormatter('%m/%Y'))\n",
        "plt.legend(labels=['Casos Novos', 'Média Móvel'], loc=2, frameon=True, shadow=True)\n",
        "plt.show()"
      ],
      "execution_count": null,
      "outputs": [
        {
          "output_type": "display_data",
          "data": {
            "image/png": "[encoded data removed]",
            "text/plain": [
              "<Figure size 1152x576 with 1 Axes>"
            ]
          },
          "metadata": {
            "tags": []
          }
        }
      ]
    },
    {
      "cell_type": "markdown",
      "metadata": {
        "id": "v8LcxPH2mIGF"
      },
      "source": [
        "# Conclusão\n",
        "\n",
        "---\n",
        "\n",
        "Foram importados os dados do site [Brasil.IO](https://brasil.io/dataset/covid19/caso_full/) em 30/06/2021 e fizemos diversos gráficos para demonstrar a evolução do contágio da COVID-19 e consequentemente os óbitos no Estado do Paraná. Foi apresentado os gráficos de média móvel de casos e óbitos diários e realizamos estudos com o Prophet() para análise e desenvolvimento de um modelo de previsão de novos casos.\n",
        "\n",
        "A situação é preocupante no Paraná, mesmo com o avanço da vacinação a média móvel nesse ano de 2021 aumentou consideravelmente, temos a apresentação de uma queda no final do mês de junho/2021 no gráfico de média móvel e esperamos ser uma tendência e não apenas uma falha de comunicação das informações.\n",
        "\n",
        "O surgimento de novas cepas, a baixa cobertura vacinal no Estado (com 40% a população vacinadas com a 1ª dose e apensa 15% com a 2º dose) e a falta de conscientização da população, são desafios para que consigamos voltar ao convívio social de Janeiro de 2020."
      ]
    },
    {
      "cell_type": "markdown",
      "metadata": {
        "id": "GyaaFTZeb4sg"
      },
      "source": [
        "## Sugestão de Estudo\n",
        "\n",
        "* Desenvolver um modelo para analisar os casos de óbitos e aplicar o modelo desenvolvido nas cidades do Estado."
      ]
    }
  ]
}